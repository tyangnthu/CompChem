{
  "nbformat": 4,
  "nbformat_minor": 0,
  "metadata": {
    "colab": {
      "provenance": [],
      "gpuType": "T4",
      "authorship_tag": "ABX9TyMVe1Ur72D3n3lHQUGR9AwD",
      "include_colab_link": true
    },
    "kernelspec": {
      "name": "python3",
      "display_name": "Python 3"
    },
    "language_info": {
      "name": "python"
    },
    "accelerator": "GPU"
  },
  "cells": [
    {
      "cell_type": "markdown",
      "metadata": {
        "id": "view-in-github",
        "colab_type": "text"
      },
      "source": [
        "<a href=\"https://colab.research.google.com/github/tyangnthu/CompChem/blob/main/compchem_week13.ipynb\" target=\"_parent\"><img src=\"https://colab.research.google.com/assets/colab-badge.svg\" alt=\"Open In Colab\"/></a>"
      ]
    },
    {
      "cell_type": "markdown",
      "source": [
        "Exercise0"
      ],
      "metadata": {
        "id": "u84TReXTfrcW"
      }
    },
    {
      "cell_type": "code",
      "source": [
        "!git clone https://github.com/tyangnthu/CompChem.git"
      ],
      "metadata": {
        "colab": {
          "base_uri": "https://localhost:8080/"
        },
        "id": "xr8ik2h3fvHu",
        "outputId": "a958e60a-3292-4a27-da7f-62dd1fc53a25"
      },
      "execution_count": 3,
      "outputs": [
        {
          "output_type": "stream",
          "name": "stdout",
          "text": [
            "Cloning into 'CompChem'...\n",
            "remote: Enumerating objects: 1986, done.\u001b[K\n",
            "remote: Counting objects: 100% (747/747), done.\u001b[K\n",
            "remote: Compressing objects: 100% (507/507), done.\u001b[K\n",
            "remote: Total 1986 (delta 251), reused 723 (delta 234), pack-reused 1239\u001b[K\n",
            "Receiving objects: 100% (1986/1986), 977.66 MiB | 16.77 MiB/s, done.\n",
            "Resolving deltas: 100% (1020/1020), done.\n",
            "Updating files: 100% (964/964), done.\n"
          ]
        }
      ]
    },
    {
      "cell_type": "markdown",
      "source": [
        "Exercise1"
      ],
      "metadata": {
        "id": "pYYG84AQfttW"
      }
    },
    {
      "cell_type": "code",
      "execution_count": 15,
      "metadata": {
        "colab": {
          "base_uri": "https://localhost:8080/"
        },
        "id": "xbsm1mTUeJEx",
        "outputId": "470440ef-d0de-4ec7-ec10-277e0c94de35"
      },
      "outputs": [
        {
          "output_type": "stream",
          "name": "stdout",
          "text": [
            "/content/CompChem/Practice/Week13/Exercise1\n",
            "Cloning into 'scscore'...\n",
            "remote: Enumerating objects: 289, done.\u001b[K\n",
            "remote: Total 289 (delta 0), reused 0 (delta 0), pack-reused 289\u001b[K\n",
            "Receiving objects: 100% (289/289), 401.35 MiB | 26.42 MiB/s, done.\n",
            "Resolving deltas: 100% (63/63), done.\n",
            "Updating files: 100% (250/250), done.\n",
            "Looking in indexes: https://pypi.org/simple, https://us-python.pkg.dev/colab-wheels/public/simple/\n",
            "Requirement already satisfied: rdkit in /usr/local/lib/python3.10/dist-packages (2023.3.1)\n",
            "Requirement already satisfied: numpy in /usr/local/lib/python3.10/dist-packages (from rdkit) (1.22.4)\n",
            "Requirement already satisfied: Pillow in /usr/local/lib/python3.10/dist-packages (from rdkit) (8.4.0)\n"
          ]
        }
      ],
      "source": [
        "%cd /content/CompChem/Practice/Week13/Exercise1\n",
        "!git clone https://github.com/connorcoley/scscore.git\n",
        "!pip install rdkit"
      ]
    },
    {
      "cell_type": "code",
      "source": [
        "%cd /content/CompChem/Practice/Week13/Exercise1/scscore\n",
        "!python scscore/standalone_model_numpy.py"
      ],
      "metadata": {
        "colab": {
          "base_uri": "https://localhost:8080/"
        },
        "id": "hsw1bIQfe5aM",
        "outputId": "82382c41-b777-499e-c63b-c451a69d9654"
      },
      "execution_count": 16,
      "outputs": [
        {
          "output_type": "stream",
          "name": "stdout",
          "text": [
            "/content/CompChem/Practice/Week13/Exercise1/scscore\n",
            "Restored variables from /content/CompChem/Practice/Week13/Exercise1/scscore/models/full_reaxys_model_1024bool/model.ckpt-10654.as_numpy.json.gz\n",
            "/content/CompChem/Practice/Week13/Exercise1/scscore/scscore/standalone_model_numpy.py:53: DeprecationWarning: `np.bool` is a deprecated alias for the builtin `bool`. To silence this warning, use `bool` by itself. Doing this will not modify any behavior and is safe. If you specifically wanted the numpy scalar type, use `np.bool_` here.\n",
            "Deprecated in NumPy 1.20; for more details and guidance: https://numpy.org/devdocs/release/1.20.0-notes.html#deprecations\n",
            "  useChirality=True), dtype=np.bool)\n",
            "1.4323 <--- CCCOCCC\n",
            "1.8913 <--- CCCNC1=CC=CC=C1\n",
            "Restored variables from /content/CompChem/Practice/Week13/Exercise1/scscore/models/full_reaxys_model_2048bool/model.ckpt-10654.as_numpy.json.gz\n",
            "1.3429 <--- CCCOCCC\n",
            "1.8087 <--- CCCNC1=CC=CC=C1\n",
            "Restored variables from /content/CompChem/Practice/Week13/Exercise1/scscore/models/full_reaxys_model_1024uint8/model.ckpt-10654.as_numpy.json.gz\n",
            "1.3853 <--- CCCOCCC\n",
            "1.7232 <--- CCCNC1=CC=CC=C1\n"
          ]
        }
      ]
    },
    {
      "cell_type": "code",
      "source": [],
      "metadata": {
        "id": "lQBhyJTOfNQn"
      },
      "execution_count": null,
      "outputs": []
    },
    {
      "cell_type": "markdown",
      "source": [
        "Exercise2"
      ],
      "metadata": {
        "id": "PlSweKm8gB1f"
      }
    },
    {
      "cell_type": "code",
      "source": [
        "%cd /content/CompChem/Practice/Week13/Exercise2\n",
        "!pip install rdkit\n",
        "!python train.py"
      ],
      "metadata": {
        "colab": {
          "base_uri": "https://localhost:8080/"
        },
        "id": "-m3eAgregCeM",
        "outputId": "353967bf-1c27-4c08-9eef-47895028bba8"
      },
      "execution_count": null,
      "outputs": [
        {
          "output_type": "stream",
          "name": "stdout",
          "text": [
            "/content/CompChem/Practice/Week13/Exercise2\n",
            "Looking in indexes: https://pypi.org/simple, https://us-python.pkg.dev/colab-wheels/public/simple/\n",
            "Collecting rdkit\n",
            "  Downloading rdkit-2023.3.1-cp310-cp310-manylinux_2_17_x86_64.manylinux2014_x86_64.whl (29.7 MB)\n",
            "\u001b[2K     \u001b[90m━━━━━━━━━━━━━━━━━━━━━━━━━━━━━━━━━━━━━━━━\u001b[0m \u001b[32m29.7/29.7 MB\u001b[0m \u001b[31m64.5 MB/s\u001b[0m eta \u001b[36m0:00:00\u001b[0m\n",
            "\u001b[?25hRequirement already satisfied: numpy in /usr/local/lib/python3.10/dist-packages (from rdkit) (1.22.4)\n",
            "Requirement already satisfied: Pillow in /usr/local/lib/python3.10/dist-packages (from rdkit) (8.4.0)\n",
            "Installing collected packages: rdkit\n",
            "Successfully installed rdkit-2023.3.1\n",
            "\n",
            "Num of trainset and testset are 3199,800\n",
            "/usr/local/lib/python3.10/dist-packages/torch/nn/_reduction.py:42: UserWarning: size_average and reduce args will be deprecated, please use reduction='sum' instead.\n",
            "  warnings.warn(warning.format(ret))\n",
            "Model #Params: 332K\n",
            "100% 60/60 [01:25<00:00,  1.43s/it]\n",
            "\n",
            "Num of trainset and testset are 3199,800\n",
            "/usr/local/lib/python3.10/dist-packages/torch/nn/_reduction.py:42: UserWarning: size_average and reduce args will be deprecated, please use reduction='sum' instead.\n",
            "  warnings.warn(warning.format(ret))\n",
            "Model #Params: 1321K\n",
            "100% 60/60 [01:27<00:00,  1.45s/it]\n",
            "\n",
            "Num of trainset and testset are 3199,800\n",
            "/usr/local/lib/python3.10/dist-packages/torch/nn/_reduction.py:42: UserWarning: size_average and reduce args will be deprecated, please use reduction='sum' instead.\n",
            "  warnings.warn(warning.format(ret))\n",
            "Model #Params: 84K\n",
            " 47% 28/60 [00:39<00:44,  1.39s/it]"
          ]
        }
      ]
    },
    {
      "cell_type": "code",
      "source": [],
      "metadata": {
        "id": "GzDK48q-iIzb"
      },
      "execution_count": null,
      "outputs": []
    }
  ]
}