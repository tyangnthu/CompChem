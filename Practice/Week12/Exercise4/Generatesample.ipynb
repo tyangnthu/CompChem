{
 "cells": [
  {
   "cell_type": "code",
   "execution_count": null,
   "metadata": {},
   "outputs": [],
   "source": [
    "import pandas as pd\n",
    "import rdkit\n",
    "from rdkit import DataStructs, Chem\n",
    "from rdkit.Chem import MACCSkeys, Draw\n",
    "import torch\n",
    "from fast_jtnn import *\n",
    "from rdkit import RDLogger\n",
    "\n",
    "# Disable RDKit warning messages\n",
    "RDLogger.DisableLog('rdApp.*')\n"
   ]
  },
  {
   "cell_type": "code",
   "execution_count": null,
   "metadata": {},
   "outputs": [],
   "source": [
    "from fast_molvae.sample import load_model\n",
    "model = load_model('./data/vocab.txt', './fast_molvae/vae_model/model.epoch-19')\n",
    "vocab = [x.strip(\"\\r\\n \") for x in open('./data/vocab.txt')]\n",
    "vocab = Vocab(vocab)"
   ]
  },
  {
   "attachments": {},
   "cell_type": "markdown",
   "metadata": {},
   "source": [
    "Generate Sample"
   ]
  },
  {
   "cell_type": "code",
   "execution_count": null,
   "metadata": {},
   "outputs": [],
   "source": [
    "smi_target = ['c1ccccc1']\n",
    "decode_smiles = set()\n",
    "step_size = 0.01\n",
    "generate_samples_count = 5\n",
    "tree_batch = [MolTree(s) for s in smi_target]\n",
    "_, jtenc_holder, mpn_holder = datautils.tensorize(tree_batch, vocab, assm=False)\n",
    "tree_vecs, _, mol_vecs = model.encode(jtenc_holder, mpn_holder)\n",
    "count = 0\n",
    "while len(decode_smiles) < generate_samples_count:\n",
    "    count += 1\n",
    "    z_tree_mean = model.T_mean(tree_vecs)\n",
    "    epsilon_tree = create_var(torch.randn_like(z_tree_mean))\n",
    "    z_tree_log_var = -torch.abs(model.T_var(tree_vecs))\n",
    "    z_mol_mean = model.G_mean(mol_vecs)\n",
    "    z_mol_log_var = -torch.abs(model.G_var(mol_vecs))\n",
    "    z_tree_mean_new = z_tree_mean + epsilon_tree * step_size\n",
    "    epsilon_mol = create_var(torch.randn_like(z_mol_mean))\n",
    "    z_mol_mean_new = z_tree_mean + epsilon_mol * step_size\n",
    "    decode_smiles.add(model.decode(z_tree_mean_new, z_mol_mean_new, False))\n",
    "    if count > generate_samples_count :\n",
    "        step_size += 0.05\n",
    "        count = 0\n",
    "        print('Increase step size !')\n",
    "img = Draw.MolsToGridImage([Chem.MolFromSmiles(mol) for mol in decode_smiles], molsPerRow=5,subImgSize=(500,500), legends=decode_smiles)\n",
    "img"
   ]
  },
  {
   "cell_type": "code",
   "execution_count": null,
   "metadata": {},
   "outputs": [],
   "source": []
  }
 ],
 "metadata": {
  "kernelspec": {
   "display_name": "Python 3.7.13 ('chem': conda)",
   "language": "python",
   "name": "python3"
  },
  "language_info": {
   "codemirror_mode": {
    "name": "ipython",
    "version": 3
   },
   "file_extension": ".py",
   "mimetype": "text/x-python",
   "name": "python",
   "nbconvert_exporter": "python",
   "pygments_lexer": "ipython3",
   "version": "3.6.13"
  },
  "vscode": {
   "interpreter": {
    "hash": "e352abfa7858f70c3d8dbaefa0b222e2f1141758479838f509c851ab35fc26b9"
   }
  }
 },
 "nbformat": 4,
 "nbformat_minor": 4
}
