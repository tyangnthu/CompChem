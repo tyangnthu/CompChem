{
 "cells": [
  {
   "cell_type": "code",
   "execution_count": null,
   "metadata": {},
   "outputs": [],
   "source": [
    "import re ,scipy,os ,glob\n",
    "import pandas as pd\n",
    "import numpy as np\n",
    "from matplotlib import pyplot as plt, ticker\n",
    "import scipy.optimize as opt\n",
    "from collections import defaultdict\n",
    "import numpy as np\n",
    "from scipy.interpolate import interp1d\n",
    "from scipy.optimize import curve_fit"
   ]
  },
  {
   "cell_type": "code",
   "execution_count": null,
   "metadata": {},
   "outputs": [],
   "source": [
    "trainfile = '../Exercise2/2-1024/train-error-output/epoch-55-train_error.csv'\n",
    "testfile = '../Exercise2/2-1024/test-error-output/epoch-55-test_error.csv'\n",
    "df_train = pd.read_csv(trainfile,header=0)\n",
    "df_test = pd.read_csv(testfile,header=0)\n",
    "\n",
    "target = 'TPSA'\n",
    "y1_tpsa = df_train[target + '_Predict']\n",
    "x1_tpsa = df_train[target + '_True']  \n",
    "y2_tpsa = df_test[target + '_Predict']\n",
    "x2_tpsa = df_test[target + '_True']  \n",
    "tpsa_rmse1 = np.sqrt(np.mean((x1_tpsa-y1_tpsa)**2))\n",
    "tpsa_mae_1 = np.mean(abs(x1_tpsa-y1_tpsa))\n",
    "tpsa_rmse2 = np.sqrt(np.mean((x2_tpsa-y2_tpsa)**2))\n",
    "tpsa_mae_2 = np.mean(abs(x2_tpsa-y2_tpsa))\n",
    "target = 'Logp'\n",
    "y1_logp = df_train['LogP_predict']\n",
    "x1_logp = df_train[target + '_True']  \n",
    "y2_logp = df_test['LogP_predict']\n",
    "x2_logp = df_test[target + '_True']  \n",
    "logp_rmse1 = np.sqrt(np.mean((x1_logp-y1_logp)**2))\n",
    "logp_mae_1 = np.mean(abs(x1_logp-y1_logp))\n",
    "logp_rmse2 = np.sqrt(np.mean((x2_logp-y2_logp)**2))\n",
    "logp_mae_2 = np.mean(abs(x2_logp-y2_logp))\n",
    "\n",
    "\n",
    "fig, ax = plt.subplots(figsize=(6,6))\n",
    "# print(f)\n",
    "target = 'TPSA'\n",
    "xlabel, ylabel = '%s$_{true}$'%(str.upper(target)),'%s$_{predict}$' %(str.upper(target))\n",
    "\n",
    "ax.set_xlabel(xlabel, fontsize=18)\n",
    "ax.set_ylabel(ylabel, fontsize=18)\n",
    "## find the boundaries of X and Y values\n",
    "# Ensure the aspect ratio is square\n",
    "# ax.set_aspect(\"equal\", adjustable=\"box\")\n",
    "# rmse2 = np.sqrt(np.mean((x2-y2)**2))\n",
    "# mae_2 = np.mean(abs(x2-y2))\n",
    "\n",
    "dist = [[0,5],[0,5]]\n",
    "#string = '\\n'.join(('train RMSE %.3f'%rmse1)),'test RMSE %.3f'%rmse2))\n",
    "string = 'train RMSE %.3f \\ntest RMSE %.3f\\ntrain MAE %.3f\\ntest MAE %.3f'%(tpsa_rmse1,tpsa_rmse2,tpsa_mae_1,tpsa_mae_2)\n",
    "props = dict(boxstyle='round', facecolor='white', alpha=0.8)\n",
    "ax.text(0.05, 0.95, string, transform=ax.transAxes, fontsize=10,\n",
    "        verticalalignment='top',bbox=props)\n",
    "ax.scatter(x1_tpsa,y1_tpsa,c='royalblue',edgecolors='black',label='train',alpha=0.6)\n",
    "ax.scatter(x2_tpsa,y2_tpsa,c='orange',edgecolors='black',label='test',alpha=0.6)\n",
    "ax.plot([0, 1], [0, 1], \"--\",lw=2,c = 'black',transform=ax.transAxes)\n",
    "plt.legend(loc='lower right')\n",
    "fig, ax = plt.subplots(figsize=(6,6))\n",
    "# print(f)\n",
    "target = 'Logp'\n",
    "xmin, xmax = 0,1\n",
    "ymin, ymax = 0,1\n",
    "xmajor, xminor = 0.5,0.25\n",
    "ymajor, yminor = 0.5,0.25\n",
    "xlabel, ylabel = '%s$_{true}$'%(str.upper(target)),'%s$_{predict}$' %(str.upper(target))\n",
    "\n",
    "## find the boundaries of X and Y values\n",
    "# Ensure the aspect ratio is square\n",
    "# ax.set_aspect(\"equal\", adjustable=\"box\")\n",
    "# rmse2 = np.sqrt(np.mean((x2-y2)**2))\n",
    "# mae_2 = np.mean(abs(x2-y2))\n",
    "\n",
    "dist = [[0,5],[0,5]]\n",
    "#string = '\\n'.join(('train RMSE %.3f'%rmse1)),'test RMSE %.3f'%rmse2))\n",
    "string = 'train RMSE %.3f \\ntest RMSE %.3f\\ntrain MAE %.3f\\ntest MAE %.3f'%(logp_rmse1,logp_rmse2,logp_mae_1,logp_mae_2)\n",
    "props = dict(boxstyle='round', facecolor='white', alpha=0.8)\n",
    "ax.text(0.05, 0.95, string, transform=ax.transAxes, fontsize=10,\n",
    "        verticalalignment='top',bbox=props)\n",
    "ax.scatter(x1_logp,y1_logp,c='royalblue',edgecolors='black',label='train',alpha=0.6)\n",
    "ax.scatter(x2_logp,y2_logp,c='orange',edgecolors='black',label='test',alpha=0.6)\n",
    "ax.plot([0, 1], [0, 1], \"--\",lw=2,c = 'black',transform=ax.transAxes)\n",
    "plt.legend(loc='lower right')\n"
   ]
  }
 ],
 "metadata": {
  "kernelspec": {
   "display_name": "Python 3.7.13 ('chem': conda)",
   "language": "python",
   "name": "python3"
  },
  "language_info": {
   "codemirror_mode": {
    "name": "ipython",
    "version": 3
   },
   "file_extension": ".py",
   "mimetype": "text/x-python",
   "name": "python",
   "nbconvert_exporter": "python",
   "pygments_lexer": "ipython3",
   "version": "3.6.13"
  },
  "orig_nbformat": 4,
  "vscode": {
   "interpreter": {
    "hash": "e352abfa7858f70c3d8dbaefa0b222e2f1141758479838f509c851ab35fc26b9"
   }
  }
 },
 "nbformat": 4,
 "nbformat_minor": 2
}
