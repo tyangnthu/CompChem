{
 "cells": [
  {
   "cell_type": "code",
   "execution_count": null,
   "metadata": {},
   "outputs": [],
   "source": [
    "from rdkit.Chem import PandasTools as pt\n",
    "import pandas as pd\n",
    "from rdkit import Chem\n",
    "from rdkit.Chem import AllChem\n",
    "from rdkit.Chem import Draw\n",
    "from rdkit.Chem.Draw import IPythonConsole\n",
    "import os\n",
    "df = pd.read_csv(os.path.join(os.path.expanduser('~'),'CompChem/Practice/Week12/data/smis.csv'),header=0)\n",
    "pt.AddMoleculeColumnToFrame(df,'smiles','molecule')\n",
    "pd.set_option('display.max_rows', 7000)\n",
    "df"
   ]
  }
 ],
 "metadata": {
  "kernelspec": {
   "display_name": "Python 3.7.13 ('chem')",
   "language": "python",
   "name": "python3"
  },
  "language_info": {
   "codemirror_mode": {
    "name": "ipython",
    "version": 3
   },
   "file_extension": ".py",
   "mimetype": "text/x-python",
   "name": "python",
   "nbconvert_exporter": "python",
   "pygments_lexer": "ipython3",
   "version": "3.7.13"
  },
  "orig_nbformat": 4,
  "vscode": {
   "interpreter": {
    "hash": "e352abfa7858f70c3d8dbaefa0b222e2f1141758479838f509c851ab35fc26b9"
   }
  }
 },
 "nbformat": 4,
 "nbformat_minor": 2
}
