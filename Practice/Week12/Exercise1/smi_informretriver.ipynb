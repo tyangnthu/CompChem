{
 "cells": [
  {
   "cell_type": "code",
   "execution_count": null,
   "metadata": {},
   "outputs": [],
   "source": [
    "from rdkit import Chem\n",
    "from rdkit.Chem import AllChem\n",
    "from rdkit.Chem import Descriptors\n",
    "from smi_inform import *\n",
    "import pickle,os\n",
    "smiles = open(os.path.join(os.path.expanduser('~'),'CompChem/Practice/Week12/data/smis.csv','r')).read().splitlines()\n",
    "smiles = smiles[:4000]\n",
    "radiuss = [1,2]\n",
    "nBits = [128,256,512,1024]\n",
    "for radius in radiuss:\n",
    "    for nBit in nBits:\n",
    "        tot_data = []\n",
    "        for smi in smiles:\n",
    "            molobject = smi_inform(int(radius),int(nBit))\n",
    "            mol = molobject.get_mol(smi)\n",
    "            if mol != None:\n",
    "                molobject.get_prop(mol)\n",
    "                tot_data.append(molobject)\n",
    "        with open(os.path.join((os.path.expanduser('~'),'CompChem/Practice/Week12/data','%s-%s.pkl' %(radius,nBit))),'wb') as f1:\n",
    "            pickle.dump(tot_data,f1)\n",
    "    \n",
    "    \n"
   ]
  }
 ],
 "metadata": {
  "kernelspec": {
   "display_name": "Python 3.6.8 64-bit",
   "language": "python",
   "name": "python3"
  },
  "language_info": {
   "name": "python",
   "version": "3.6.8"
  },
  "orig_nbformat": 4,
  "vscode": {
   "interpreter": {
    "hash": "31f2aee4e71d21fbe5cf8b01ff0e069b9275f58929596ceb00d14d90e3e16cd6"
   }
  }
 },
 "nbformat": 4,
 "nbformat_minor": 2
}
