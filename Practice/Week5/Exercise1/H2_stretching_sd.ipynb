{
 "cells": [
  {
   "cell_type": "code",
   "execution_count": null,
   "metadata": {},
   "outputs": [],
   "source": [
    "# import modules and define functions\n",
    "import pandas as pd\n",
    "import numpy as np\n",
    "from matplotlib import pyplot as plt, ticker, cm\n",
    "import matplotlib as mpl\n",
    "import os\n",
    "os.environ['OMP_NUM_THREADS'] = \"1\"\n",
    "def make_rdm1(mo_coeff, mo_occ):\n",
    "    mocc = mo_coeff[:,mo_occ>0]\n",
    "    return np.dot(mocc*mo_occ[mo_occ>0], mocc.conj().T)"
   ]
  },
  {
   "cell_type": "code",
   "execution_count": null,
   "metadata": {},
   "outputs": [],
   "source": [
    "outfs_dimer = [i for i in os.listdir(os.getcwd()) if i.endswith('.out') and 'H2' in i]\n",
    "outfs_mononer = [i for i in os.listdir(os.getcwd()) if i.endswith('.out') and 'H_' in i]\n",
    "data_dimer_dict = {}\n",
    "data_monomer_dict = {}\n",
    "for outf in outfs_dimer:\n",
    "    mult = outf.split('_')[2]\n",
    "    sd = outf.split('_')[3][0] + 'KS'\n",
    "    sd = \"%s%s\" %(mult, sd)\n",
    "    lines = open(outf, 'r').read().splitlines()\n",
    "    for i, line in enumerate(lines):\n",
    "        if '%paras' in line:\n",
    "            nstep = 20\n",
    "        if \"The Calculated Surface using the 'Actual Energy'\" in line:\n",
    "            data = lines[i+1:i+1+nstep]\n",
    "            data = [list(filter(None, i.split(' '))) for i in data]\n",
    "            keys, es = np.array(data, dtype=float).T\n",
    "            break\n",
    "    data_dimer_dict[sd] = es\n",
    "\n",
    "for outf in outfs_mononer:\n",
    "    lines = open(outf, 'r').read().splitlines()\n",
    "    for i, line in enumerate(lines):\n",
    "        if 'FINAL SINGLE' in line:\n",
    "            e_monomer = float(list(filter(None, line.split(' ')))[4])\n",
    "            break\n",
    "\n",
    "data_dict = {}\n",
    "for key in data_dimer_dict.keys():\n",
    "    data_dict[key] = data_dimer_dict[key] - np.array(e_monomer) * 2\n",
    "    "
   ]
  },
  {
   "cell_type": "code",
   "execution_count": null,
   "metadata": {},
   "outputs": [],
   "source": [
    "df = pd.DataFrame(data_dict, dtype=float)\n",
    "df.index = keys"
   ]
  },
  {
   "cell_type": "code",
   "execution_count": null,
   "metadata": {},
   "outputs": [],
   "source": [
    "# plot the change of energy \n",
    "xlabel = 'H-H distance / A'\n",
    "ylabel = 'Dissociation energy / Eh'\n",
    "title = 'H2 stretching'\n",
    "mpl.rcParams['axes.linewidth'] = 3\n",
    "mpl.rcParams['xtick.major.size'] = 10\n",
    "mpl.rcParams['xtick.labelsize'] = 16\n",
    "mpl.rcParams['ytick.labelsize'] = 16\n",
    "mpl.rcParams['xtick.major.width'] = 3\n",
    "mpl.rcParams['ytick.major.size'] = 10\n",
    "mpl.rcParams['ytick.major.width'] = 3\n",
    "mpl.rcParams['xtick.minor.size'] = 5\n",
    "mpl.rcParams['xtick.minor.width'] = 3\n",
    "mpl.rcParams['ytick.minor.size'] = 5\n",
    "mpl.rcParams['ytick.minor.width'] = 3\n",
    "mpl.rcParams['xtick.direction'] = 'in'\n",
    "mpl.rcParams['ytick.direction'] = 'in'\n",
    "\n",
    "# plotting\n",
    "fig, ax = plt.subplots(figsize=(7,6))\n",
    "# ax.xaxis.set_major_locator(ticker.MultipleLocator(0.1))\n",
    "# ax.xaxis.set_minor_locator(ticker.MultipleLocator(0.05))\n",
    "# ax.yaxis.set_major_locator(ticker.MultipleLocator(2))\n",
    "# ax.yaxis.set_minor_locator(ticker.MultipleLocator(1))\n",
    "# ax.set_ylim(-9, -4)\n",
    "# ax.set_xlim(0.69,1.01)\n",
    "ax.set_xlabel(xlabel, fontsize=16)\n",
    "ax.set_ylabel(ylabel, fontsize=16)\n",
    "ax.set_title(title, fontsize=22)\n",
    "for key in df.columns: \n",
    "    ax.plot(df.index, df[key], label=key)\n",
    "\n",
    "ax.legend()\n"
   ]
  },
  {
   "cell_type": "code",
   "execution_count": null,
   "metadata": {},
   "outputs": [],
   "source": []
  }
 ],
 "metadata": {
  "kernelspec": {
   "display_name": "Python 3",
   "language": "python",
   "name": "python3"
  },
  "language_info": {
   "codemirror_mode": {
    "name": "ipython",
    "version": 3
   },
   "file_extension": ".py",
   "mimetype": "text/x-python",
   "name": "python",
   "nbconvert_exporter": "python",
   "pygments_lexer": "ipython3",
   "version": "3.9.5"
  },
  "vscode": {
   "interpreter": {
    "hash": "497509e79bc79f8a70294a24f570c38ebc88c08592cfbd2e6af53bc8088cf9ae"
   }
  }
 },
 "nbformat": 4,
 "nbformat_minor": 2
}
