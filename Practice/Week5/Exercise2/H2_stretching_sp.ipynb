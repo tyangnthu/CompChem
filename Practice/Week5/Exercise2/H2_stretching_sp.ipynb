{
 "cells": [
  {
   "cell_type": "code",
   "execution_count": null,
   "metadata": {},
   "outputs": [],
   "source": [
    "# import modules and define functions\n",
    "import pandas as pd\n",
    "import numpy as np\n",
    "from matplotlib import pyplot as plt, ticker, cm\n",
    "import matplotlib as mpl\n",
    "import os"
   ]
  },
  {
   "cell_type": "code",
   "execution_count": null,
   "metadata": {},
   "outputs": [],
   "source": [
    "outfs_dimer = [i for i in os.listdir(os.getcwd()) if i.endswith('.out') and 'H2' in i]\n",
    "outfs_dimer += os.path.join('outputs', 'H2_0_1_FCI_def2-qzvpp.sp.out')\n",
    "outfs_mononer = [i for i in os.listdir(os.getcwd()) if i.endswith('.out') and 'H_' in i]\n",
    "data_dimer_dict = {}\n",
    "data_monomer_dict = {}\n",
    "for outf in outfs_dimer:\n",
    "    mult = outf.split('_')[2]\n",
    "    if 'B3LYP' in outf:\n",
    "        sd = outf.split('_')[3][0] + 'KS'\n",
    "    else:\n",
    "        sd = outf.split('_')[3]\n",
    "    sd = \"%s%s\" %(mult, sd)\n",
    "    lines = open(outf, 'r').read().splitlines()\n",
    "    s2s = []\n",
    "    for i, line in enumerate(lines):\n",
    "        if '%paras' in line:\n",
    "            nstep = 20\n",
    "        if 'UKS' in sd:\n",
    "            if 'Expectation value of <S**2>' in line:\n",
    "                s2 = float(list(filter(None,line.split(' ')))[-1])\n",
    "                s2s.append(s2)\n",
    "        if \"The Calculated Surface using the 'Actual Energy'\" in line:\n",
    "            data = lines[i+1:i+1+nstep]\n",
    "            data = [list(filter(None, i.split(' '))) for i in data]\n",
    "            keys, es = np.array(data, dtype=float).T\n",
    "            break\n",
    "    if 'UKS' in sd:\n",
    "        data_dimer_dict[sd] = np.array([es,s2s[-nstep:]])\n",
    "    else:\n",
    "        data_dimer_dict[sd] = np.array(es)\n",
    "\n",
    "for outf in outfs_mononer:\n",
    "    lines = open(outf, 'r').read().splitlines()\n",
    "    for i, line in enumerate(lines):\n",
    "        if 'FINAL SINGLE' in line:\n",
    "            e_monomer = float(list(filter(None, line.split(' ')))[4])\n",
    "            break\n",
    "\n",
    "data_dict = {}\n",
    "for key in data_dimer_dict.keys():\n",
    "    if 'UKS' in key:\n",
    "        data_dict[key] = data_dimer_dict[key][0] - np.array(e_monomer) * 2\n",
    "    else:\n",
    "        data_dict[key] = data_dimer_dict[key] - np.array(e_monomer) * 2\n",
    "data_dict['fsc'] = data_dimer_dict['1UKS'][1]/(data_dimer_dict['3UKS'][1] - data_dimer_dict['1UKS'][1])\n",
    "data_dict['1UKS_pure'] = data_dimer_dict['1UKS'][0] + data_dict['fsc'] * (data_dimer_dict['1UKS'][0] - data_dimer_dict['3UKS'][0]) - np.array(e_monomer) * 2\n",
    "    "
   ]
  },
  {
   "cell_type": "code",
   "execution_count": null,
   "metadata": {},
   "outputs": [],
   "source": [
    "df = pd.DataFrame(data_dict, dtype=float)\n",
    "df.index = keys"
   ]
  },
  {
   "cell_type": "code",
   "execution_count": null,
   "metadata": {},
   "outputs": [],
   "source": [
    "# plot the change of energy \n",
    "xlabel = 'H-H distance / A'\n",
    "ylabel = 'Dissociation energy / Eh'\n",
    "ylabel2 = 'Fraction of spin contamination'\n",
    "title = 'H2 stretching'\n",
    "mpl.rcParams['axes.linewidth'] = 3\n",
    "mpl.rcParams['xtick.major.size'] = 10\n",
    "mpl.rcParams['xtick.labelsize'] = 16\n",
    "mpl.rcParams['ytick.labelsize'] = 16\n",
    "mpl.rcParams['xtick.major.width'] = 3\n",
    "mpl.rcParams['ytick.major.size'] = 10\n",
    "mpl.rcParams['ytick.major.width'] = 3\n",
    "mpl.rcParams['xtick.minor.size'] = 5\n",
    "mpl.rcParams['xtick.minor.width'] = 3\n",
    "mpl.rcParams['ytick.minor.size'] = 5\n",
    "mpl.rcParams['ytick.minor.width'] = 3\n",
    "mpl.rcParams['xtick.direction'] = 'in'\n",
    "mpl.rcParams['ytick.direction'] = 'in'\n",
    "\n",
    "# plotting\n",
    "fig, ax = plt.subplots(figsize=(7,6))\n",
    "ax2 = ax.twinx()\n",
    "ax.xaxis.set_major_locator(ticker.MultipleLocator(1))\n",
    "ax.xaxis.set_minor_locator(ticker.MultipleLocator(0.5))\n",
    "ax.yaxis.set_major_locator(ticker.MultipleLocator(0.1))\n",
    "ax.yaxis.set_minor_locator(ticker.MultipleLocator(0.05))\n",
    "ax.set_ylim(-0.2, 0.1)\n",
    "ax.set_xlim(0,5)\n",
    "ax.set_xlabel(xlabel, fontsize=16)\n",
    "ax.set_ylabel(ylabel, fontsize=16)\n",
    "ax.set_title(title, fontsize=22)\n",
    "ax2.yaxis.set_major_locator(ticker.MultipleLocator(0.25))\n",
    "ax2.yaxis.set_minor_locator(ticker.MultipleLocator(0.125))\n",
    "ax2.set_ylim(-0.1, 1.1)\n",
    "ax2.set_xlabel(xlabel, fontsize=16)\n",
    "ax2.set_ylabel(ylabel2, fontsize=16)\n",
    "for key in df.columns: \n",
    "    if 'fsc' not in key:\n",
    "        ax.plot(df.index, df[key], label=key, linestyle='dashed')\n",
    "    # else:\n",
    "    #     ax2.plot(df.index, df[key], label=key, linestyle='dashed')\n",
    "ax.legend(loc='center right')\n",
    "plt.savefig('H2_stretching_electronics_states.png', dpi=400)\n",
    "# ax2.legend(loc='lower right')"
   ]
  },
  {
   "cell_type": "code",
   "execution_count": null,
   "metadata": {},
   "outputs": [],
   "source": []
  },
  {
   "cell_type": "code",
   "execution_count": null,
   "metadata": {},
   "outputs": [],
   "source": []
  }
 ],
 "metadata": {
  "kernelspec": {
   "display_name": "Python 3",
   "language": "python",
   "name": "python3"
  },
  "language_info": {
   "codemirror_mode": {
    "name": "ipython",
    "version": 3
   },
   "file_extension": ".py",
   "mimetype": "text/x-python",
   "name": "python",
   "nbconvert_exporter": "python",
   "pygments_lexer": "ipython3",
   "version": "3.9.5"
  },
  "vscode": {
   "interpreter": {
    "hash": "497509e79bc79f8a70294a24f570c38ebc88c08592cfbd2e6af53bc8088cf9ae"
   }
  }
 },
 "nbformat": 4,
 "nbformat_minor": 2
}
