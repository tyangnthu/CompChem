{
 "cells": [
  {
   "cell_type": "code",
   "execution_count": null,
   "metadata": {},
   "outputs": [],
   "source": [
    "# import modules and define functions\n",
    "import matplotlib as mpl\n",
    "from matplotlib import ticker, pyplot as plt\n",
    "import numpy as np\n",
    "import os"
   ]
  },
  {
   "cell_type": "code",
   "execution_count": null,
   "metadata": {},
   "outputs": [],
   "source": [
    "f = 'benzene_0_1_bp86_6-31gpol.esd-abs.spectrum'\n",
    "lines = open(f).read().splitlines()\n",
    "data = np.array([list(filter(None, line.split('\\t'))) for line in lines[1:]], dtype=float)"
   ]
  },
  {
   "cell_type": "code",
   "execution_count": null,
   "metadata": {},
   "outputs": [],
   "source": [
    "# plot the change of energy \n",
    "xlabel = 'Wavelength / nm'\n",
    "ylabel = 'Intensity'\n",
    "title = 'Absorption spectrum with vibronic coupling'\n",
    "mpl.rcParams['axes.linewidth'] = 3\n",
    "mpl.rcParams['xtick.major.size'] = 10\n",
    "mpl.rcParams['xtick.labelsize'] = 16\n",
    "mpl.rcParams['ytick.labelsize'] = 16\n",
    "mpl.rcParams['xtick.major.width'] = 3\n",
    "mpl.rcParams['ytick.major.size'] = 10\n",
    "mpl.rcParams['ytick.major.width'] = 3\n",
    "mpl.rcParams['xtick.minor.size'] = 5\n",
    "mpl.rcParams['xtick.minor.width'] = 3\n",
    "mpl.rcParams['ytick.minor.size'] = 5\n",
    "mpl.rcParams['ytick.minor.width'] = 3\n",
    "mpl.rcParams['xtick.direction'] = 'in'\n",
    "mpl.rcParams['ytick.direction'] = 'in'\n",
    "fig, ax = plt.subplots(figsize=(7,6))\n",
    "ax.xaxis.set_major_locator(ticker.MultipleLocator(20))\n",
    "ax.xaxis.set_minor_locator(ticker.MultipleLocator(10))\n",
    "ax.yaxis.set_major_locator(ticker.MultipleLocator(100))\n",
    "ax.yaxis.set_minor_locator(ticker.MultipleLocator(40))\n",
    "ax.set_ylim(-20,420)\n",
    "ax.set_xlim(200,300)\n",
    "ax.set_xlabel(xlabel, fontsize=16)\n",
    "ax.set_ylabel(ylabel, fontsize=16)\n",
    "ax.set_title(title, fontsize=22)\n",
    "ax.scatter((data.T[0]) ** -1 * (10 ** 7), data.T[1], color='k')"
   ]
  },
  {
   "cell_type": "code",
   "execution_count": null,
   "metadata": {},
   "outputs": [],
   "source": []
  }
 ],
 "metadata": {
  "kernelspec": {
   "display_name": "Python 3",
   "language": "python",
   "name": "python3"
  },
  "language_info": {
   "codemirror_mode": {
    "name": "ipython",
    "version": 3
   },
   "file_extension": ".py",
   "mimetype": "text/x-python",
   "name": "python",
   "nbconvert_exporter": "python",
   "pygments_lexer": "ipython3",
   "version": "3.9.5"
  },
  "vscode": {
   "interpreter": {
    "hash": "497509e79bc79f8a70294a24f570c38ebc88c08592cfbd2e6af53bc8088cf9ae"
   }
  }
 },
 "nbformat": 4,
 "nbformat_minor": 2
}
