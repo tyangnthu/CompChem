{
 "cells": [
  {
   "cell_type": "code",
   "execution_count": null,
   "metadata": {},
   "outputs": [],
   "source": [
    "# import modules and define functions\n",
    "import pandas as pd\n",
    "import numpy as np\n",
    "from matplotlib import pyplot as plt, ticker, cm\n",
    "import matplotlib as mpl\n",
    "import os\n",
    "os.environ['OMP_NUM_THREADS'] = \"1\"\n",
    "def make_rdm1(mo_coeff, mo_occ):\n",
    "    mocc = mo_coeff[:,mo_occ>0]\n",
    "    return np.dot(mocc*mo_occ[mo_occ>0], mocc.conj().T)"
   ]
  },
  {
   "cell_type": "code",
   "execution_count": null,
   "metadata": {},
   "outputs": [],
   "source": [
    "outfs_dimer = [i for i in os.listdir(os.getcwd()) if i.endswith('.out') and 'he2' in i]\n",
    "outfs_mononer = [i for i in os.listdir(os.getcwd()) if i.endswith('.out') and 'he_' in i]\n",
    "data_dimer_dict = {}\n",
    "data_monomer_dict = {}\n",
    "for outf in outfs_dimer:\n",
    "    method = outf.split('_')[3].upper()\n",
    "    lines = open(outf, 'r').read().splitlines()\n",
    "    for i, line in enumerate(lines):\n",
    "        if \"The Calculated Surface using the 'Actual Energy'\" in line:\n",
    "            data = lines[i+1:i+1+21]\n",
    "            data = [list(filter(None, i.split(' '))) for i in data]\n",
    "            keys, es = np.array(data, dtype=float).T\n",
    "            break\n",
    "    data_dimer_dict[method] = es\n",
    "\n",
    "for outf in outfs_mononer:\n",
    "    method = outf.split('_')[3].upper()\n",
    "    lines = open(outf, 'r').read().splitlines()\n",
    "    for i, line in enumerate(lines):\n",
    "        if 'FINAL SINGLE' in line:\n",
    "            e = float(list(filter(None, line.split(' ')))[4])\n",
    "            break\n",
    "    data_monomer_dict[method] = e\n",
    "\n",
    "common_keys = list(set(data_dimer_dict.keys()) & set(data_monomer_dict.keys()))\n",
    "data_dict = {}\n",
    "for key in common_keys:\n",
    "    data_dict[key] = data_dimer_dict[key] - np.array(data_monomer_dict[key]) * 2\n",
    "    "
   ]
  },
  {
   "cell_type": "code",
   "execution_count": null,
   "metadata": {},
   "outputs": [],
   "source": [
    "df = pd.DataFrame(data_dict, dtype=float).T\n",
    "df.columns = keys\n",
    "df = df.T\n",
    "df = df[['CCSD-T', 'HF', 'B3LYP', 'PBE0', 'M06', 'CAM-B3LYP', 'LC-BLYP', 'LC-PBE', 'WB97X']]"
   ]
  },
  {
   "cell_type": "code",
   "execution_count": null,
   "metadata": {},
   "outputs": [],
   "source": [
    "# plot the change of energy \n",
    "xlabel = 'log(He-He distance) / A'\n",
    "ylabel = 'log(absolute binding energy) / Eh'\n",
    "title = 'Dispersion interaction'\n",
    "mpl.rcParams['axes.linewidth'] = 3\n",
    "mpl.rcParams['xtick.major.size'] = 10\n",
    "mpl.rcParams['xtick.labelsize'] = 16\n",
    "mpl.rcParams['ytick.labelsize'] = 16\n",
    "mpl.rcParams['xtick.major.width'] = 3\n",
    "mpl.rcParams['ytick.major.size'] = 10\n",
    "mpl.rcParams['ytick.major.width'] = 3\n",
    "mpl.rcParams['xtick.minor.size'] = 5\n",
    "mpl.rcParams['xtick.minor.width'] = 3\n",
    "mpl.rcParams['ytick.minor.size'] = 5\n",
    "mpl.rcParams['ytick.minor.width'] = 3\n",
    "mpl.rcParams['xtick.direction'] = 'in'\n",
    "mpl.rcParams['ytick.direction'] = 'in'\n",
    "\n",
    "# fitting\n",
    "a, b = np.polyfit(np.log10(df.index), np.log10(np.abs(df['CCSD-T'].values)), 1)\n",
    "\n",
    "# plotting\n",
    "fig, ax = plt.subplots(figsize=(7,6))\n",
    "ax.xaxis.set_major_locator(ticker.MultipleLocator(0.1))\n",
    "ax.xaxis.set_minor_locator(ticker.MultipleLocator(0.05))\n",
    "ax.yaxis.set_major_locator(ticker.MultipleLocator(2))\n",
    "ax.yaxis.set_minor_locator(ticker.MultipleLocator(1))\n",
    "ax.set_ylim(-9, -4)\n",
    "ax.set_xlim(0.69,1.01)\n",
    "ax.set_xlabel(xlabel, fontsize=16)\n",
    "ax.set_ylabel(ylabel, fontsize=16)\n",
    "ax.set_title(title, fontsize=22)\n",
    "text = 'y = %.4fx + %.4f' %(a, b)\n",
    "ax.text(0.85, -4.5, text, fontsize=12, bbox=dict(facecolor='red', alpha=0.7))\n",
    "ax.plot(np.log10(df.index), np.log10(np.abs(df.values)), label=df.columns)\n",
    "ax.plot(np.log10(df.index), np.log10(df.index)*a+b, 'r--')\n",
    "\n",
    "ax.legend()\n"
   ]
  },
  {
   "cell_type": "code",
   "execution_count": null,
   "metadata": {},
   "outputs": [],
   "source": []
  }
 ],
 "metadata": {
  "kernelspec": {
   "display_name": "Python 3",
   "language": "python",
   "name": "python3"
  },
  "language_info": {
   "codemirror_mode": {
    "name": "ipython",
    "version": 3
   },
   "file_extension": ".py",
   "mimetype": "text/x-python",
   "name": "python",
   "nbconvert_exporter": "python",
   "pygments_lexer": "ipython3",
   "version": "3.9.5"
  },
  "vscode": {
   "interpreter": {
    "hash": "497509e79bc79f8a70294a24f570c38ebc88c08592cfbd2e6af53bc8088cf9ae"
   }
  }
 },
 "nbformat": 4,
 "nbformat_minor": 2
}
