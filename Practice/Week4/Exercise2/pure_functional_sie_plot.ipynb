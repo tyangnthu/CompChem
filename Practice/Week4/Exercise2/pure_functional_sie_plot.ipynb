{
 "cells": [
  {
   "cell_type": "code",
   "execution_count": null,
   "metadata": {},
   "outputs": [],
   "source": [
    "# import modules and define functions\n",
    "import pandas as pd\n",
    "import numpy as np\n",
    "from matplotlib import pyplot as plt, ticker, cm\n",
    "import matplotlib as mpl\n",
    "import os\n",
    "os.environ['OMP_NUM_THREADS'] = \"1\"\n",
    "def make_rdm1(mo_coeff, mo_occ):\n",
    "    mocc = mo_coeff[:,mo_occ>0]\n",
    "    return np.dot(mocc*mo_occ[mo_occ>0], mocc.conj().T)"
   ]
  },
  {
   "cell_type": "code",
   "execution_count": null,
   "metadata": {},
   "outputs": [],
   "source": [
    "outfs = [i for i in os.listdir(os.getcwd()) if i.endswith('.out') and 'tpss' not in i]\n",
    "data_dict = {}\n",
    "for outf in outfs:\n",
    "    method = outf.split('_')[3].upper()\n",
    "    lines = open(outf, 'r').read().splitlines()\n",
    "    for i, line in enumerate(lines):\n",
    "        if \"The Calculated Surface using the 'Actual Energy'\" in line:\n",
    "            data = lines[i+1:i+1+21]\n",
    "            data = [list(filter(None, i.split(' '))) for i in data]\n",
    "            keys, es = np.array(data, dtype=float).T\n",
    "            break\n",
    "    data_dict[method] = es * 27.2\n",
    "    "
   ]
  },
  {
   "cell_type": "code",
   "execution_count": null,
   "metadata": {},
   "outputs": [],
   "source": [
    "df = pd.DataFrame(data_dict, dtype=float).T\n",
    "df.columns = keys\n",
    "df = df.T\n",
    "df = df[['HF', 'VWN5', 'BP86', 'BLYP', 'PBE', 'SCAN', 'M06L']]"
   ]
  },
  {
   "cell_type": "code",
   "execution_count": null,
   "metadata": {},
   "outputs": [],
   "source": [
    "# plot the change of energy \n",
    "xlabel = 'H-H distance / A'\n",
    "ylabel = 'Energy / eV'\n",
    "title = 'Functional dependence of SPE change vs H-H bond stretching'\n",
    "mpl.rcParams['axes.linewidth'] = 3\n",
    "mpl.rcParams['xtick.major.size'] = 10\n",
    "mpl.rcParams['xtick.labelsize'] = 16\n",
    "mpl.rcParams['ytick.labelsize'] = 16\n",
    "mpl.rcParams['xtick.major.width'] = 3\n",
    "mpl.rcParams['ytick.major.size'] = 10\n",
    "mpl.rcParams['ytick.major.width'] = 3\n",
    "mpl.rcParams['xtick.minor.size'] = 5\n",
    "mpl.rcParams['xtick.minor.width'] = 3\n",
    "mpl.rcParams['ytick.minor.size'] = 5\n",
    "mpl.rcParams['ytick.minor.width'] = 3\n",
    "mpl.rcParams['xtick.direction'] = 'in'\n",
    "mpl.rcParams['ytick.direction'] = 'in'\n",
    "\n",
    "# start = 0.0\n",
    "# stop = 1.0\n",
    "# number_of_lines= len(df.columns)\n",
    "# cm_subsection = np.linspace(start, stop, number_of_lines) \n",
    "# colors = [cm.jet(x) for x in cm_subsection]\n",
    "\n",
    "fig, ax = plt.subplots(figsize=(7,6))\n",
    "ax.xaxis.set_major_locator(ticker.MultipleLocator(1))\n",
    "ax.xaxis.set_minor_locator(ticker.MultipleLocator(0.5))\n",
    "ax.yaxis.set_major_locator(ticker.MultipleLocator(3))\n",
    "ax.yaxis.set_minor_locator(ticker.MultipleLocator(1.5))\n",
    "ax.set_ylim(-18, -9)\n",
    "ax.set_xlim(0.5,3.0)\n",
    "ax.set_xlabel(xlabel, fontsize=16)\n",
    "ax.set_ylabel(ylabel, fontsize=16)\n",
    "ax.set_title(title, fontsize=22)\n",
    "ax.plot(df, label=df.columns)\n",
    "ax.legend()"
   ]
  },
  {
   "cell_type": "code",
   "execution_count": null,
   "metadata": {},
   "outputs": [],
   "source": []
  }
 ],
 "metadata": {
  "kernelspec": {
   "display_name": "Python 3",
   "language": "python",
   "name": "python3"
  },
  "language_info": {
   "codemirror_mode": {
    "name": "ipython",
    "version": 3
   },
   "file_extension": ".py",
   "mimetype": "text/x-python",
   "name": "python",
   "nbconvert_exporter": "python",
   "pygments_lexer": "ipython3",
   "version": "3.9.5"
  },
  "vscode": {
   "interpreter": {
    "hash": "497509e79bc79f8a70294a24f570c38ebc88c08592cfbd2e6af53bc8088cf9ae"
   }
  }
 },
 "nbformat": 4,
 "nbformat_minor": 2
}
