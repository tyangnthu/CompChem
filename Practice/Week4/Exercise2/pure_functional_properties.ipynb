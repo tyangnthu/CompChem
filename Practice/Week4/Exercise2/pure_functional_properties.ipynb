{
 "cells": [
  {
   "cell_type": "code",
   "execution_count": null,
   "metadata": {},
   "outputs": [],
   "source": [
    "# import modules and define functions\n",
    "from pyscf import gto, scf, dft\n",
    "import pandas as pd\n",
    "import numpy as np\n",
    "import os\n",
    "os.environ['OMP_NUM_THREADS'] = \"1\"\n",
    "def make_rdm1(mo_coeff, mo_occ):\n",
    "    mocc = mo_coeff[:,mo_occ>0]\n",
    "    return np.dot(mocc*mo_occ[mo_occ>0], mocc.conj().T)"
   ]
  },
  {
   "attachments": {},
   "cell_type": "markdown",
   "metadata": {},
   "source": [
    "# Functional dependences of SIE"
   ]
  },
  {
   "cell_type": "code",
   "execution_count": null,
   "metadata": {},
   "outputs": [],
   "source": [
    "# calculate SIE for DFT\n",
    "# build H2\n",
    "xc_sie_dict = {}\n",
    "atom = 'H 0 0 0' #; H 0 0 0.74'\n",
    "basis = \n",
    "h_0_2 = gto.Mole()\n",
    "h_0_2.build(atom=atom,basis=basis,charge=0,spin=1)\n",
    "h_0_2_uhf = scf.UHF(h_0_2).run()\n",
    "j, k = h_0_2_uhf.get_jk()\n",
    "rho = h_0_2_uhf.make_rdm1()\n",
    "mo_coeff_uhf = h_0_2_uhf.mo_coeff\n",
    "mo_occ_uhf = h_0_2_uhf.mo_occ\n",
    "J = np.dot(rho[0],j[0])[mo_occ_uhf[0]>0]\n",
    "K = np.dot(rho[0],k[0])[mo_occ_uhf[0]>0]\n",
    "sie = J[0][0] - K[0][0]\n",
    "xc_sie_dict['HF'] = ['H', 0, sie]\n",
    "# obtain SIE for various xc\n",
    "xcs_lda = []\n",
    "xcs_gga = []\n",
    "xcs_meta = []\n",
    "xcs = xcs_lda + xcs_gga + xcs_meta\n",
    "for xc in xcs:\n",
    "    h_0_2_dft = dft.UKS(h_0_2, xc=xc).run()\n",
    "    dft_scf_dict = h_0_2_dft.scf_summary\n",
    "    coul = dft_scf_dict['coul']\n",
    "    exc = dft_scf_dict['exc']\n",
    "    sie = coul + exc\n",
    "    xc_sie_dict[xc] = ['H', 0, sie]"
   ]
  },
  {
   "cell_type": "code",
   "execution_count": null,
   "metadata": {},
   "outputs": [],
   "source": [
    "pd.set_option('display.float_format', lambda x: '%.3f' % x)\n",
    "df = pd.DataFrame(xc_sie_dict).T\n",
    "df.columns = ['Molecule', 'Theoretical', 'Found']\n",
    "print(df)"
   ]
  },
  {
   "attachments": {},
   "cell_type": "markdown",
   "metadata": {},
   "source": [
    "# Functional dependences of IP"
   ]
  },
  {
   "cell_type": "code",
   "execution_count": null,
   "metadata": {},
   "outputs": [],
   "source": [
    "# build CO with minimal basis\n",
    "basis = \n",
    "xcs_lda = []\n",
    "xcs_gga = []\n",
    "xcs_meta = []\n",
    "xcs = xcs_lda + xcs_gga + xcs_meta\n",
    "xc_ip_dict = {}\n",
    "for xc in xcs:\n",
    "    n2_0_1 = gto.Mole().build(atom='N 0 0 0; N 0 0 1.098',basis=basis,charge=0,spin=0)\n",
    "    n2_1_2 = gto.Mole().build(atom='N 0 0 0; N 0 0 1.098',basis=basis,charge=1,spin=1)\n",
    "    n2_0_1_dft = dft.DFT(n2_0_1, xc=xc).run()\n",
    "    n2_1_2_dft = dft.DFT(n2_1_2, xc=xc).run()\n",
    "    s2_n2 = n2_1_2_dft.spin_square()[0]\n",
    "    mo_occ = n2_0_1_dft.mo_occ\n",
    "    mo_energy = n2_0_1_dft.mo_energy\n",
    "    e_homo_n2 = mo_energy[mo_occ>0][-1]\n",
    "    IP_N2 = n2_1_2_dft.e_tot - n2_0_1_dft.e_tot\n",
    "    xc_ip_dict[xc] = ['N\\u2082', 0.573, IP_N2, s2_n2]"
   ]
  },
  {
   "cell_type": "code",
   "execution_count": null,
   "metadata": {},
   "outputs": [],
   "source": [
    "pd.set_option('display.float_format', lambda x: '%.3f' % x)\n",
    "df = pd.DataFrame(xc_ip_dict).T\n",
    "df.columns = ['Molecule', 'Expt', 'IP_calc', '<S^2>']\n",
    "print(df)"
   ]
  }
 ],
 "metadata": {
  "kernelspec": {
   "display_name": "Python 3",
   "language": "python",
   "name": "python3"
  },
  "language_info": {
   "codemirror_mode": {
    "name": "ipython",
    "version": 3
   },
   "file_extension": ".py",
   "mimetype": "text/x-python",
   "name": "python",
   "nbconvert_exporter": "python",
   "pygments_lexer": "ipython3",
   "version": "3.9.5"
  },
  "vscode": {
   "interpreter": {
    "hash": "497509e79bc79f8a70294a24f570c38ebc88c08592cfbd2e6af53bc8088cf9ae"
   }
  }
 },
 "nbformat": 4,
 "nbformat_minor": 2
}
