{
 "cells": [
  {
   "cell_type": "code",
   "execution_count": null,
   "metadata": {},
   "outputs": [],
   "source": [
    "# import modules and define functions\n",
    "from pyscf import gto, scf, dft\n",
    "from scipy.linalg import eig\n",
    "import numpy as np\n",
    "import os\n",
    "os.environ['OMP_NUM_THREADS'] = \"1\" "
   ]
  },
  {
   "cell_type": "code",
   "execution_count": null,
   "metadata": {},
   "outputs": [],
   "source": [
    "# build H2 with minimal basis\n",
    "atom = 'H 0 0 0' #; H 0 0 0.74'\n",
    "basis = 'sto-3g'\n",
    "h_0_2 = gto.Mole()\n",
    "h_0_2.build(atom=atom,basis=basis,charge=0,spin=1)"
   ]
  },
  {
   "cell_type": "code",
   "execution_count": null,
   "metadata": {},
   "outputs": [],
   "source": [
    "# SCF calculations\n",
    "# HF\n",
    "h_0_2_uhf = scf.UHF(h_0_2).run()\n",
    "# DFT(GGA)\n",
    "h_0_2_pbe = dft.UKS(h_0_2)\n",
    "h_0_2_pbe.xc = 'pbe,pbe'\n",
    "h_0_2_pbe.run()"
   ]
  },
  {
   "cell_type": "code",
   "execution_count": null,
   "metadata": {},
   "outputs": [],
   "source": [
    "# J_a(1) and K_a(1)\n",
    "j, k = h_0_2_uhf.get_jk()\n",
    "rho = h_0_2_uhf.make_rdm1()\n",
    "mo_coeff_uhf = h_0_2_uhf.mo_coeff\n",
    "mo_occ_uhf = h_0_2_uhf.mo_occ\n",
    "J = np.dot(rho[0],j[0])[mo_occ_uhf[0]>0]\n",
    "K = np.dot(rho[0],k[0])[mo_occ_uhf[0]>0]\n",
    "sie = J - K\n",
    "print('J11_a is %.2f.' %(J))\n",
    "print('K11_a is %.2f.' %(K))\n",
    "print('Self-interaction error is J11_a - K11_a, %.3f' %(sie))\n"
   ]
  },
  {
   "cell_type": "code",
   "execution_count": null,
   "metadata": {},
   "outputs": [],
   "source": [
    "# calculate SIE for DFT\n",
    "mo_occ_pbe = h_0_2_pbe.mo_occ\n",
    "mo_coeff_pbe = h_0_2_pbe.mo_coeff\n",
    "dft_scf_dict = h_0_2_pbe.scf_summary\n",
    "coul = dft_scf_dict['coul']\n",
    "exc = dft_scf_dict['exc']\n",
    "sie = coul + exc\n",
    "print('J11_a is %.4f' %(coul))\n",
    "print('E_xc is %.4f' %(exc))\n",
    "print('Self-interaction error is J11_a - K11_a, %.4f' %(sie))\n"
   ]
  }
 ],
 "metadata": {
  "kernelspec": {
   "display_name": "Python 3",
   "language": "python",
   "name": "python3"
  },
  "language_info": {
   "codemirror_mode": {
    "name": "ipython",
    "version": 3
   },
   "file_extension": ".py",
   "mimetype": "text/x-python",
   "name": "python",
   "nbconvert_exporter": "python",
   "pygments_lexer": "ipython3",
   "version": "3.9.5"
  },
  "vscode": {
   "interpreter": {
    "hash": "497509e79bc79f8a70294a24f570c38ebc88c08592cfbd2e6af53bc8088cf9ae"
   }
  }
 },
 "nbformat": 4,
 "nbformat_minor": 2
}
