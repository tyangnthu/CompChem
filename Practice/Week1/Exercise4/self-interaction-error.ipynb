{
 "cells": [
  {
   "cell_type": "code",
   "execution_count": 37,
   "metadata": {},
   "outputs": [],
   "source": [
    "# import modules and define functions\n",
    "from pyscf import gto, scf, dft\n",
    "from matplotlib import pyplot as plt, ticker\n",
    "import matplotlib as mpl\n",
    "import numpy as np, scipy\n",
    "import pyscf\n",
    "import os\n",
    "os.environ['OMP_NUM_THREADS'] = \"1\" "
   ]
  },
  {
   "cell_type": "code",
   "execution_count": 87,
   "metadata": {},
   "outputs": [
    {
     "data": {
      "text/plain": [
       "<pyscf.gto.mole.Mole at 0x7f6da0f75278>"
      ]
     },
     "execution_count": 87,
     "metadata": {},
     "output_type": "execute_result"
    }
   ],
   "source": [
    "# build H2 with minimal basis\n",
    "atom = 'H 0 0 0' #; H 0 0 0.74'\n",
    "basis = 'sto-3g'\n",
    "h_0_2 = gto.Mole()\n",
    "h_0_2.build(atom=atom,basis=basis,charge=0,spin=1)"
   ]
  },
  {
   "cell_type": "code",
   "execution_count": 88,
   "metadata": {},
   "outputs": [
    {
     "name": "stdout",
     "output_type": "stream",
     "text": [
      "converged SCF energy = -0.466581849557275  <S^2> = 0.75  2S+1 = 2\n",
      "converged SCF energy = -0.464375664074319  <S^2> = 0.75  2S+1 = 2\n"
     ]
    },
    {
     "data": {
      "text/plain": [
       "<pyscf.dft.uks.UKS at 0x7f6da0f10518>"
      ]
     },
     "execution_count": 88,
     "metadata": {},
     "output_type": "execute_result"
    }
   ],
   "source": [
    "# SCF calculations\n",
    "h_0_2_uhf = scf.UHF(h_0_2).run()\n",
    "h_0_2_pbe = dft.UKS(h_0_2)\n",
    "h_0_2_pbe.xc = 'pbe,pbe'\n",
    "h_0_2_pbe.run()"
   ]
  },
  {
   "cell_type": "code",
   "execution_count": 90,
   "metadata": {},
   "outputs": [
    {
     "data": {
      "text/plain": [
       "array([[[0.]],\n",
       "\n",
       "       [[0.]]])"
      ]
     },
     "execution_count": 90,
     "metadata": {},
     "output_type": "execute_result"
    }
   ],
   "source": [
    "h_0_2_uhf.get_j() - h_0_2_uhf.get_k()"
   ]
  },
  {
   "cell_type": "code",
   "execution_count": null,
   "metadata": {},
   "outputs": [],
   "source": []
  },
  {
   "cell_type": "code",
   "execution_count": 89,
   "metadata": {},
   "outputs": [
    {
     "name": "stdout",
     "output_type": "stream",
     "text": [
      "**** SCF Summaries ****\n",
      "Total Energy =                          -0.464375664074319\n",
      "Nuclear Repulsion Energy =               0.000000000000000\n",
      "One-electron Energy =                   -0.466581849557275\n",
      "Two-electron Coulomb Energy =            0.387302971959949\n",
      "DFT Exchange-Correlation Energy =       -0.385096786476993\n",
      "**** MO energy ****\n",
      "                             alpha | beta                alpha | beta\n",
      "MO #1   energy= -0.184893169727359 | 1875.72747930493   occ= 1 | 0\n",
      " ** MO coefficients (expansion on meta-Lowdin AOs) for alpha spin **\n",
      "               #1       \n",
      "  0 H 1s       1.00000\n",
      " ** MO coefficients (expansion on meta-Lowdin AOs) for beta spin **\n",
      "               #1       \n",
      "  0 H 1s       1.00000\n",
      "\n",
      "To work with the spin densities directly, `use mulliken_meta_spin()` only printing them here.\n",
      "\n",
      " ** Mulliken spin pop alpha/beta on meta-lowdin orthogonal AOs **\n",
      " ** Mulliken Spin Density (per AO)  **\n",
      "spin_pop of  0 H 1s        1.00000\n",
      " ** Mulliken Spin Density (per atom)  **\n",
      "spin density of  0 H =      1.00000\n",
      " ** Mulliken pop alpha/beta on meta-lowdin orthogonal AOs **\n",
      " ** Mulliken pop       alpha | beta **\n",
      "pop of  0 H 1s        1.00000 | 0.00000   \n",
      "In total             1.00000 | 0.00000   \n",
      " ** Mulliken atomic charges   ( Nelec_alpha | Nelec_beta ) **\n",
      "charge of  0H =      0.00000  (     1.00000      0.00000 )\n",
      "Dipole moment(X, Y, Z, Debye):  0.00000,  0.00000,  0.00000\n"
     ]
    },
    {
     "data": {
      "text/plain": [
       "(((array([1.]), array([0.])), array([0.])), array([0., 0., 0.]))"
      ]
     },
     "execution_count": 89,
     "metadata": {},
     "output_type": "execute_result"
    }
   ],
   "source": [
    "h_0_2_pbe.analyze(verbose=5)"
   ]
  },
  {
   "cell_type": "code",
   "execution_count": null,
   "metadata": {},
   "outputs": [],
   "source": []
  },
  {
   "cell_type": "code",
   "execution_count": null,
   "metadata": {},
   "outputs": [],
   "source": []
  },
  {
   "cell_type": "code",
   "execution_count": null,
   "metadata": {},
   "outputs": [],
   "source": []
  }
 ],
 "metadata": {
  "kernelspec": {
   "display_name": "Python 3",
   "language": "python",
   "name": "python3"
  },
  "language_info": {
   "codemirror_mode": {
    "name": "ipython",
    "version": 3
   },
   "file_extension": ".py",
   "mimetype": "text/x-python",
   "name": "python",
   "nbconvert_exporter": "python",
   "pygments_lexer": "ipython3",
   "version": "3.6.13"
  },
  "vscode": {
   "interpreter": {
    "hash": "497509e79bc79f8a70294a24f570c38ebc88c08592cfbd2e6af53bc8088cf9ae"
   }
  }
 },
 "nbformat": 4,
 "nbformat_minor": 2
}
