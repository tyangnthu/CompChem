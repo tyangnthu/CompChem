{
 "cells": [
  {
   "cell_type": "code",
   "execution_count": null,
   "metadata": {},
   "outputs": [],
   "source": [
    "# import modules and define functions\n",
    "from pyscf import gto, scf\n",
    "from matplotlib import pyplot as plt, ticker\n",
    "import plotly.graph_objects as go\n",
    "import matplotlib as mpl\n",
    "import numpy as np\n",
    "\n",
    "def make_rdm1(mo_coeff, mo_occ):\n",
    "    mocc = mo_coeff[:,mo_occ>0]\n",
    "    return np.dot(mocc*mo_occ[mo_occ>0], mocc.conj().T)"
   ]
  },
  {
   "cell_type": "code",
   "execution_count": null,
   "metadata": {},
   "outputs": [],
   "source": [
    "# build H2 with minimal basis\n",
    "ds = np.linspace(0.5, 2.0, 31)\n",
    "ess = []\n",
    "dss = []\n",
    "c1ss = []\n",
    "for d in ds:\n",
    "    atom = 'H 0 0 0; H 0 0 %s' %(d)\n",
    "    basis = 'sto-3g'\n",
    "    charge = 0\n",
    "    spin = 0\n",
    "    H2 = gto.Mole()\n",
    "    H2.build(atom=atom,basis=basis,charge=charge,spin=spin)\n",
    "    # initiate RHF\n",
    "    mf = scf.UHF(H2)\n",
    "    es = []\n",
    "    # run RHF SCF for 1001 c1 mo coefficients\n",
    "    c1s = np.linspace(0,1,101)\n",
    "    dm1_corr = ''\n",
    "    mo_coeff_corr = ''\n",
    "    mf.max_cycle = 0\n",
    "    for c1 in c1s:\n",
    "        c2 = abs((1 - c1 ** 2) ** 0.5)\n",
    "        mo_coeff = np.array([[c1, c2], [c1, -c2]])\n",
    "        mo_occ = np.array([2, 0])\n",
    "        dm1 = make_rdm1(mo_coeff, mo_occ)\n",
    "        e = mf.kernel(dm1)\n",
    "        es.append(e)\n",
    "    ess.append(es)\n",
    "    dss.append(ds)\n",
    "    c1ss.append(c1s)\n",
    "        "
   ]
  },
  {
   "cell_type": "code",
   "execution_count": null,
   "metadata": {},
   "outputs": [],
   "source": [
    "xlabel = 'c_1 coefficient squared'\n",
    "ylabel = 'distance / A'\n",
    "zlabel = 'Energy / Eh'\n",
    "fig = go.Figure(\n",
    "    data=[\n",
    "        go.Surface(\n",
    "            x=c1s ** 2 ,\n",
    "            y=ds,\n",
    "            z=ess\n",
    "            )\n",
    "            ],\n",
    "    )\n",
    "fig.update_layout(\n",
    "    scene = dict(\n",
    "        xaxis_title = xlabel,\n",
    "        yaxis_title = ylabel,\n",
    "        zaxis_title = zlabel,\n",
    "        xaxis = dict(\n",
    "            nticks=5, \n",
    "            range=[0,1.0],\n",
    "            ),\n",
    "        yaxis = dict(\n",
    "            tickvals=np.linspace(0.5,2.0,4),\n",
    "            range=[0.3,2.0]\n",
    "            ),\n",
    "        zaxis = dict(\n",
    "            tickvals=list(range(-2,3)),\n",
    "            range=[-2.2,2.0]\n",
    "            ),\n",
    "        aspectratio=dict(x=1, y=1, z=0.95)\n",
    "    )\n",
    ")\n",
    "fig.show()"
   ]
  },
  {
   "cell_type": "code",
   "execution_count": null,
   "metadata": {},
   "outputs": [],
   "source": []
  },
  {
   "cell_type": "code",
   "execution_count": null,
   "metadata": {},
   "outputs": [],
   "source": []
  }
 ],
 "metadata": {
  "kernelspec": {
   "display_name": "htvs",
   "language": "python",
   "name": "python3"
  },
  "language_info": {
   "codemirror_mode": {
    "name": "ipython",
    "version": 3
   },
   "file_extension": ".py",
   "mimetype": "text/x-python",
   "name": "python",
   "nbconvert_exporter": "python",
   "pygments_lexer": "ipython3",
   "version": "3.7.10"
  },
  "orig_nbformat": 4,
  "vscode": {
   "interpreter": {
    "hash": "a8f66f56cb9930f2fe20158ea89a0d64feb2d0e24c98acaad26ca4acb8b3f58f"
   }
  }
 },
 "nbformat": 4,
 "nbformat_minor": 2
}
