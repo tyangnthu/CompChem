{
 "cells": [
  {
   "cell_type": "code",
   "execution_count": null,
   "metadata": {},
   "outputs": [],
   "source": [
    "# import modules and define functions\n",
    "from pyscf import gto, scf\n",
    "import plotly.graph_objects as go\n",
    "from plotly.subplots import make_subplots\n",
    "import numpy as np\n",
    "import os\n",
    "os.environ['OMP_NUM_THREADS'] = \"1\" \n",
    "\n",
    "def make_rdm1(mo_coeff, mo_occ):\n",
    "    mocc = mo_coeff[:,mo_occ>0]\n",
    "    return np.dot(mocc*mo_occ[mo_occ>0], mocc.conj().T)"
   ]
  },
  {
   "cell_type": "code",
   "execution_count": null,
   "metadata": {},
   "outputs": [],
   "source": [
    "# define variables (bond length)\n",
    "dmin, dmax = 0.5, 30.0\n",
    "ds = np.linspace(dmin, dmax, 51)\n",
    "ess = []\n",
    "c1ss = []\n",
    "c2ss = []\n",
    "css = []\n",
    "dss = np.array([ds.tolist()] * 101).T\n",
    "for i, d in enumerate(ds):\n",
    "    es = []\n",
    "    c2s = []\n",
    "    cs = []\n",
    "    # build H2 at a given dH-H d with minimal basis\n",
    "    atom = 'H 0 0 0; H 0 0 %s' %(d)\n",
    "    basis = 'sto-3g'\n",
    "    charge = 0\n",
    "    spin = 0\n",
    "    H2 = gto.Mole()\n",
    "    H2.build(atom=atom,basis=basis,charge=charge,spin=spin)\n",
    "    # initiate RHF\n",
    "    mf = scf.UHF(H2)\n",
    "    mf.max_cycle = 0\n",
    "    # get overlap matrix at this bond length\n",
    "    s = mf.get_ovlp(H2)\n",
    "    # create a list of 51 c1 coefficients equally spaced between 0 and 1\n",
    "    c1s = np.linspace(0,1,51)\n",
    "    # loop through each c1 coefficient\n",
    "    for c1 in c1s:\n",
    "        # calculate c2 by c1**2 + c2**2 + c1*c2*S12 = 1\n",
    "        c2 = (1+(c1**2)*(s[0][1]**2-1)) ** 0.5 - c1*s[0][1]\n",
    "        # store the calculated c2\n",
    "        c2s.append(c2)\n",
    "        # calculate the density matrix using c1 and c2\n",
    "        mo_coeff = np.array([[c1, c1], [c2, -c2]])\n",
    "        mo_occ = np.array([2, 0])\n",
    "        dm1 = make_rdm1(mo_coeff, mo_occ)\n",
    "        # calculate E\n",
    "        conv, e, mo_e, mo, mo_occ = scf.hf.kernel(mf, dm0=dm1)\n",
    "        # store the calculated E\n",
    "        es.append(e)\n",
    "        # calculate the adjusted coefficient, c = c1**2+c1*c2*S12\n",
    "        c = c1**2+c1*c2*s[0][1]\n",
    "        # store the calculated c\n",
    "        cs.append(c)\n",
    "    css.append(cs)\n",
    "    ess.append(es)\n",
    "    c2ss.append(c2s)\n",
    "    c1ss.append(c1s)\n",
    "        "
   ]
  },
  {
   "cell_type": "code",
   "execution_count": null,
   "metadata": {},
   "outputs": [],
   "source": [
    "# Plot an interactive 3D surface of energy at various adjusted coefficients given a H-H bond length\n",
    "xlabel = 'c1**2+c1*c2*S12'\n",
    "ylabel = 'Distance / A'\n",
    "zlabel = 'Energy / Eh'\n",
    "fig = make_subplots(rows=1, cols=1,\n",
    "                    specs=[[{'is_3d': True}]],\n",
    "                    subplot_titles=['Energy change w.r.t to mo coeff change at various dH-H'],\n",
    "                    )\n",
    "\n",
    "fig.add_trace(go.Surface(x=css, y=dss, z=ess), 1, 1) #, colorbar_x=-0.07), 1, 1)\n",
    "fig.update_layout(\n",
    "    scene = dict(\n",
    "        xaxis_title = xlabel,\n",
    "        yaxis_title = ylabel,\n",
    "        zaxis_title = zlabel,\n",
    "        xaxis = dict(\n",
    "            nticks=5, \n",
    "            range=[0,1.0],\n",
    "            ),\n",
    "        yaxis = dict(\n",
    "            tickvals=np.linspace(0,dmax,4),\n",
    "            range=[0.3,dmax]\n",
    "            ),\n",
    "        zaxis = dict(\n",
    "            tickvals=np.linspace(-1.2,0,4),\n",
    "            range=[-1.2,0]\n",
    "            ),\n",
    "        aspectratio=dict(x=1, y=1, z=0.95)\n",
    "    )\n",
    ")\n",
    "fig.show()"
   ]
  },
  {
   "cell_type": "code",
   "execution_count": null,
   "metadata": {},
   "outputs": [],
   "source": []
  }
 ],
 "metadata": {
  "kernelspec": {
   "display_name": "Python 3",
   "language": "python",
   "name": "python3"
  },
  "language_info": {
   "codemirror_mode": {
    "name": "ipython",
    "version": 3
   },
   "file_extension": ".py",
   "mimetype": "text/x-python",
   "name": "python",
   "nbconvert_exporter": "python",
   "pygments_lexer": "ipython3",
   "version": "3.9.5"
  },
  "vscode": {
   "interpreter": {
    "hash": "a8f66f56cb9930f2fe20158ea89a0d64feb2d0e24c98acaad26ca4acb8b3f58f"
   }
  }
 },
 "nbformat": 4,
 "nbformat_minor": 2
}
