{
 "cells": [
  {
   "cell_type": "code",
   "execution_count": null,
   "metadata": {},
   "outputs": [],
   "source": [
    "# import modules and define functions\n",
    "from pyscf import gto, scf\n",
    "from matplotlib import pyplot as plt, ticker\n",
    "import matplotlib as mpl\n",
    "import numpy as np\n",
    "import os\n",
    "os.environ['OMP_NUM_THREADS'] = \"1\" \n",
    "\n",
    "def make_rdm1(mo_coeff, mo_occ):\n",
    "    mocc = mo_coeff[:,mo_occ>0]\n",
    "    return np.dot(mocc*mo_occ[mo_occ>0], mocc.conj().T)"
   ]
  },
  {
   "cell_type": "code",
   "execution_count": null,
   "metadata": {},
   "outputs": [],
   "source": [
    "# build H2 with minimal basis\n",
    "atom = 'H 0 0 0; H 0 0 0.74'\n",
    "basis = 'sto-3g'\n",
    "charge = 0\n",
    "spin = 0\n",
    "H2 = gto.Mole()\n",
    "H2.build(atom=atom,basis=basis,charge=charge,spin=spin)"
   ]
  },
  {
   "cell_type": "code",
   "execution_count": null,
   "metadata": {},
   "outputs": [],
   "source": [
    "# initiate RHF\n",
    "mf = scf.UHF(H2)\n",
    "es = []\n",
    "# run RHF SCF for 1001 c1 mo coefficients\n",
    "c1s = np.linspace(0,1,101)\n",
    "c2s = []\n",
    "mf.max_cycle = 0\n",
    "s = mf.get_ovlp(H2)\n",
    "for c1 in c1s:\n",
    "    c2 = (1+(c1**2)*(s[0][1]**2-1)) ** 0.5 - c1*s[0][1]\n",
    "    c2s.append(c2)\n",
    "    mo_coeff = np.array([[c1, c1], [c2, -c2]])\n",
    "    mo_occ = np.array([2, 0])\n",
    "    dm1 = make_rdm1(mo_coeff, mo_occ)\n",
    "    conv, e, mo_e, mo, mo_occ = scf.hf.kernel(mf, dm0=dm1)\n",
    "    es.append(e)\n",
    "        "
   ]
  },
  {
   "cell_type": "code",
   "execution_count": null,
   "metadata": {},
   "outputs": [],
   "source": [
    "# plot the change of energy \n",
    "xlabel = 'c1**2+c1*c2*S12'\n",
    "ylabel = 'Energy / En'\n",
    "title = 'SCF energy vs mo coefficient'\n",
    "mpl.rcParams['axes.linewidth'] = 3\n",
    "mpl.rcParams['xtick.major.size'] = 10\n",
    "mpl.rcParams['xtick.labelsize'] = 16\n",
    "mpl.rcParams['ytick.labelsize'] = 16\n",
    "mpl.rcParams['xtick.major.width'] = 3\n",
    "mpl.rcParams['ytick.major.size'] = 10\n",
    "mpl.rcParams['ytick.major.width'] = 3\n",
    "mpl.rcParams['xtick.minor.size'] = 5\n",
    "mpl.rcParams['xtick.minor.width'] = 3\n",
    "mpl.rcParams['ytick.minor.size'] = 5\n",
    "mpl.rcParams['ytick.minor.width'] = 3\n",
    "mpl.rcParams['xtick.direction'] = 'in'\n",
    "mpl.rcParams['ytick.direction'] = 'in'\n",
    "fig, ax = plt.subplots(figsize=(7,6))\n",
    "ax.xaxis.set_major_locator(ticker.MultipleLocator(0.25))\n",
    "ax.xaxis.set_minor_locator(ticker.MultipleLocator(0.125))\n",
    "ax.yaxis.set_major_locator(ticker.MultipleLocator(0.2))\n",
    "ax.yaxis.set_minor_locator(ticker.MultipleLocator(0.1))\n",
    "ax.set_ylim(-1.22,-0.6)\n",
    "ax.set_xlim(0,1)\n",
    "ax.set_xlabel(xlabel, fontsize=16)\n",
    "ax.set_ylabel(ylabel, fontsize=16)\n",
    "ax.set_title(title, fontsize=22)\n",
    "ax.scatter(c1s**2+c1s*c2s*s[0][1], es, color='k')"
   ]
  }
 ],
 "metadata": {
  "kernelspec": {
   "display_name": "Python 3",
   "language": "python",
   "name": "python3"
  },
  "language_info": {
   "codemirror_mode": {
    "name": "ipython",
    "version": 3
   },
   "file_extension": ".py",
   "mimetype": "text/x-python",
   "name": "python",
   "nbconvert_exporter": "python",
   "pygments_lexer": "ipython3",
   "version": "3.9.5"
  },
  "vscode": {
   "interpreter": {
    "hash": "497509e79bc79f8a70294a24f570c38ebc88c08592cfbd2e6af53bc8088cf9ae"
   }
  }
 },
 "nbformat": 4,
 "nbformat_minor": 2
}
