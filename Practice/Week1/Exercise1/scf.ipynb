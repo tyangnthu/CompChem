{
 "cells": [
  {
   "cell_type": "code",
   "execution_count": null,
   "metadata": {},
   "outputs": [],
   "source": [
    "# import modules and define functions\n",
    "from pyscf import gto, scf\n",
    "from matplotlib import pyplot as plt, ticker\n",
    "import matplotlib as mpl\n",
    "import numpy as np\n",
    "\n",
    "def make_rdm1(mo_coeff, mo_occ):\n",
    "    mocc = mo_coeff[:,mo_occ>0]\n",
    "    return np.dot(mocc*mo_occ[mo_occ>0], mocc.conj().T)"
   ]
  },
  {
   "cell_type": "code",
   "execution_count": null,
   "metadata": {},
   "outputs": [],
   "source": [
    "# build H2 with minimal basis\n",
    "atom = 'H 0 0 0; H 0 0 0.74'\n",
    "basis = 'sto-3g'\n",
    "charge = 0\n",
    "spin = 0\n",
    "H2 = gto.Mole()\n",
    "H2.build(atom=atom,basis=basis,charge=charge,spin=spin)"
   ]
  },
  {
   "cell_type": "code",
   "execution_count": null,
   "metadata": {},
   "outputs": [],
   "source": [
    "# initiate RHF\n",
    "mf = scf.UHF(H2)\n",
    "es = []\n",
    "# run RHF SCF for 1001 c1 mo coefficients\n",
    "c1s = np.linspace(0,1,101)\n",
    "c2s = []\n",
    "dm1_corr = ''\n",
    "mo_coeff_corr = ''\n",
    "mf.max_cycle = 0\n",
    "for c1 in c1s:\n",
    "    c2 = (1 - c1 ** 2) ** 0.5\n",
    "    c2s.append(c2)\n",
    "    mo_coeff = np.array([[c1, c2], [c1, -c2]])\n",
    "    mo_occ = np.array([2, 0])\n",
    "    dm1 = make_rdm1(mo_coeff, mo_occ)\n",
    "    e = mf.kernel(dm1)\n",
    "    es.append(e)\n",
    "        "
   ]
  },
  {
   "cell_type": "code",
   "execution_count": null,
   "metadata": {},
   "outputs": [],
   "source": [
    "# plot the change of energy \n",
    "xlabel = r'$\\rmc_1\\ coefficients\\ squared$'\n",
    "ylabel = 'Energy / En'\n",
    "mpl.rcParams['axes.linewidth'] = 3\n",
    "mpl.rcParams['xtick.major.size'] = 10\n",
    "mpl.rcParams['xtick.labelsize'] = 16\n",
    "mpl.rcParams['ytick.labelsize'] = 16\n",
    "mpl.rcParams['xtick.major.width'] = 3\n",
    "mpl.rcParams['ytick.major.size'] = 10\n",
    "mpl.rcParams['ytick.major.width'] = 3\n",
    "mpl.rcParams['xtick.minor.size'] = 5\n",
    "mpl.rcParams['xtick.minor.width'] = 3\n",
    "mpl.rcParams['ytick.minor.size'] = 5\n",
    "mpl.rcParams['ytick.minor.width'] = 3\n",
    "mpl.rcParams['xtick.direction'] = 'in'\n",
    "mpl.rcParams['ytick.direction'] = 'in'\n",
    "fig, ax = plt.subplots(figsize=(7,6))\n",
    "ax.xaxis.set_major_locator(ticker.MultipleLocator(0.25))\n",
    "ax.xaxis.set_minor_locator(ticker.MultipleLocator(0.125))\n",
    "ax.yaxis.set_major_locator(ticker.MultipleLocator(1))\n",
    "ax.yaxis.set_minor_locator(ticker.MultipleLocator(0.5))\n",
    "ax.set_ylim(-2,2)\n",
    "ax.set_xlim(0,1)\n",
    "ax.set_xlabel(xlabel, fontsize=16)\n",
    "ax.set_ylabel(ylabel, fontsize=16)\n",
    "ax.scatter(c1s ** 2, es, color='k')"
   ]
  },
  {
   "cell_type": "code",
   "execution_count": null,
   "metadata": {},
   "outputs": [],
   "source": []
  }
 ],
 "metadata": {
  "kernelspec": {
   "display_name": "htvs",
   "language": "python",
   "name": "python3"
  },
  "language_info": {
   "codemirror_mode": {
    "name": "ipython",
    "version": 3
   },
   "file_extension": ".py",
   "mimetype": "text/x-python",
   "name": "python",
   "nbconvert_exporter": "python",
   "pygments_lexer": "ipython3",
   "version": "3.7.10"
  },
  "orig_nbformat": 4,
  "vscode": {
   "interpreter": {
    "hash": "a8f66f56cb9930f2fe20158ea89a0d64feb2d0e24c98acaad26ca4acb8b3f58f"
   }
  }
 },
 "nbformat": 4,
 "nbformat_minor": 2
}
