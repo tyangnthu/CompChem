{
 "cells": [
  {
   "cell_type": "code",
   "execution_count": 15,
   "metadata": {},
   "outputs": [],
   "source": [
    "# import modules and define functions\n",
    "from pyscf import gto, scf\n",
    "import pandas as pd\n",
    "from scipy import linalg\n",
    "import os\n",
    "os.environ['OMP_NUM_THREADS'] = \"1\" "
   ]
  },
  {
   "cell_type": "code",
   "execution_count": 3,
   "metadata": {},
   "outputs": [
    {
     "data": {
      "text/plain": [
       "<pyscf.gto.mole.Mole at 0x2aaae5d63ee0>"
      ]
     },
     "execution_count": 3,
     "metadata": {},
     "output_type": "execute_result"
    }
   ],
   "source": [
    "# build H2 with minimal basis\n",
    "atom = 'H 0 0 0; H 0 0 0.74'\n",
    "basis = 'sto-3g'\n",
    "h2_0_1 = gto.Mole()\n",
    "h2_0_1.build(atom=atom,basis=basis,charge=0,spin=0)"
   ]
  },
  {
   "cell_type": "code",
   "execution_count": 24,
   "metadata": {},
   "outputs": [
    {
     "name": "stdout",
     "output_type": "stream",
     "text": [
      "converged SCF energy = -1.11675930739643\n"
     ]
    }
   ],
   "source": [
    "# SCF calculations\n",
    "# HF\n",
    "h2_0_1_rhf = scf.RHF(h2_0_1).run()"
   ]
  },
  {
   "cell_type": "code",
   "execution_count": 109,
   "metadata": {},
   "outputs": [],
   "source": [
    "# get the density matrix and the matrix elements\n",
    "rho = h2_0_1_rhf.make_rdm1()\n",
    "j, k = h2_0_1_rhf.get_jk()\n",
    "h = h2_0_1_rhf.get_hcore()\n",
    "f = h2_0_1_rhf.get_fock()"
   ]
  },
  {
   "cell_type": "code",
   "execution_count": 114,
   "metadata": {},
   "outputs": [],
   "source": [
    "# get H and G\n",
    "H = np.dot(rho, h) * 2 # 2*h_11\n",
    "J = np.dot(rho, j)\n",
    "K = np.dot(rho, k)"
   ]
  },
  {
   "cell_type": "code",
   "execution_count": 120,
   "metadata": {},
   "outputs": [
    {
     "data": {
      "text/plain": [
       "array([[-1.15710772, -1.15710772],\n",
       "       [-1.15710772, -1.15710772]])"
      ]
     },
     "execution_count": 120,
     "metadata": {},
     "output_type": "execute_result"
    }
   ],
   "source": [
    "H+2*J-K"
   ]
  },
  {
   "cell_type": "code",
   "execution_count": 106,
   "metadata": {},
   "outputs": [
    {
     "data": {
      "text/plain": [
       "array([[1.34951185, 1.34951185],\n",
       "       [1.34951185, 1.34951185]])"
      ]
     },
     "execution_count": 106,
     "metadata": {},
     "output_type": "execute_result"
    }
   ],
   "source": [
    "K"
   ]
  },
  {
   "cell_type": "code",
   "execution_count": 108,
   "metadata": {},
   "outputs": [
    {
     "name": "stdout",
     "output_type": "stream",
     "text": [
      "**** SCF Summaries ****\n",
      "Total Energy =                          -1.116759307396426\n",
      "Nuclear Repulsion Energy =               0.715104339081081\n",
      "One-electron Energy =                   -2.506619573291955\n",
      "Two-electron Energy =                    0.674755926814449\n",
      "**** MO energy ****\n",
      "MO #1   energy= -0.578553859831529 occ= 2\n",
      "MO #2   energy= 0.671143491914254  occ= 0\n",
      " ** MO coefficients (expansion on meta-Lowdin AOs) **\n",
      "               #1        #2       \n",
      "  0 H 1s       0.70711   0.70711\n",
      "  1 H 1s       0.70711  -0.70711\n",
      " ** Mulliken pop on meta-lowdin orthogonal AOs  **\n",
      " ** Mulliken pop  **\n",
      "pop of  0 H 1s        1.00000\n",
      "pop of  1 H 1s        1.00000\n",
      " ** Mulliken atomic charges  **\n",
      "charge of  0H =      0.00000\n",
      "charge of  1H =     -0.00000\n",
      "Dipole moment(X, Y, Z, Debye):  0.00000,  0.00000, -0.00000\n"
     ]
    },
    {
     "data": {
      "text/plain": [
       "((array([1., 1.]), array([ 4.44089210e-16, -2.22044605e-16])),\n",
       " array([ 0.00000000e+00,  0.00000000e+00, -2.25752431e-15]))"
      ]
     },
     "execution_count": 108,
     "metadata": {},
     "output_type": "execute_result"
    }
   ],
   "source": [
    "h2_0_1_rhf.analyze(verbose=5)"
   ]
  },
  {
   "cell_type": "code",
   "execution_count": null,
   "metadata": {},
   "outputs": [],
   "source": []
  }
 ],
 "metadata": {
  "kernelspec": {
   "display_name": "Python 3",
   "language": "python",
   "name": "python3"
  },
  "language_info": {
   "codemirror_mode": {
    "name": "ipython",
    "version": 3
   },
   "file_extension": ".py",
   "mimetype": "text/x-python",
   "name": "python",
   "nbconvert_exporter": "python",
   "pygments_lexer": "ipython3",
   "version": "3.9.5"
  },
  "vscode": {
   "interpreter": {
    "hash": "497509e79bc79f8a70294a24f570c38ebc88c08592cfbd2e6af53bc8088cf9ae"
   }
  }
 },
 "nbformat": 4,
 "nbformat_minor": 2
}
