{
 "cells": [
  {
   "cell_type": "code",
   "execution_count": 2,
   "metadata": {},
   "outputs": [
    {
     "name": "stderr",
     "output_type": "stream",
     "text": [
      "/home/nickyang69/anaconda3/envs/chem/lib/python3.9/site-packages/pyscf/lib/misc.py:46: H5pyDeprecationWarning: Setting h5py.default_file_mode is deprecated. 'r' (read-only) is the default from h5py 3.0.\n",
      "  h5py.get_config().default_file_mode = 'r'\n"
     ]
    }
   ],
   "source": [
    "# import modules and define functions\n",
    "from pyscf import gto, scf, cc\n",
    "from matplotlib import pyplot as plt, ticker\n",
    "import matplotlib as mpl\n",
    "import numpy as np"
   ]
  },
  {
   "cell_type": "code",
   "execution_count": 3,
   "metadata": {},
   "outputs": [
    {
     "data": {
      "text/plain": [
       "<pyscf.gto.mole.Mole at 0x2aaae3ff9be0>"
      ]
     },
     "execution_count": 3,
     "metadata": {},
     "output_type": "execute_result"
    }
   ],
   "source": [
    "# build H2 with minimal basis\n",
    "atom = 'C 0.0000 0.0000 0.6695; C 0.0000 0.0000 -0.6695; H 0.0000 0.9289 1.2321; H 0.0000 -0.9289 1.2321; H 0.0000 0.9289 -1.2321; H 0.0000 -0.9289 -1.2321'\n",
    "basis = 'def2-svp'\n",
    "charge = 0\n",
    "spin = 0\n",
    "c2h4_singlet = gto.Mole()\n",
    "c2h4_singlet.build(atom=atom,basis=basis,charge=charge,spin=spin)\n",
    "c2h4_triplet = gto.Mole()\n",
    "c2h4_triplet.build(atom=atom,basis=basis,charge=charge,spin=2)"
   ]
  },
  {
   "cell_type": "code",
   "execution_count": 4,
   "metadata": {},
   "outputs": [
    {
     "name": "stdout",
     "output_type": "stream",
     "text": [
      "converged SCF energy = -77.977497362734  <S^2> = 2.1724844e-12  2S+1 = 1\n",
      "converged SCF energy = -77.8558141191014  <S^2> = 2.0189248  2S+1 = 3.0125901\n",
      "E(UCCSD) = -78.28775593760506  E_corr = -0.3102585748710501\n",
      "E(UCCSD) = -78.12631276305484  E_corr = -0.2704986439534935\n",
      "UCCSD(T) correction = -0.0101069917365136\n",
      "UCCSD(T) correction = -0.00559975460203085\n"
     ]
    }
   ],
   "source": [
    "mf_c2h4_singlet = scf.UHF(c2h4_singlet).run()\n",
    "mf_c2h4_triplet = scf.UHF(c2h4_triplet).run()\n",
    "cc_c2h4_singlet = cc.CCSD(mf_c2h4_singlet)\n",
    "cc_c2h4_singlet.direct = True\n",
    "cc_c2h4_singlet.run()\n",
    "cc_c2h4_triplet = cc.CCSD(mf_c2h4_triplet)\n",
    "cc_c2h4_triplet.direct = True\n",
    "cc_c2h4_triplet.run()\n",
    "et_cc_c2h4_singlet = cc_c2h4_singlet.ccsd_t()\n",
    "et_cc_c2h4_triplet = cc_c2h4_triplet.ccsd_t()"
   ]
  },
  {
   "cell_type": "code",
   "execution_count": 5,
   "metadata": {},
   "outputs": [
    {
     "name": "stdout",
     "output_type": "stream",
     "text": [
      "SCF gap is 76.3573305286778 ${\\rm kcal\\dotmol^-1}$\n",
      "CCST(T) gap is 104.13537688584837\n",
      "Singlet state energy was corrected from the UHF reference by %s kcal\n"
     ]
    },
    {
     "ename": "",
     "evalue": "",
     "output_type": "error",
     "traceback": [
      "\u001b[1;31mThe Kernel crashed while executing code in the the current cell or a previous cell. Please review the code in the cell(s) to identify a possible cause of the failure. Click <a href='https://aka.ms/vscodeJupyterKernelCrash'>here</a> for more info. View Jupyter <a href='command:jupyter.viewOutput'>log</a> for further details."
     ]
    }
   ],
   "source": [
    "unit = r'${\\rm kcal\\dotmol^-1}$'\n",
    "print('SCF gap is %s %s'  %((mf_c2h4_triplet.e_tot - mf_c2h4_singlet.e_tot) * 627.509, unit))\n",
    "print('CCST(T) gap is %s' %(((cc_c2h4_triplet.e_tot + et_cc_c2h4_triplet) - (cc_c2h4_singlet.e_tot + et_cc_c2h4_singlet)) * 627.509))\n",
    "print('Singlet state energy was corrected from the UHF reference by %s kcal')"
   ]
  },
  {
   "cell_type": "code",
   "execution_count": null,
   "metadata": {},
   "outputs": [],
   "source": []
  }
 ],
 "metadata": {
  "kernelspec": {
   "display_name": "chem",
   "language": "python",
   "name": "python3"
  },
  "language_info": {
   "codemirror_mode": {
    "name": "ipython",
    "version": 3
   },
   "file_extension": ".py",
   "mimetype": "text/x-python",
   "name": "python",
   "nbconvert_exporter": "python",
   "pygments_lexer": "ipython3",
   "version": "3.9.5"
  },
  "orig_nbformat": 4,
  "vscode": {
   "interpreter": {
    "hash": "497509e79bc79f8a70294a24f570c38ebc88c08592cfbd2e6af53bc8088cf9ae"
   }
  }
 },
 "nbformat": 4,
 "nbformat_minor": 2
}
