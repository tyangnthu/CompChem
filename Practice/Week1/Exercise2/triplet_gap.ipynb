{
 "cells": [
  {
   "cell_type": "code",
   "execution_count": 7,
   "metadata": {},
   "outputs": [],
   "source": [
    "# import modules and define functions\n",
    "from pyscf import gto, scf, cc\n",
    "from matplotlib import pyplot as plt, ticker\n",
    "import matplotlib as mpl\n",
    "import numpy as np"
   ]
  },
  {
   "cell_type": "code",
   "execution_count": 3,
   "metadata": {},
   "outputs": [
    {
     "data": {
      "text/plain": [
       "<pyscf.gto.mole.Mole at 0x7fe8b9213f10>"
      ]
     },
     "execution_count": 3,
     "metadata": {},
     "output_type": "execute_result"
    }
   ],
   "source": [
    "# build H2 with minimal basis\n",
    "atom = 'C 0.0000 0.0000 0.6695; C 0.0000 0.0000 -0.6695; H 0.0000 0.9289 1.2321; H 0.0000 -0.9289 1.2321; H 0.0000 0.9289 -1.2321; H 0.0000 -0.9289 -1.2321'\n",
    "basis = 'def2-svp'\n",
    "charge = 0\n",
    "spin = 0\n",
    "c2h4_singlet = gto.Mole()\n",
    "c2h4_singlet.build(atom=atom,basis=basis,charge=charge,spin=spin)\n",
    "c2h4_triplet = gto.Mole()\n",
    "c2h4_triplet.build(atom=atom,basis=basis,charge=charge,spin=2)"
   ]
  },
  {
   "cell_type": "code",
   "execution_count": 15,
   "metadata": {},
   "outputs": [
    {
     "name": "stdout",
     "output_type": "stream",
     "text": [
      "converged SCF energy = -77.977497362734  <S^2> = 2.1751489e-12  2S+1 = 1\n",
      "converged SCF energy = -77.8558141191014  <S^2> = 2.0189248  2S+1 = 3.0125901\n",
      "E(UCCSD) = -78.28775593760503  E_corr = -0.3102585748710511\n",
      "E(UCCSD) = -78.12631276305487  E_corr = -0.2704986439534912\n",
      "UCCSD(T) correction = -0.0101069917365134\n",
      "UCCSD(T) correction = -0.00559975460203063\n"
     ]
    }
   ],
   "source": [
    "mf_c2h4_singlet = scf.UHF(c2h4_singlet).run()\n",
    "mf_c2h4_triplet = scf.UHF(c2h4_triplet).run()\n",
    "cc_c2h4_singlet = cc.CCSD(mf_c2h4_singlet).run()\n",
    "cc_c2h4_triplet = cc.CCSD(mf_c2h4_triplet).run()\n",
    "et_cc_c2h4_singlet = cc_c2h4_singlet.ccsd_t()\n",
    "et_cc_c2h4_triplet = cc_c2h4_triplet.ccsd_t()"
   ]
  },
  {
   "cell_type": "code",
   "execution_count": 16,
   "metadata": {},
   "outputs": [
    {
     "name": "stdout",
     "output_type": "stream",
     "text": [
      "SCF gap is 76.35733052864214\n",
      "CCST(T) gap is 104.1353768858127\n"
     ]
    }
   ],
   "source": [
    "print('SCF gap is %s' %((mf_c2h4_triplet.e_tot - mf_c2h4_singlet.e_tot) * 627.509))\n",
    "print('CCST(T) gap is %s' %(((cc_c2h4_triplet.e_tot + et_cc_c2h4_triplet) - (cc_c2h4_singlet.e_tot + et_cc_c2h4_singlet)) * 627.509))"
   ]
  }
 ],
 "metadata": {
  "kernelspec": {
   "display_name": "htvs",
   "language": "python",
   "name": "python3"
  },
  "language_info": {
   "codemirror_mode": {
    "name": "ipython",
    "version": 3
   },
   "file_extension": ".py",
   "mimetype": "text/x-python",
   "name": "python",
   "nbconvert_exporter": "python",
   "pygments_lexer": "ipython3",
   "version": "3.7.10"
  },
  "orig_nbformat": 4,
  "vscode": {
   "interpreter": {
    "hash": "a8f66f56cb9930f2fe20158ea89a0d64feb2d0e24c98acaad26ca4acb8b3f58f"
   }
  }
 },
 "nbformat": 4,
 "nbformat_minor": 2
}
