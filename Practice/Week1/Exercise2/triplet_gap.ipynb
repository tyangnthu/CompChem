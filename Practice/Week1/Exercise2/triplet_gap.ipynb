{
 "cells": [
  {
   "cell_type": "code",
   "execution_count": null,
   "metadata": {},
   "outputs": [],
   "source": [
    "# import modules and define functions\n",
    "from pyscf import gto, scf, cc\n",
    "import numpy as np\n",
    "import pyscf\n",
    "import os\n",
    "os.environ['OMP_NUM_THREADS'] = \"1\" "
   ]
  },
  {
   "cell_type": "code",
   "execution_count": null,
   "metadata": {},
   "outputs": [],
   "source": [
    "# build ethylene with the basis set def2-svp\n",
    "atom = 'C 0.0000 0.0000 0.6695; C 0.0000 0.0000 -0.6695; H 0.0000 0.9289 1.2321; H 0.0000 -0.9289 1.2321; H 0.0000 0.9289 -1.2321; H 0.0000 -0.9289 -1.2321'\n",
    "basis = 'def2-svp'\n",
    "charge = 0\n",
    "spin = 0\n",
    "# build a singlet ethylene\n",
    "c2h4_singlet = gto.Mole()\n",
    "c2h4_singlet.build(atom=atom,basis=basis,charge=charge,spin=spin)\n",
    "# build a triplet ethylene\n",
    "c2h4_triplet = gto.Mole()\n",
    "c2h4_triplet.build(atom=atom,basis=basis,charge=charge,spin=2)"
   ]
  },
  {
   "cell_type": "code",
   "execution_count": null,
   "metadata": {},
   "outputs": [],
   "source": [
    "# calculate their respective HF energies\n",
    "mf_c2h4_singlet = scf.UHF(c2h4_singlet).run()\n",
    "mf_c2h4_triplet = scf.UHF(c2h4_triplet).run()\n",
    "# calculate their respective CCSD(T) energies.\n",
    "# CCSD(T) treats electron correlation\n",
    "cc_c2h4_singlet = cc.CCSD(mf_c2h4_singlet)\n",
    "cc_c2h4_singlet.direct = True\n",
    "cc_c2h4_singlet.run()\n",
    "cc_c2h4_triplet = cc.CCSD(mf_c2h4_triplet)\n",
    "cc_c2h4_triplet.direct = True\n",
    "cc_c2h4_triplet.run()\n",
    "et_cc_c2h4_singlet = cc_c2h4_singlet.ccsd_t()\n",
    "et_cc_c2h4_triplet = cc_c2h4_triplet.ccsd_t()"
   ]
  },
  {
   "cell_type": "code",
   "execution_count": null,
   "metadata": {},
   "outputs": [],
   "source": [
    "print('SCF gap is %s'  %((mf_c2h4_triplet.e_tot - mf_c2h4_singlet.e_tot) * 627.509))\n",
    "print('CCST(T) gap is %s' %(((cc_c2h4_triplet.e_tot + et_cc_c2h4_triplet) - (cc_c2h4_singlet.e_tot + et_cc_c2h4_singlet)) * 627.509))\n",
    "print('Singlet state energy was corrected from the UHF reference by %s' %(((cc_c2h4_singlet.e_tot + et_cc_c2h4_singlet) - mf_c2h4_singlet.e_tot) * 627.509))\n",
    "print('Triplet state energy was corrected from the UHF reference by %s' %(((cc_c2h4_triplet.e_tot + et_cc_c2h4_triplet) - mf_c2h4_triplet.e_tot) * 627.509))"
   ]
  }
 ],
 "metadata": {
  "kernelspec": {
   "display_name": "Python 3",
   "language": "python",
   "name": "python3"
  },
  "language_info": {
   "codemirror_mode": {
    "name": "ipython",
    "version": 3
   },
   "file_extension": ".py",
   "mimetype": "text/x-python",
   "name": "python",
   "nbconvert_exporter": "python",
   "pygments_lexer": "ipython3",
   "version": "3.9.5"
  },
  "vscode": {
   "interpreter": {
    "hash": "497509e79bc79f8a70294a24f570c38ebc88c08592cfbd2e6af53bc8088cf9ae"
   }
  }
 },
 "nbformat": 4,
 "nbformat_minor": 2
}
