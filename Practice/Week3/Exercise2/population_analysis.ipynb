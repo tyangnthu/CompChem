{
 "cells": [
  {
   "cell_type": "code",
   "execution_count": 82,
   "metadata": {},
   "outputs": [],
   "source": [
    "# import modules and define functions\n",
    "from pyscf import gto, scf\n",
    "import pandas as pd\n",
    "import numpy as np\n",
    "import os\n",
    "from functools import reduce\n",
    "os.environ['OMP_NUM_THREADS'] = \"1\"\n",
    "def make_rdm1(mo_coeff, mo_occ):\n",
    "    mocc = mo_coeff[:,mo_occ>0]\n",
    "    return np.dot(mocc*mo_occ[mo_occ>0], mocc.conj().T)"
   ]
  },
  {
   "cell_type": "code",
   "execution_count": 21,
   "metadata": {},
   "outputs": [],
   "source": [
    "# build CO with minimal basis\n",
    "atom = 'C 0 0 0; O 0 0 1.13'\n",
    "basis = 'sto-3g'\n",
    "charge = 0\n",
    "spin = 0\n",
    "co_0_1 = gto.Mole().build(atom=atom,basis=basis,charge=charge,spin=spin)\n",
    "S = co_0_1.intor_symmetric('int1e_ovlp')\n"
   ]
  },
  {
   "cell_type": "code",
   "execution_count": 17,
   "metadata": {},
   "outputs": [
    {
     "name": "stdout",
     "output_type": "stream",
     "text": [
      "converged SCF energy = -111.224753819087\n"
     ]
    }
   ],
   "source": [
    "# perform SCF \n",
    "co_0_1_rhf = scf.RHF(co_0_1).run()"
   ]
  },
  {
   "cell_type": "code",
   "execution_count": 83,
   "metadata": {},
   "outputs": [],
   "source": [
    "## calculate PS\n",
    "# P\n",
    "mo_coeff = co_0_1_rhf.mo_coeff\n",
    "mo_occ = co_0_1_rhf.mo_occ\n",
    "dm = make_rdm1(mo_coeff,mo_occ)\n",
    "PS = np.dot(dm, S)"
   ]
  },
  {
   "cell_type": "code",
   "execution_count": 51,
   "metadata": {},
   "outputs": [],
   "source": [
    "# on which atom are the basis sets\n",
    "nao = co_0_1.nao\n",
    "# nao_atom_idx = [co_0_1.bas_atom(bs_i) for bs_i in range(num_bs)]\n"
   ]
  },
  {
   "cell_type": "code",
   "execution_count": 89,
   "metadata": {},
   "outputs": [
    {
     "data": {
      "text/plain": [
       "array([[ 3.99556462e-04,  9.93605244e-01, -1.26263035e-01,\n",
       "         1.66395188e-01,  4.59275710e-16,  1.15856771e-16,\n",
       "        -1.66919119e-01],\n",
       "       [-8.66480583e-03,  2.63093493e-02,  2.40662013e-01,\n",
       "        -5.40777636e-01, -2.85365327e-15, -6.85544556e-16,\n",
       "         7.59568153e-01],\n",
       "       [ 1.38937630e-17, -1.56548779e-19, -1.02232280e-16,\n",
       "        -3.18091084e-16, -1.20264805e-01,  4.29037150e-01,\n",
       "        -2.16916982e-16],\n",
       "       [ 5.56372192e-18, -4.55042062e-18,  1.19021886e-15,\n",
       "         3.74576514e-15,  4.29037150e-01,  1.20264805e-01,\n",
       "         2.68463493e-15],\n",
       "       [-7.35329225e-03,  6.99650309e-03,  1.66833723e-01,\n",
       "        -6.75690445e-02,  5.40466926e-15,  1.21120485e-15,\n",
       "        -5.72998776e-01],\n",
       "       [ 9.94153311e-01, -2.04843741e-04, -2.22436554e-01,\n",
       "        -1.31974036e-01,  1.07350684e-15,  2.14596137e-16,\n",
       "         8.32279239e-04],\n",
       "       [ 2.77325214e-02, -6.92764184e-03,  7.66794835e-01,\n",
       "         6.45537783e-01, -5.60925397e-15, -1.12190293e-15,\n",
       "         3.93094557e-02],\n",
       "       [-9.00031833e-19, -6.21712076e-20, -5.27405821e-17,\n",
       "        -2.67252089e-16, -2.13570475e-01,  7.61899277e-01,\n",
       "        -3.71742815e-16],\n",
       "       [-5.60815649e-18,  5.31198971e-19,  4.61394975e-16,\n",
       "         4.30420767e-15,  7.61899277e-01,  2.13570475e-01,\n",
       "         7.48982057e-15],\n",
       "       [-6.80533871e-03,  1.00387379e-03, -2.17181356e-01,\n",
       "         6.26385233e-01, -6.80340969e-15, -1.43920831e-15,\n",
       "         4.35159811e-01]])"
      ]
     },
     "execution_count": 89,
     "metadata": {},
     "output_type": "execute_result"
    }
   ],
   "source": [
    "mo_coeff[:,mo_occ>0]"
   ]
  },
  {
   "cell_type": "code",
   "execution_count": 70,
   "metadata": {},
   "outputs": [
    {
     "ename": "IndexError",
     "evalue": "index 6 is out of bounds for axis 0 with size 6",
     "output_type": "error",
     "traceback": [
      "\u001b[0;31m---------------------------------------------------------------------------\u001b[0m",
      "\u001b[0;31mIndexError\u001b[0m                                Traceback (most recent call last)",
      "\u001b[0;32m<ipython-input-70-7cfd9cf4fb97>\u001b[0m in \u001b[0;36m<module>\u001b[0;34m\u001b[0m\n\u001b[0;32m----> 1\u001b[0;31m \u001b[0;34m[\u001b[0m\u001b[0mco_0_1\u001b[0m\u001b[0;34m.\u001b[0m\u001b[0mbas_nprim\u001b[0m\u001b[0;34m(\u001b[0m\u001b[0mao_i\u001b[0m\u001b[0;34m)\u001b[0m \u001b[0;32mfor\u001b[0m \u001b[0mao_i\u001b[0m \u001b[0;32min\u001b[0m \u001b[0mrange\u001b[0m\u001b[0;34m(\u001b[0m\u001b[0mnao\u001b[0m\u001b[0;34m)\u001b[0m\u001b[0;34m]\u001b[0m\u001b[0;34m\u001b[0m\u001b[0;34m\u001b[0m\u001b[0m\n\u001b[0m",
      "\u001b[0;32m<ipython-input-70-7cfd9cf4fb97>\u001b[0m in \u001b[0;36m<listcomp>\u001b[0;34m(.0)\u001b[0m\n\u001b[0;32m----> 1\u001b[0;31m \u001b[0;34m[\u001b[0m\u001b[0mco_0_1\u001b[0m\u001b[0;34m.\u001b[0m\u001b[0mbas_nprim\u001b[0m\u001b[0;34m(\u001b[0m\u001b[0mao_i\u001b[0m\u001b[0;34m)\u001b[0m \u001b[0;32mfor\u001b[0m \u001b[0mao_i\u001b[0m \u001b[0;32min\u001b[0m \u001b[0mrange\u001b[0m\u001b[0;34m(\u001b[0m\u001b[0mnao\u001b[0m\u001b[0;34m)\u001b[0m\u001b[0;34m]\u001b[0m\u001b[0;34m\u001b[0m\u001b[0;34m\u001b[0m\u001b[0m\n\u001b[0m",
      "\u001b[0;32m~/opt/anaconda3/envs/htvs/lib/python3.7/site-packages/pyscf/gto/mole.py\u001b[0m in \u001b[0;36mbas_nprim\u001b[0;34m(self, bas_id)\u001b[0m\n\u001b[1;32m   3091\u001b[0m         \u001b[0;36m11\u001b[0m\u001b[0;34m\u001b[0m\u001b[0;34m\u001b[0m\u001b[0m\n\u001b[1;32m   3092\u001b[0m         '''\n\u001b[0;32m-> 3093\u001b[0;31m         \u001b[0;32mreturn\u001b[0m \u001b[0mself\u001b[0m\u001b[0;34m.\u001b[0m\u001b[0m_bas\u001b[0m\u001b[0;34m[\u001b[0m\u001b[0mbas_id\u001b[0m\u001b[0;34m,\u001b[0m\u001b[0mNPRIM_OF\u001b[0m\u001b[0;34m]\u001b[0m\u001b[0;34m\u001b[0m\u001b[0;34m\u001b[0m\u001b[0m\n\u001b[0m\u001b[1;32m   3094\u001b[0m \u001b[0;34m\u001b[0m\u001b[0m\n\u001b[1;32m   3095\u001b[0m     \u001b[0;32mdef\u001b[0m \u001b[0mbas_kappa\u001b[0m\u001b[0;34m(\u001b[0m\u001b[0mself\u001b[0m\u001b[0;34m,\u001b[0m \u001b[0mbas_id\u001b[0m\u001b[0;34m)\u001b[0m\u001b[0;34m:\u001b[0m\u001b[0;34m\u001b[0m\u001b[0;34m\u001b[0m\u001b[0m\n",
      "\u001b[0;31mIndexError\u001b[0m: index 6 is out of bounds for axis 0 with size 6"
     ]
    }
   ],
   "source": [
    "[co_0_1.bas_nprim(ao_i) for ao_i in range(nao)]"
   ]
  },
  {
   "cell_type": "code",
   "execution_count": 78,
   "metadata": {},
   "outputs": [
    {
     "data": {
      "text/plain": [
       "3"
      ]
     },
     "execution_count": 78,
     "metadata": {},
     "output_type": "execute_result"
    }
   ],
   "source": [
    "co_0_1.bas_nprim(5)"
   ]
  }
 ],
 "metadata": {
  "kernelspec": {
   "display_name": "Python 3",
   "language": "python",
   "name": "python3"
  },
  "language_info": {
   "codemirror_mode": {
    "name": "ipython",
    "version": 3
   },
   "file_extension": ".py",
   "mimetype": "text/x-python",
   "name": "python",
   "nbconvert_exporter": "python",
   "pygments_lexer": "ipython3",
   "version": "3.7.10"
  },
  "vscode": {
   "interpreter": {
    "hash": "497509e79bc79f8a70294a24f570c38ebc88c08592cfbd2e6af53bc8088cf9ae"
   }
  }
 },
 "nbformat": 4,
 "nbformat_minor": 2
}
