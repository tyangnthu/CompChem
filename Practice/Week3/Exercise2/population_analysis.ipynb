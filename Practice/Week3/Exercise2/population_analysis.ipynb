{
 "cells": [
  {
   "cell_type": "code",
   "execution_count": null,
   "metadata": {},
   "outputs": [],
   "source": [
    "# import modules and define functions\n",
    "from pyscf import gto, scf\n",
    "import pandas as pd\n",
    "import numpy as np\n",
    "from scipy import linalg\n",
    "import os\n",
    "from functools import reduce\n",
    "os.environ['OMP_NUM_THREADS'] = \"1\"\n",
    "def make_rdm1(mo_coeff, mo_occ):\n",
    "    mocc = mo_coeff[:,mo_occ>0]\n",
    "    return np.dot(mocc*mo_occ[mo_occ>0], mocc.conj().T)"
   ]
  },
  {
   "attachments": {},
   "cell_type": "markdown",
   "metadata": {},
   "source": [
    "# Mulliken charge population"
   ]
  },
  {
   "cell_type": "code",
   "execution_count": null,
   "metadata": {},
   "outputs": [],
   "source": [
    "# build CO with minimal basis\n",
    "atom = 'C 0 0 0; O 0 0 1.13'\n",
    "basis = 'sto-3g'\n",
    "charge = 0\n",
    "spin = 0\n",
    "co_0_1 = gto.Mole().build(atom=atom,basis=basis,charge=charge,spin=spin)\n",
    "# calculate S\n",
    "S = co_0_1.intor_symmetric('int1e_ovlp')\n"
   ]
  },
  {
   "cell_type": "code",
   "execution_count": null,
   "metadata": {},
   "outputs": [],
   "source": [
    "# perform SCF \n",
    "co_0_1_rhf = scf.RHF(co_0_1).run()"
   ]
  },
  {
   "cell_type": "code",
   "execution_count": null,
   "metadata": {},
   "outputs": [],
   "source": [
    "## calculate PS\n",
    "# calculate P\n",
    "mo_coeff = co_0_1_rhf.mo_coeff\n",
    "mo_occ = co_0_1_rhf.mo_occ\n",
    "dm = make_rdm1(mo_coeff,mo_occ)\n",
    "# calculate PS\n",
    "PS = np.dot(dm, S)\n",
    "print('The PS matrix has the size of %s by %s.' %(PS.shape))"
   ]
  },
  {
   "cell_type": "code",
   "execution_count": null,
   "metadata": {},
   "outputs": [],
   "source": [
    "## on which atom are the basis sets\n",
    "# number of atomic orbitals\n",
    "nao = co_0_1.nao\n",
    "print('There are %s of atomic orbitals.' %(nao))\n",
    "# number of basis functions (e.g. 2p orbitals are counted as 1)\n",
    "num_bs = co_0_1.nbas\n",
    "# find out on which atom is each atomic orbital\n",
    "nao_atom_idx = np.zeros(nao)\n",
    "count = 0\n",
    "for bs_i in range(num_bs):\n",
    "    for i in range(co_0_1.bas_angular(bs_i)*2+1):\n",
    "        nao_atom_idx[count] = co_0_1.bas_atom(bs_i)\n",
    "        count += 1\n"
   ]
  },
  {
   "cell_type": "code",
   "execution_count": null,
   "metadata": {},
   "outputs": [],
   "source": [
    "# find tr(PS_\\mu\\mu), mu belongs to A and calculate q_A\n",
    "num_atoms = co_0_1.natm\n",
    "qs_nuc = [co_0_1.atom_charge(i) for i in range(num_atoms)]\n",
    "asyms = []\n",
    "qs_mulliken = []\n",
    "print('The Mulliken charge for each atom in the molecule CO is:')\n",
    "for i in range(num_atoms):\n",
    "    ne_mulliken = np.trace(PS[nao_atom_idx == i].T[nao_atom_idx == i])\n",
    "    q_mulliken = qs_nuc[i] - ne_mulliken\n",
    "    asym = co_0_1.atom_symbol(i)\n",
    "    print('%s: %.4f' %(asym, q_mulliken))"
   ]
  },
  {
   "attachments": {},
   "cell_type": "markdown",
   "metadata": {},
   "source": [
    "# Loewdin charge population"
   ]
  },
  {
   "cell_type": "code",
   "execution_count": null,
   "metadata": {},
   "outputs": [],
   "source": [
    "# find tr(PS_\\mu\\mu), mu belongs to A and calculate q_A\n",
    "PS_L = reduce(lambda a, b: np.dot(a,b), [linalg.sqrtm(S), dm, linalg.sqrtm(S)])\n",
    "num_atoms = co_0_1.natm\n",
    "qs_nuc = [co_0_1.atom_charge(i) for i in range(num_atoms)]\n",
    "asyms = []\n",
    "qs_mulliken = []\n",
    "print('The Loewdin charge for each atom in the molecule CO is:')\n",
    "for i in range(num_atoms):\n",
    "    ne_mulliken = np.trace(PS_L[nao_atom_idx == i].T[nao_atom_idx == i])\n",
    "    q_mulliken = qs_nuc[i] - ne_mulliken\n",
    "    asym = co_0_1.atom_symbol(i)\n",
    "    print('%s: %.4f' %(asym, q_mulliken))"
   ]
  },
  {
   "attachments": {},
   "cell_type": "markdown",
   "metadata": {},
   "source": [
    "# Charge population as we transform the atomic orbitals closer to orthonormal"
   ]
  },
  {
   "cell_type": "code",
   "execution_count": null,
   "metadata": {},
   "outputs": [],
   "source": [
    "# find tr(PS_\\mu\\mu), mu belongs to A and calculate q_A\n",
    "data_dict = {}\n",
    "for n in np.linspace(0,1,11):\n",
    "    PS_n = reduce(lambda a, b: np.dot(a,b), [linalg.fractional_matrix_power(S, n), dm, linalg.fractional_matrix_power(S, 1-n)])\n",
    "    num_atoms = co_0_1.natm\n",
    "    qs_nuc = [co_0_1.atom_charge(i) for i in range(num_atoms)]\n",
    "    asyms = []\n",
    "    qs_mulliken = []\n",
    "    data = {}\n",
    "    for i in range(num_atoms):\n",
    "        ne_mulliken = np.trace(PS_n[nao_atom_idx == i].T[nao_atom_idx == i])\n",
    "        q_i = qs_nuc[i] - ne_mulliken\n",
    "        asym = co_0_1.atom_symbol(i)\n",
    "        data[asym] = q_i\n",
    "    data_dict[n] = data"
   ]
  },
  {
   "cell_type": "code",
   "execution_count": null,
   "metadata": {},
   "outputs": [],
   "source": [
    "pd.DataFrame(data_dict)"
   ]
  }
 ],
 "metadata": {
  "kernelspec": {
   "display_name": "Python 3",
   "language": "python",
   "name": "python3"
  },
  "language_info": {
   "codemirror_mode": {
    "name": "ipython",
    "version": 3
   },
   "file_extension": ".py",
   "mimetype": "text/x-python",
   "name": "python",
   "nbconvert_exporter": "python",
   "pygments_lexer": "ipython3",
   "version": "3.9.5"
  },
  "vscode": {
   "interpreter": {
    "hash": "497509e79bc79f8a70294a24f570c38ebc88c08592cfbd2e6af53bc8088cf9ae"
   }
  }
 },
 "nbformat": 4,
 "nbformat_minor": 2
}
