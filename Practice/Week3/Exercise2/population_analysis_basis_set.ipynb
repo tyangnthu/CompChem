{
 "cells": [
  {
   "cell_type": "code",
   "execution_count": null,
   "metadata": {},
   "outputs": [],
   "source": [
    "# import modules and define functions\n",
    "from pyscf import gto, scf\n",
    "import pandas as pd\n",
    "import numpy as np\n",
    "from matplotlib import pyplot as plt, ticker\n",
    "import matplotlib as mpl\n",
    "import os\n",
    "from scipy import linalg\n",
    "from functools import reduce\n",
    "os.environ['OMP_NUM_THREADS'] = \"1\"\n",
    "def make_rdm1(mo_coeff, mo_occ):\n",
    "    mocc = mo_coeff[:,mo_occ>0]\n",
    "    return np.dot(mocc*mo_occ[mo_occ>0], mocc.conj().T)"
   ]
  },
  {
   "attachments": {},
   "cell_type": "markdown",
   "metadata": {},
   "source": [
    "# Basis set dependence of charge density"
   ]
  },
  {
   "cell_type": "code",
   "execution_count": null,
   "metadata": {},
   "outputs": [],
   "source": [
    "# build CO with minimal basis\n",
    "atom = 'C 0 0 0; O 0 0 1.13'\n",
    "# bss = ['sto-3g', '3-21g', '4-31g', '6-31g', '6-31g*', '6-31g**', '6-31+g**', '6-31++g**']\n",
    "bss = ['def2-SVP', 'def2-SVPD', 'def2-TZVP', 'def2-TZVPP', 'def2-TZVPPD', 'def2-QZVP', 'def2-QZVPP', 'def2-QZVPPD']\n",
    "mulliken_charge_dict = {}\n",
    "loewdin_charge_dict = {}\n",
    "for basis in bss:\n",
    "    charge = 0\n",
    "    spin = 0\n",
    "    co_0_1 = gto.Mole().build(atom=atom,basis=basis,charge=charge,spin=spin)\n",
    "    S = co_0_1.intor_symmetric('int1e_ovlp')\n",
    "    # perform SCF \n",
    "    co_0_1_rhf = scf.RHF(co_0_1).run()\n",
    "    ## calculate PS\n",
    "    mo_coeff = co_0_1_rhf.mo_coeff\n",
    "    mo_occ = co_0_1_rhf.mo_occ\n",
    "    dm = make_rdm1(mo_coeff,mo_occ)\n",
    "    #######\n",
    "    #!TODO#\n",
    "    #######\n",
    "    PS = \n",
    "    #######\n",
    "    #!TODO#\n",
    "    #######\n",
    "    PS_L = \n",
    "    ## on which atom are the basis sets\n",
    "    # number of atomic orbitals\n",
    "    nao = co_0_1.nao\n",
    "    # number of basis functions (e.g. 2p orbitals are counted as 1)\n",
    "    num_bs = co_0_1.nbas\n",
    "    # find out on which atom is each atomic orbital\n",
    "    nao_atom_idx = np.zeros(nao)\n",
    "    count = 0\n",
    "    for bs_i in range(num_bs):\n",
    "        for i in range(co_0_1.bas_angular(bs_i)*2+1):\n",
    "            nao_atom_idx[count] = co_0_1.bas_atom(bs_i)\n",
    "            count += 1\n",
    "    # find tr(PS_\\mu\\mu), mu belongs to A and calculate q_A\n",
    "    num_atoms = co_0_1.natm\n",
    "    qs_nuc = [co_0_1.atom_charge(i) for i in range(num_atoms)]\n",
    "    mulliken_data = {}\n",
    "    loewdin_data = {}\n",
    "    for i in range(num_atoms):\n",
    "        ne_mulliken = np.trace(PS[nao_atom_idx == i].T[nao_atom_idx == i])\n",
    "        q_mulliken = qs_nuc[i] - ne_mulliken\n",
    "        ne_loewdin = np.trace(PS_L[nao_atom_idx == i].T[nao_atom_idx == i])\n",
    "        q_loewdin = qs_nuc[i] - ne_loewdin\n",
    "        asym = co_0_1.atom_symbol(i)\n",
    "        mulliken_data[asym] = q_mulliken\n",
    "        loewdin_data[asym] = q_loewdin\n",
    "    mulliken_charge_dict[basis] = mulliken_data\n",
    "    loewdin_charge_dict[basis] = loewdin_data"
   ]
  },
  {
   "cell_type": "code",
   "execution_count": null,
   "metadata": {},
   "outputs": [],
   "source": [
    "# plot\n",
    "# plot the change of energy \n",
    "xlabel = 'Basis sets'\n",
    "ylabel = 'Charge'\n",
    "title = 'Basis set effect on Mulliken charge density'\n",
    "mpl.rcParams['axes.linewidth'] = 3\n",
    "mpl.rcParams['xtick.major.size'] = 10\n",
    "mpl.rcParams['xtick.labelsize'] = 16\n",
    "mpl.rcParams['ytick.labelsize'] = 16\n",
    "mpl.rcParams['xtick.major.width'] = 3\n",
    "mpl.rcParams['ytick.major.size'] = 10\n",
    "mpl.rcParams['ytick.major.width'] = 3\n",
    "mpl.rcParams['xtick.minor.size'] = 5\n",
    "mpl.rcParams['xtick.minor.width'] = 3\n",
    "mpl.rcParams['ytick.minor.size'] = 5\n",
    "mpl.rcParams['ytick.minor.width'] = 3\n",
    "mpl.rcParams['xtick.direction'] = 'in'\n",
    "mpl.rcParams['ytick.direction'] = 'in'\n",
    "fig, ax = plt.subplots(figsize=(15,6))\n",
    "ax.yaxis.set_major_locator(ticker.MultipleLocator(0.2))\n",
    "ax.yaxis.set_minor_locator(ticker.MultipleLocator(0.1))\n",
    "ax.set_ylim(-0.5,0.5)\n",
    "ax.set_xlabel(xlabel, fontsize=16)\n",
    "ax.set_ylabel(ylabel, fontsize=16)\n",
    "ax.set_title(title, fontsize=22)\n",
    "ax.plot(pd.DataFrame(mulliken_charge_dict).T)\n",
    "ax.legend(['C', 'O'])\n",
    "plt.show()"
   ]
  },
  {
   "cell_type": "code",
   "execution_count": null,
   "metadata": {},
   "outputs": [],
   "source": [
    "# plot\n",
    "# plot the change of energy \n",
    "xlabel = 'Basis sets'\n",
    "ylabel = 'Charge'\n",
    "title = 'Basis set effect on Loewdin charge density'\n",
    "mpl.rcParams['axes.linewidth'] = 3\n",
    "mpl.rcParams['xtick.major.size'] = 10\n",
    "mpl.rcParams['xtick.labelsize'] = 16\n",
    "mpl.rcParams['ytick.labelsize'] = 16\n",
    "mpl.rcParams['xtick.major.width'] = 3\n",
    "mpl.rcParams['ytick.major.size'] = 10\n",
    "mpl.rcParams['ytick.major.width'] = 3\n",
    "mpl.rcParams['xtick.minor.size'] = 5\n",
    "mpl.rcParams['xtick.minor.width'] = 3\n",
    "mpl.rcParams['ytick.minor.size'] = 5\n",
    "mpl.rcParams['ytick.minor.width'] = 3\n",
    "mpl.rcParams['xtick.direction'] = 'in'\n",
    "mpl.rcParams['ytick.direction'] = 'in'\n",
    "fig, ax = plt.subplots(figsize=(15,6))\n",
    "ax.yaxis.set_major_locator(ticker.MultipleLocator(0.2))\n",
    "ax.yaxis.set_minor_locator(ticker.MultipleLocator(0.1))\n",
    "ax.set_ylim(-0.5,0.5)\n",
    "ax.set_xlabel(xlabel, fontsize=16)\n",
    "ax.set_ylabel(ylabel, fontsize=16)\n",
    "ax.set_title(title, fontsize=22)\n",
    "ax.plot(pd.DataFrame(loewdin_charge_dict).T)\n",
    "ax.legend(['C', 'O'])\n",
    "plt.show()"
   ]
  },
  {
   "cell_type": "code",
   "execution_count": null,
   "metadata": {},
   "outputs": [],
   "source": []
  }
 ],
 "metadata": {
  "kernelspec": {
   "display_name": "Python 3",
   "language": "python",
   "name": "python3"
  },
  "language_info": {
   "codemirror_mode": {
    "name": "ipython",
    "version": 3
   },
   "file_extension": ".py",
   "mimetype": "text/x-python",
   "name": "python",
   "nbconvert_exporter": "python",
   "pygments_lexer": "ipython3",
   "version": "3.9.5"
  },
  "vscode": {
   "interpreter": {
    "hash": "497509e79bc79f8a70294a24f570c38ebc88c08592cfbd2e6af53bc8088cf9ae"
   }
  }
 },
 "nbformat": 4,
 "nbformat_minor": 2
}
