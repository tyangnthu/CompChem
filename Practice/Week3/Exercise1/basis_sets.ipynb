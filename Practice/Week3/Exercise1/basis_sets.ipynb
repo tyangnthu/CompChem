{
 "cells": [
  {
   "cell_type": "code",
   "execution_count": null,
   "metadata": {},
   "outputs": [],
   "source": [
    "# import modules and define functions\n",
    "from pyscf import gto, scf\n",
    "import pandas as pd\n",
    "from matplotlib import pyplot as plt, ticker\n",
    "import matplotlib as mpl\n",
    "import os\n",
    "os.environ['OMP_NUM_THREADS'] = \"1\""
   ]
  },
  {
   "attachments": {},
   "cell_type": "markdown",
   "metadata": {},
   "source": [
    "# basis set dependence of energy convergence"
   ]
  },
  {
   "cell_type": "code",
   "execution_count": null,
   "metadata": {},
   "outputs": [],
   "source": [
    "## build H with various Pople's basis sets\n",
    "bss = []\n",
    "es_pople = {}\n",
    "for basis in bss:\n",
    "    atom = 'H 0 0 0'\n",
    "    charge = 0\n",
    "    spin = 1\n",
    "    h_1_2 = gto.Mole().build(atom=atom,basis=basis,charge=charge,spin=spin)\n",
    "    h_1_2_uhf = scf.UHF(h_1_2).run()\n",
    "    es_pople[basis] = (h_1_2_uhf.e_tot - -0.5) * 627.509\n",
    "    # calculate S\n"
   ]
  },
  {
   "cell_type": "code",
   "execution_count": null,
   "metadata": {},
   "outputs": [],
   "source": [
    "## build H with various Dunning's basis sets\n",
    "bss = []\n",
    "es_dunning = {}\n",
    "for basis in bss:\n",
    "    atom = 'H 0 0 0'\n",
    "    charge = 0\n",
    "    spin = 1\n",
    "    h_1_2 = gto.Mole().build(atom=atom,basis=basis,charge=charge,spin=spin)\n",
    "    h_1_2_uhf = scf.UHF(h_1_2).run()\n",
    "    es_dunning[basis] = (h_1_2_uhf.e_tot - -0.5) * 627.509\n",
    "    # calculate S\n"
   ]
  },
  {
   "cell_type": "code",
   "execution_count": null,
   "metadata": {},
   "outputs": [],
   "source": [
    "## build H with various Karlsruhe's basis sets\n",
    "bss = []\n",
    "es_def2 = {}\n",
    "for basis in bss:\n",
    "    atom = 'H 0 0 0'\n",
    "    charge = 0\n",
    "    spin = 1\n",
    "    h_1_2 = gto.Mole().build(atom=atom,basis=basis,charge=charge,spin=spin)\n",
    "    h_1_2_uhf = scf.UHF(h_1_2).run()\n",
    "    es_def2[basis] = (h_1_2_uhf.e_tot - -0.5) * 627.509\n",
    "    # calculate S\n"
   ]
  },
  {
   "cell_type": "code",
   "execution_count": null,
   "metadata": {},
   "outputs": [],
   "source": [
    "# plot\n",
    "# plot the change of energy \n",
    "xlabel = 'Basis sets'\n",
    "ylabel = 'Energy deviation / (kcal/mol)'\n",
    "title = 'Basis set convergence for H'\n",
    "mpl.rcParams['axes.linewidth'] = 3\n",
    "mpl.rcParams['xtick.major.size'] = 10\n",
    "mpl.rcParams['xtick.labelsize'] = 16\n",
    "mpl.rcParams['ytick.labelsize'] = 16\n",
    "mpl.rcParams['xtick.major.width'] = 3\n",
    "mpl.rcParams['ytick.major.size'] = 10\n",
    "mpl.rcParams['ytick.major.width'] = 3\n",
    "mpl.rcParams['xtick.minor.size'] = 5\n",
    "mpl.rcParams['xtick.minor.width'] = 3\n",
    "mpl.rcParams['ytick.minor.size'] = 5\n",
    "mpl.rcParams['ytick.minor.width'] = 3\n",
    "mpl.rcParams['xtick.direction'] = 'in'\n",
    "mpl.rcParams['ytick.direction'] = 'in'\n",
    "for i in [es_pople, es_dunning, es_def2]:\n",
    "    fig, ax = plt.subplots(figsize=(15,6))\n",
    "    ax.yaxis.set_major_locator(ticker.MultipleLocator(0.6))\n",
    "    ax.yaxis.set_minor_locator(ticker.MultipleLocator(0.3))\n",
    "    ax.set_ylim(-0.1,3)\n",
    "    ax.set_xlabel(xlabel, fontsize=16)\n",
    "    ax.set_ylabel(ylabel, fontsize=16)\n",
    "    ax.set_title(title, fontsize=22)\n",
    "    ax.plot(*zip(*i.items()))\n",
    "    plt.show()"
   ]
  },
  {
   "cell_type": "code",
   "execution_count": null,
   "metadata": {},
   "outputs": [],
   "source": []
  }
 ],
 "metadata": {
  "kernelspec": {
   "display_name": "Python 3",
   "language": "python",
   "name": "python3"
  },
  "language_info": {
   "codemirror_mode": {
    "name": "ipython",
    "version": 3
   },
   "file_extension": ".py",
   "mimetype": "text/x-python",
   "name": "python",
   "nbconvert_exporter": "python",
   "pygments_lexer": "ipython3",
   "version": "3.9.5"
  },
  "vscode": {
   "interpreter": {
    "hash": "497509e79bc79f8a70294a24f570c38ebc88c08592cfbd2e6af53bc8088cf9ae"
   }
  }
 },
 "nbformat": 4,
 "nbformat_minor": 2
}
