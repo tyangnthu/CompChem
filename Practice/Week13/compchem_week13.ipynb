{
  "nbformat": 4,
  "nbformat_minor": 0,
  "metadata": {
    "colab": {
      "provenance": [],
      "gpuType": "T4",
      "authorship_tag": "ABX9TyODuwsjFDhU7+j4U4mJvvey",
      "include_colab_link": true
    },
    "kernelspec": {
      "name": "python3",
      "display_name": "Python 3"
    },
    "language_info": {
      "name": "python"
    },
    "accelerator": "GPU"
  },
  "cells": [
    {
      "cell_type": "markdown",
      "metadata": {
        "id": "view-in-github",
        "colab_type": "text"
      },
      "source": [
        "<a href=\"https://colab.research.google.com/github/tyangnthu/CompChem/blob/main/compchem_week13.ipynb\" target=\"_parent\"><img src=\"https://colab.research.google.com/assets/colab-badge.svg\" alt=\"Open In Colab\"/></a>"
      ]
    },
    {
      "cell_type": "markdown",
      "source": [
        "Exercise0"
      ],
      "metadata": {
        "id": "u84TReXTfrcW"
      }
    },
    {
      "cell_type": "code",
      "source": [
        "!git clone https://github.com/tyangnthu/CompChem.git"
      ],
      "metadata": {
        "id": "xr8ik2h3fvHu"
      },
      "execution_count": null,
      "outputs": []
    },
    {
      "cell_type": "markdown",
      "source": [
        "Exercise1"
      ],
      "metadata": {
        "id": "pYYG84AQfttW"
      }
    },
    {
      "cell_type": "code",
      "execution_count": null,
      "metadata": {
        "id": "xbsm1mTUeJEx"
      },
      "outputs": [],
      "source": [
        "%cd /content/CompChem/Practice/Week13/Exercise1\n",
        "!git clone https://github.com/connorcoley/scscore.git\n",
        "!pip install rdkit"
      ]
    },
    {
      "cell_type": "code",
      "source": [
        "%cd /content/CompChem/Practice/Week13/Exercise1/scscore\n",
        "!python scscore/standalone_model_numpy.py"
      ],
      "metadata": {
        "id": "hsw1bIQfe5aM"
      },
      "execution_count": null,
      "outputs": []
    },
    {
      "cell_type": "code",
      "source": [],
      "metadata": {
        "id": "lQBhyJTOfNQn"
      },
      "execution_count": null,
      "outputs": []
    },
    {
      "cell_type": "markdown",
      "source": [
        "Exercise2"
      ],
      "metadata": {
        "id": "PlSweKm8gB1f"
      }
    },
    {
      "cell_type": "code",
      "source": [
        "%cd /content/CompChem/Practice/Week13/Exercise2\n",
        "!pip install rdkit\n",
        "!python train.py"
      ],
      "metadata": {
        "id": "-m3eAgregCeM"
      },
      "execution_count": null,
      "outputs": []
    },
    {
      "cell_type": "markdown",
      "source": [
        "Exercise3"
      ],
      "metadata": {
        "id": "bIJHx6rej_R_"
      }
    },
    {
      "cell_type": "code",
      "source": [
        "%cd /content/CompChem/Practice/Week13/Exercise3"
      ],
      "metadata": {
        "id": "dkCWhITUj_5p"
      },
      "execution_count": null,
      "outputs": []
    },
    {
      "cell_type": "code",
      "source": [
        "\n",
        "import re, scipy, os, glob\n",
        "import pandas as pd\n",
        "import numpy as np\n",
        "from matplotlib import pyplot as plt, ticker\n",
        "import scipy.optimize as opt\n",
        "from collections import defaultdict\n",
        "import numpy as np\n",
        "from scipy.interpolate import interp1d\n",
        "from scipy.optimize import curve_fit\n",
        "\n",
        "# Define the path pattern to find train_loss.csv files\n",
        "files = glob.glob(os.path.join('..', 'Exercise2', '*', 'train_loss.csv'))\n",
        "test_files = glob.glob(os.path.join('..', 'Exercise2', '*', 'test_loss.csv'))\n",
        "# Plotting setup\n",
        "plt.figure(figsize=(6, 6))\n",
        "plt.xticks(fontsize=15)\n",
        "plt.yticks(fontsize=15)\n",
        "plt.xlabel('Iteration', fontsize=16)\n",
        "plt.ylabel('Loss', fontsize=16)\n",
        "print('train_loss')\n",
        "# Iterate over the files\n",
        "for file in files:\n",
        "    name = file.split('/')[-2]\n",
        "    df = pd.read_csv(file)\n",
        "    x = df['Iteration']\n",
        "    y = df['Loss']\n",
        "    cubic_interpolation_model = interp1d(x, y, kind=\"cubic\")\n",
        "    Y_ = cubic_interpolation_model(x)\n",
        "    plt.plot(x, Y_, label=name)\n",
        "# Add legend\n",
        "plt.legend(fontsize=12)\n",
        "plt.show()\n",
        "print('test_loss')\n",
        "\n",
        "plt.figure(figsize=(6, 6))\n",
        "plt.xticks(fontsize=15)\n",
        "plt.yticks(fontsize=15)\n",
        "plt.xlabel('Iteration', fontsize=16)\n",
        "plt.ylabel('Loss', fontsize=16)\n",
        "for file in test_files:\n",
        "    name = file.split('/')[-2]\n",
        "    df = pd.read_csv(file)\n",
        "    x = df['Iteration']\n",
        "    y = df['Loss']\n",
        "    cubic_interpolation_model = interp1d(x, y, kind=\"cubic\")\n",
        "    Y_ = cubic_interpolation_model(x)\n",
        "    plt.plot(x, Y_, label=name)\n",
        "# Add legend\n",
        "plt.legend(fontsize=12)\n",
        "plt.show()"
      ],
      "metadata": {
        "id": "O3rZ5kvlkNYe"
      },
      "execution_count": null,
      "outputs": []
    },
    {
      "cell_type": "code",
      "source": [
        "import re ,scipy,os ,glob\n",
        "import pandas as pd\n",
        "import numpy as np\n",
        "from matplotlib import pyplot as plt, ticker\n",
        "import scipy.optimize as opt\n",
        "from collections import defaultdict\n",
        "import numpy as np\n",
        "from scipy.interpolate import interp1d\n",
        "from scipy.optimize import curve_fit\n",
        "trainfile = '../Exercise2/2-1024/train-error-output/epoch-55-train_error.csv'\n",
        "testfile = '../Exercise2/2-1024/test-error-output/epoch-55-test_error.csv'\n",
        "df_train = pd.read_csv(trainfile,header=0)\n",
        "df_test = pd.read_csv(testfile,header=0)\n",
        "\n",
        "target = 'TPSA'\n",
        "y1_tpsa = df_train[target + '_Predict']\n",
        "x1_tpsa = df_train[target + '_True']  \n",
        "y2_tpsa = df_test[target + '_Predict']\n",
        "x2_tpsa = df_test[target + '_True']  \n",
        "tpsa_rmse1 = np.sqrt(np.mean((x1_tpsa-y1_tpsa)**2))\n",
        "tpsa_mae_1 = np.mean(abs(x1_tpsa-y1_tpsa))\n",
        "tpsa_rmse2 = np.sqrt(np.mean((x2_tpsa-y2_tpsa)**2))\n",
        "tpsa_mae_2 = np.mean(abs(x2_tpsa-y2_tpsa))\n",
        "target = 'Logp'\n",
        "y1_logp = df_train['LogP_predict']\n",
        "x1_logp = df_train[target + '_True']  \n",
        "y2_logp = df_test['LogP_predict']\n",
        "x2_logp = df_test[target + '_True']  \n",
        "logp_rmse1 = np.sqrt(np.mean((x1_logp-y1_logp)**2))\n",
        "logp_mae_1 = np.mean(abs(x1_logp-y1_logp))\n",
        "logp_rmse2 = np.sqrt(np.mean((x2_logp-y2_logp)**2))\n",
        "logp_mae_2 = np.mean(abs(x2_logp-y2_logp))\n",
        "\n",
        "\n",
        "fig, ax = plt.subplots(figsize=(6,6))\n",
        "target = 'TPSA'\n",
        "xlabel, ylabel = '%s$_{true}$'%(str.upper(target)),'%s$_{predict}$' %(str.upper(target))\n",
        "\n",
        "ax.set_xlabel(xlabel, fontsize=18)\n",
        "ax.set_ylabel(ylabel, fontsize=18)\n",
        "\n",
        "dist = [[0,5],[0,5]]\n",
        "string = 'train RMSE %.3f \\ntest RMSE %.3f\\ntrain MAE %.3f\\ntest MAE %.3f'%(tpsa_rmse1,tpsa_rmse2,tpsa_mae_1,tpsa_mae_2)\n",
        "props = dict(boxstyle='round', facecolor='white', alpha=0.8)\n",
        "ax.text(0.05, 0.95, string, transform=ax.transAxes, fontsize=10,\n",
        "        verticalalignment='top',bbox=props)\n",
        "ax.scatter(x1_tpsa,y1_tpsa,c='royalblue',edgecolors='black',label='train',alpha=0.6)\n",
        "ax.scatter(x2_tpsa,y2_tpsa,c='orange',edgecolors='black',label='test',alpha=0.6)\n",
        "ax.plot([0, 1], [0, 1], \"--\",lw=2,c = 'black',transform=ax.transAxes)\n",
        "plt.legend(loc='lower right')\n",
        "fig, ax = plt.subplots(figsize=(6,6))\n",
        "# print(f)\n",
        "target = 'Logp'\n",
        "xmin, xmax = 0,1\n",
        "ymin, ymax = 0,1\n",
        "xmajor, xminor = 0.5,0.25\n",
        "ymajor, yminor = 0.5,0.25\n",
        "xlabel, ylabel = '%s$_{true}$'%(str.upper(target)),'%s$_{predict}$' %(str.upper(target))\n",
        "\n",
        "dist = [[0,5],[0,5]]\n",
        "string = 'train RMSE %.3f \\ntest RMSE %.3f\\ntrain MAE %.3f\\ntest MAE %.3f'%(logp_rmse1,logp_rmse2,logp_mae_1,logp_mae_2)\n",
        "props = dict(boxstyle='round', facecolor='white', alpha=0.8)\n",
        "ax.text(0.05, 0.95, string, transform=ax.transAxes, fontsize=10,\n",
        "        verticalalignment='top',bbox=props)\n",
        "ax.scatter(x1_logp,y1_logp,c='royalblue',edgecolors='black',label='train',alpha=0.6)\n",
        "ax.scatter(x2_logp,y2_logp,c='orange',edgecolors='black',label='test',alpha=0.6)\n",
        "ax.plot([0, 1], [0, 1], \"--\",lw=2,c = 'black',transform=ax.transAxes)\n",
        "plt.legend(loc='lower right')"
      ],
      "metadata": {
        "id": "tTTnTC5XkZrW"
      },
      "execution_count": null,
      "outputs": []
    },
    {
      "cell_type": "code",
      "source": [],
      "metadata": {
        "id": "rGEEFltulzzX"
      },
      "execution_count": null,
      "outputs": []
    }
  ]
}