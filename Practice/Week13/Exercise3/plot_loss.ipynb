{
 "cells": [
  {
   "cell_type": "code",
   "execution_count": null,
   "metadata": {},
   "outputs": [],
   "source": [
    "import re ,scipy,os ,glob\n",
    "import pandas as pd\n",
    "import numpy as np\n",
    "from matplotlib import pyplot as plt, ticker\n",
    "import scipy.optimize as opt\n",
    "from collections import defaultdict\n",
    "import numpy as np\n",
    "from scipy.interpolate import interp1d\n",
    "from scipy.optimize import curve_fit"
   ]
  },
  {
   "cell_type": "code",
   "execution_count": null,
   "metadata": {},
   "outputs": [],
   "source": [
    "import glob\n",
    "import os\n",
    "import pandas as pd\n",
    "import matplotlib.pyplot as plt\n",
    "from scipy.interpolate import interp1d\n",
    "\n",
    "# Define the path pattern to find train_loss.csv files\n",
    "files = glob.glob(os.path.join('..', 'Exercise2', '*', 'train_loss.csv'))\n",
    "test_files = glob.glob(os.path.join('..', 'Exercise2', '*', 'test_loss.csv'))\n",
    "# Plotting setup\n",
    "plt.figure(figsize=(6, 6))\n",
    "plt.xticks(fontsize=15)\n",
    "plt.yticks(fontsize=15)\n",
    "plt.xlabel('Iteration', fontsize=16)\n",
    "plt.ylabel('Loss', fontsize=16)\n",
    "print('train_loss')\n",
    "# Iterate over the files\n",
    "for file in files:\n",
    "    name = file.split('/')[-2]\n",
    "    df = pd.read_csv(file)\n",
    "    x = df['Iteration']\n",
    "    y = df['Loss']\n",
    "    cubic_interpolation_model = interp1d(x, y, kind=\"cubic\")\n",
    "    Y_ = cubic_interpolation_model(x)\n",
    "    plt.plot(x, Y_, label=name)\n",
    "# Add legend\n",
    "plt.legend(fontsize=12)\n",
    "plt.show()\n",
    "print('test_loss')\n",
    "\n",
    "plt.figure(figsize=(6, 6))\n",
    "plt.xticks(fontsize=15)\n",
    "plt.yticks(fontsize=15)\n",
    "plt.xlabel('Iteration', fontsize=16)\n",
    "plt.ylabel('Loss', fontsize=16)\n",
    "for file in test_files:\n",
    "    name = file.split('/')[-2]\n",
    "    df = pd.read_csv(file)\n",
    "    x = df['Iteration']\n",
    "    y = df['Loss']\n",
    "    cubic_interpolation_model = interp1d(x, y, kind=\"cubic\")\n",
    "    Y_ = cubic_interpolation_model(x)\n",
    "    plt.plot(x, Y_, label=name)\n",
    "# Add legend\n",
    "plt.legend(fontsize=12)\n",
    "plt.show()"
   ]
  },
  {
   "cell_type": "code",
   "execution_count": null,
   "metadata": {},
   "outputs": [],
   "source": []
  }
 ],
 "metadata": {
  "kernelspec": {
   "display_name": "Python 3.6.8 64-bit",
   "language": "python",
   "name": "python3"
  },
  "language_info": {
   "codemirror_mode": {
    "name": "ipython",
    "version": 3
   },
   "file_extension": ".py",
   "mimetype": "text/x-python",
   "name": "python",
   "nbconvert_exporter": "python",
   "pygments_lexer": "ipython3",
   "version": "3.6.13"
  },
  "orig_nbformat": 4,
  "vscode": {
   "interpreter": {
    "hash": "31f2aee4e71d21fbe5cf8b01ff0e069b9275f58929596ceb00d14d90e3e16cd6"
   }
  }
 },
 "nbformat": 4,
 "nbformat_minor": 2
}
