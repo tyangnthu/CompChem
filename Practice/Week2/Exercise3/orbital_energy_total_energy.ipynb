{
 "cells": [
  {
   "cell_type": "code",
   "execution_count": null,
   "metadata": {},
   "outputs": [],
   "source": [
    "# import modules and define functions\n",
    "from pyscf import gto, scf\n",
    "import pandas as pd\n",
    "import numpy as np\n",
    "import os\n",
    "from functools import reduce\n",
    "os.environ['OMP_NUM_THREADS'] = \"1\" "
   ]
  },
  {
   "cell_type": "code",
   "execution_count": null,
   "metadata": {},
   "outputs": [],
   "source": [
    "# build H2 with minimal basis\n",
    "atom = 'H 0 0 0; H 0 0 0.74'\n",
    "basis = 'sto-3g'\n",
    "h2_0_1 = gto.Mole()\n",
    "h2_0_1.build(atom=atom,basis=basis,charge=0,spin=0)"
   ]
  },
  {
   "cell_type": "code",
   "execution_count": null,
   "metadata": {},
   "outputs": [],
   "source": [
    "# get Hcore and nuclear_nuclear_repulsion energy\n",
    "# note that these values are defined as soon as \n",
    "#   a molecule with given coordinates and basis sets is provided\n",
    "h = h2_0_1.intor_symmetric('int1e_kin') + h2_0_1.intor_symmetric('int1e_nuc')\n",
    "e_nuc = h2_0_1.energy_nuc()"
   ]
  },
  {
   "cell_type": "code",
   "execution_count": null,
   "metadata": {},
   "outputs": [],
   "source": [
    "# SCF calculations\n",
    "# HF\n",
    "h2_0_1_rhf = scf.RHF(h2_0_1).run()"
   ]
  },
  {
   "cell_type": "code",
   "execution_count": null,
   "metadata": {},
   "outputs": [],
   "source": [
    "# get the mo_coeffs and the 2e and fock matrix elements\n",
    "mo_coeff = h2_0_1_rhf.mo_coeff\n",
    "mo_occ = h2_0_1_rhf.mo_occ\n",
    "veff = h2_0_1_rhf.get_veff()\n",
    "f = h2_0_1_rhf.get_fock()"
   ]
  },
  {
   "cell_type": "code",
   "execution_count": null,
   "metadata": {},
   "outputs": [],
   "source": [
    "# get H and G\n",
    "H = reduce(lambda a,b: np.dot(a,b), [mo_coeff.T, h, mo_coeff])\n",
    "V = reduce(lambda a,b: np.dot(a,b), [mo_coeff.T, veff, mo_coeff])\n",
    "F = reduce(lambda a,b: np.dot(a,b), [mo_coeff.T, f, mo_coeff])"
   ]
  },
  {
   "cell_type": "code",
   "execution_count": null,
   "metadata": {},
   "outputs": [],
   "source": [
    "# get orbital energies\n",
    "# V = 2J - K\n",
    "E_orb = H + V\n",
    "E_orb = ['MO%s:%.4f Eh' %(i, e) for i, e in enumerate(np.diagonal(E_orb))]\n",
    "print('Orbital energies are %s' %('. '.join(E_orb)))"
   ]
  },
  {
   "cell_type": "code",
   "execution_count": null,
   "metadata": {},
   "outputs": [],
   "source": [
    "# get total electronic energy\n",
    "H1e = np.sum(np.diagonal(H)[mo_occ>0])\n",
    "J2e = np.sum(np.diagonal(V)[mo_occ>0])\n",
    "E_ele = H1e*2+J2e\n",
    "print('Total electronic energy is %.4f Eh' %(E_ele))"
   ]
  },
  {
   "cell_type": "code",
   "execution_count": null,
   "metadata": {},
   "outputs": [],
   "source": [
    "# get total electronic energy\n",
    "# add nuclear nuclear repulsion to the electronic energy\n",
    "E_tot = E_ele + e_nuc\n",
    "print('Total energy is %.4f Eh' %(E_tot))"
   ]
  },
  {
   "cell_type": "code",
   "execution_count": null,
   "metadata": {},
   "outputs": [],
   "source": [
    "h2_0_1_rhf.analyze(verbose=5)"
   ]
  }
 ],
 "metadata": {
  "kernelspec": {
   "display_name": "Python 3",
   "language": "python",
   "name": "python3"
  },
  "language_info": {
   "codemirror_mode": {
    "name": "ipython",
    "version": 3
   },
   "file_extension": ".py",
   "mimetype": "text/x-python",
   "name": "python",
   "nbconvert_exporter": "python",
   "pygments_lexer": "ipython3",
   "version": "3.7.10"
  },
  "vscode": {
   "interpreter": {
    "hash": "497509e79bc79f8a70294a24f570c38ebc88c08592cfbd2e6af53bc8088cf9ae"
   }
  }
 },
 "nbformat": 4,
 "nbformat_minor": 2
}
