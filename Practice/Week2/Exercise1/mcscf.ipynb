{
 "cells": [
  {
   "cell_type": "code",
   "execution_count": 1,
   "metadata": {},
   "outputs": [
    {
     "name": "stderr",
     "output_type": "stream",
     "text": [
      "/Users/nickyang/opt/anaconda3/envs/htvs/lib/python3.7/site-packages/pyscf/lib/misc.py:46: H5pyDeprecationWarning: Setting h5py.default_file_mode is deprecated. 'r' (read-only) is the default from h5py 3.0.\n",
      "  h5py.get_config().default_file_mode = 'r'\n"
     ]
    }
   ],
   "source": [
    "# import modules and define functions\n",
    "from pyscf import gto, scf, fci\n",
    "import pandas as pd\n",
    "import numpy as np\n",
    "import os\n",
    "from functools import reduce\n",
    "from scipy import linalg\n",
    "os.environ['OMP_NUM_THREADS'] = \"1\" "
   ]
  },
  {
   "cell_type": "code",
   "execution_count": 2,
   "metadata": {},
   "outputs": [
    {
     "data": {
      "text/plain": [
       "<pyscf.gto.mole.Mole at 0x7f8c6a19ec90>"
      ]
     },
     "execution_count": 2,
     "metadata": {},
     "output_type": "execute_result"
    }
   ],
   "source": [
    "# build H2 with minimal basis\n",
    "atom = 'O 0 0 0; O 0 0 1.21'\n",
    "basis = 'sto-3g'\n",
    "# initiate a triplet O2\n",
    "o2_triplet = gto.Mole()\n",
    "o2_triplet.build(atom=atom,basis=basis,charge=0,spin=2)"
   ]
  },
  {
   "cell_type": "code",
   "execution_count": 3,
   "metadata": {},
   "outputs": [
    {
     "name": "stdout",
     "output_type": "stream",
     "text": [
      "converged SCF energy = -147.634048505054  <S^2> = 2.003411  2S+1 = 3.0022732\n",
      "converged SCF energy = -147.632274661318\n"
     ]
    }
   ],
   "source": [
    "# calculate UHF and ROHF energies of the triplet O2\n",
    "o2_0_3_uhf = scf.UHF(o2_triplet).run()\n",
    "o2_0_3_rohf = scf.ROHF(o2_triplet).run()"
   ]
  },
  {
   "cell_type": "code",
   "execution_count": 4,
   "metadata": {},
   "outputs": [
    {
     "name": "stdout",
     "output_type": "stream",
     "text": [
      "The UHF energy is lower than the ROHF energy by -1.11 for O2_0_3\n"
     ]
    }
   ],
   "source": [
    "# Energy differences\n",
    "delE_0_3_U_RO = (o2_0_3_uhf.e_tot - o2_0_3_rohf.e_tot) * 627.509\n",
    "print('The UHF energy is lower than the ROHF energy by %s for O2_0_3' %(round(delE_0_3_U_RO, 2)))"
   ]
  },
  {
   "cell_type": "code",
   "execution_count": 5,
   "metadata": {},
   "outputs": [
    {
     "name": "stdout",
     "output_type": "stream",
     "text": [
      "The <S^2> value for UHF O2_0_3 is 2.00\n",
      "The <S^2> value for ROHF O2_0_3 is 2.00\n"
     ]
    }
   ],
   "source": [
    "# S^2 values for various orbitals\n",
    "print('The <S^2> value for UHF O2_0_3 is %.2f' %(o2_0_3_uhf.spin_square()[0]))\n",
    "print('The <S^2> value for ROHF O2_0_3 is %.2f' %(o2_0_3_rohf.spin_square()[0]))"
   ]
  },
  {
   "cell_type": "code",
   "execution_count": 6,
   "metadata": {},
   "outputs": [
    {
     "name": "stdout",
     "output_type": "stream",
     "text": [
      "CASSCF energy = -147.738218757139\n",
      "CASCI E = -147.738218757139  E(CI) = -21.0695711517413  S^2 = 2.0000000\n"
     ]
    }
   ],
   "source": [
    "# perform post HF calculations\n",
    "# perform a CASSCF calculation with 6 active orbitals and 8 active electrons\n",
    "ncas, nelecas = (6,8)\n",
    "o2_0_3_casscf = o2_0_3_rohf.CASSCF(ncas, nelecas).run()"
   ]
  },
  {
   "cell_type": "code",
   "execution_count": 18,
   "metadata": {},
   "outputs": [
    {
     "name": "stdout",
     "output_type": "stream",
     "text": [
      "The UHF energy is lower than the CAS energy by 65.37 for O2_0_3\n"
     ]
    }
   ],
   "source": [
    "# Energy differences\n",
    "delE_0_3_U_CAS = (o2_0_3_uhf.e_tot - o2_0_3_casscf.e_tot) * 627.509\n",
    "print('The UHF energy is lower than the CAS energy by %s for O2_0_3' %(round(delE_0_3_U_CAS, 2)))"
   ]
  },
  {
   "cell_type": "code",
   "execution_count": 9,
   "metadata": {},
   "outputs": [],
   "source": [
    "# do a Full CI run\n",
    "o2_0_3_fci = fci.FCI(o2_0_3_rohf)\n",
    "o2_0_3_fci.run()"
   ]
  },
  {
   "cell_type": "code",
   "execution_count": 17,
   "metadata": {},
   "outputs": [
    {
     "name": "stdout",
     "output_type": "stream",
     "text": [
      "The UHF energy is lower than the FCI energy by 69.49 for O2_0_3\n"
     ]
    }
   ],
   "source": [
    "# Energy differences\n",
    "delE_0_3_U_FCI = (o2_0_3_uhf.e_tot - o2_0_3_fci.e_tot) * 627.509\n",
    "print('The UHF energy is lower than the FCI energy by %s for O2_0_3' %(round(delE_0_3_U_FCI, 2)))"
   ]
  }
 ],
 "metadata": {
  "kernelspec": {
   "display_name": "Python 3",
   "language": "python",
   "name": "python3"
  },
  "language_info": {
   "codemirror_mode": {
    "name": "ipython",
    "version": 3
   },
   "file_extension": ".py",
   "mimetype": "text/x-python",
   "name": "python",
   "nbconvert_exporter": "python",
   "pygments_lexer": "ipython3",
   "version": "3.7.10"
  },
  "vscode": {
   "interpreter": {
    "hash": "497509e79bc79f8a70294a24f570c38ebc88c08592cfbd2e6af53bc8088cf9ae"
   }
  }
 },
 "nbformat": 4,
 "nbformat_minor": 2
}
