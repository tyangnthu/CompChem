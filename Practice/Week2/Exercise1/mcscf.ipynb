{
 "cells": [
  {
   "cell_type": "code",
   "execution_count": null,
   "metadata": {},
   "outputs": [],
   "source": [
    "# import modules and define functions\n",
    "from pyscf import gto, scf, fci, mcscf\n",
    "import pandas as pd\n",
    "import numpy as np\n",
    "import os\n",
    "from functools import reduce\n",
    "from scipy import linalg\n",
    "os.environ['OMP_NUM_THREADS'] = \"1\" "
   ]
  },
  {
   "cell_type": "code",
   "execution_count": null,
   "metadata": {},
   "outputs": [],
   "source": [
    "# build H2 with minimal basis\n",
    "atom = 'O 0 0 0; O 0 0 1.21'\n",
    "basis = 'sto-3g'\n",
    "# initiate a triplet O2\n",
    "o2_triplet = gto.Mole()\n",
    "o2_triplet.build(atom=atom,basis=basis,charge=0,spin=2)"
   ]
  },
  {
   "cell_type": "code",
   "execution_count": null,
   "metadata": {},
   "outputs": [],
   "source": [
    "# calculate UHF and ROHF energies of the triplet O2\n",
    "o2_0_3_uhf = scf.UHF(o2_triplet).run()\n",
    "o2_0_3_rohf = scf.ROHF(o2_triplet).run()"
   ]
  },
  {
   "cell_type": "code",
   "execution_count": null,
   "metadata": {},
   "outputs": [],
   "source": [
    "# Energy differences\n",
    "delE_0_3_U_RO = (o2_0_3_uhf.e_tot - o2_0_3_rohf.e_tot) * 627.509\n",
    "print('The UHF energy is lower than the ROHF energy by %s for O2_0_3' %(round(delE_0_3_U_RO, 2)))"
   ]
  },
  {
   "cell_type": "code",
   "execution_count": null,
   "metadata": {},
   "outputs": [],
   "source": [
    "# S^2 values for various orbitals\n",
    "print('The <S^2> value for UHF O2_0_3 is %.2f' %(o2_0_3_uhf.spin_square()[0]))\n",
    "print('The <S^2> value for ROHF O2_0_3 is %.2f' %(o2_0_3_rohf.spin_square()[0]))"
   ]
  },
  {
   "cell_type": "code",
   "execution_count": null,
   "metadata": {},
   "outputs": [],
   "source": [
    "# perform post HF calculations\n",
    "# perform a CASSCF calculation with 6 active orbitals and 8 active electrons\n",
    "ncas, nelecas = (6,8)\n",
    "o2_0_3_casscf = mcscf.CASSCF(o2_0_3_rohf, ncas, nelecas)\n",
    "o2_0_3_casscf.run()"
   ]
  },
  {
   "cell_type": "code",
   "execution_count": null,
   "metadata": {},
   "outputs": [],
   "source": [
    "# Energy differences\n",
    "delE_0_3_U_CAS = (o2_0_3_uhf.e_tot - o2_0_3_casscf.e_tot) * 627.509\n",
    "print('The UHF energy is lower than the CAS energy by %s for O2_0_3' %(round(delE_0_3_U_CAS, 2)))"
   ]
  },
  {
   "cell_type": "code",
   "execution_count": null,
   "metadata": {},
   "outputs": [],
   "source": [
    "# do a Full CI run\n",
    "o2_0_3_fci = fci.FCI(o2_0_3_rohf)\n",
    "o2_0_3_fci.run()"
   ]
  },
  {
   "cell_type": "code",
   "execution_count": null,
   "metadata": {},
   "outputs": [],
   "source": [
    "# Energy differences\n",
    "delE_0_3_U_FCI = (o2_0_3_uhf.e_tot - o2_0_3_fci.e_tot) * 627.509\n",
    "print('The UHF energy is lower than the FCI energy by %s for O2_0_3' %(round(delE_0_3_U_FCI, 2)))"
   ]
  },
  {
   "cell_type": "code",
   "execution_count": null,
   "metadata": {},
   "outputs": [],
   "source": []
  }
 ],
 "metadata": {
  "kernelspec": {
   "display_name": "Python 3",
   "language": "python",
   "name": "python3"
  },
  "language_info": {
   "codemirror_mode": {
    "name": "ipython",
    "version": 3
   },
   "file_extension": ".py",
   "mimetype": "text/x-python",
   "name": "python",
   "nbconvert_exporter": "python",
   "pygments_lexer": "ipython3",
   "version": "3.7.10"
  },
  "vscode": {
   "interpreter": {
    "hash": "497509e79bc79f8a70294a24f570c38ebc88c08592cfbd2e6af53bc8088cf9ae"
   }
  }
 },
 "nbformat": 4,
 "nbformat_minor": 2
}
