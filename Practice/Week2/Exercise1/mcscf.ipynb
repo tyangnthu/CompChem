{
 "cells": [
  {
   "cell_type": "code",
   "execution_count": null,
   "metadata": {},
   "outputs": [
    {
     "ename": "",
     "evalue": "",
     "output_type": "error",
     "traceback": [
      "\u001b[1;31mJupyter cannot be started. Error attempting to locate Jupyter: Running cells requires jupyter and notebook package.\n",
      "\u001b[1;31mRun the following command to install 'jupyter and notebook' into the Python environment. \n",
      "\u001b[1;31mCommand: 'python -m pip install jupyter notebook -U\n",
      "\u001b[1;31mor\n",
      "\u001b[1;31mconda install jupyter notebook -U'\n",
      "\u001b[1;31mClick <a href='https://aka.ms/installJupyterForVSCode'>here</a> for more info."
     ]
    }
   ],
   "source": [
    "# import modules and define functions\n",
    "from pyscf import gto, scf\n",
    "import pandas as pd\n",
    "import numpy as np\n",
    "import os\n",
    "from functools import reduce\n",
    "from scipy import linalg\n",
    "os.environ['OMP_NUM_THREADS'] = \"1\" "
   ]
  },
  {
   "cell_type": "code",
   "execution_count": null,
   "metadata": {},
   "outputs": [],
   "source": [
    "# build H2 with minimal basis\n",
    "atom = 'O 0 0 0; O 0 0 1.21'\n",
    "basis = '6-31g'\n",
    "# initiate a triplet O2\n",
    "o2_triplet = gto.Mole()\n",
    "o2_triplet.build(atom=atom,basis=basis,charge=0,spin=2)"
   ]
  },
  {
   "cell_type": "code",
   "execution_count": null,
   "metadata": {},
   "outputs": [],
   "source": [
    "# calculate UHF and ROHF energies of the triplet O2\n",
    "o2_0_3_uhf = scf.UHF(o2_triplet).run()\n",
    "o2_0_3_rohf = scf.ROHF(o2_triplet).run()"
   ]
  },
  {
   "cell_type": "code",
   "execution_count": null,
   "metadata": {},
   "outputs": [],
   "source": [
    "# Energy differences\n",
    "delE_0_3_U_RO = (o2_0_3_uhf.e_tot - o2_0_3_rohf.e_tot) * 627.509\n",
    "print('The UHF energy is lower than the ROHF energy by %s for O2_0_3' %(round(delE_0_3_U_RO, 2)))"
   ]
  },
  {
   "cell_type": "code",
   "execution_count": null,
   "metadata": {},
   "outputs": [],
   "source": [
    "# S^2 values for various orbitals\n",
    "print('The <S^2> value for UHF O2_0_3 is %.2f' %(o2_0_3_uhf.spin_square()[0]))\n",
    "print('The <S^2> value for ROHF O2_0_3 is %.2f' %(o2_0_3_rohf.spin_square()[0]))"
   ]
  },
  {
   "cell_type": "code",
   "execution_count": null,
   "metadata": {},
   "outputs": [],
   "source": [
    "# S is the overlap matrix among phi_a's and phi_b's of the size MxM, e.g. S12 = <phi_a_1|phi_b_2>\n",
    "# M is the total number of basis functions, i.e. 8 BFs from O0 and 8 BFs from O1.\n",
    "S = o2_0_3_uhf.get_ovlp()\n",
    "# mo_coeff is the mo coefficients of the size 2xMxM. 2 is for alpha and beta orbitals.\n",
    "mo_coeff = o2_0_3_uhf.mo_coeff\n",
    "# mo_occ is the mo occupation matrix of the size 2xM. 2 is for alpha and beta orbitals.\n",
    "mo_occ = o2_0_3_uhf.mo_occ\n",
    "\n",
    "# define the range of summation, i.e. \\Sigma_1_Na(\\Sigma_1_Nb(c_ij_a.T*Sij*c_ij_b)\n",
    "mo = (mo_coeff[0][:,mo_occ[0]>0], mo_coeff[1][:,mo_occ[1]>0])\n",
    "# mo coefficiants for the occupied alpha and beta orbitals, respectively.\n",
    "mo_a, mo_b = mo\n",
    "# get the number of occupied orbitals for alpha and beta.\n",
    "nocc_a = mo_a.shape[1]\n",
    "nocc_b = mo_b.shape[1]\n",
    "# obtain S^(alphabeta)_ij\n",
    "s = reduce(np.dot, (mo_a.conj().T, S, mo_b))\n",
    "# calcualate Nb - \\Sigma_1_Na(\\Sigma_1_Nb(c_ij_a.T*Sij*c_ij_b), or the amount of spin contamination\n",
    "S2_corr = np.sum(mo_occ[1]) - np.sum(np.dot(s.T, s))\n",
    "print(S2_corr)"
   ]
  },
  {
   "cell_type": "code",
   "execution_count": null,
   "metadata": {},
   "outputs": [],
   "source": [
    "# orbital energy and occupations\n",
    "o2_0_3_uhf.analyze(verbose=3)"
   ]
  },
  {
   "cell_type": "code",
   "execution_count": null,
   "metadata": {},
   "outputs": [],
   "source": [
    "# orbital energy and occupations\n",
    "o2_0_3_rohf.analyze(verbose=3)"
   ]
  },
  {
   "cell_type": "code",
   "execution_count": null,
   "metadata": {},
   "outputs": [],
   "source": [
    "# orbital energy and occupations\n",
    "o2_0_1_uhf.analyze(verbose=3)"
   ]
  },
  {
   "cell_type": "code",
   "execution_count": null,
   "metadata": {},
   "outputs": [],
   "source": [
    "# orbital energy and occupations\n",
    "o2_0_1_rohf.analyze(verbose=3)"
   ]
  },
  {
   "cell_type": "code",
   "execution_count": null,
   "metadata": {},
   "outputs": [],
   "source": [
    "# orbital energy and occupations\n",
    "o2_0_1_rhf.analyze(verbose=3)"
   ]
  },
  {
   "cell_type": "code",
   "execution_count": null,
   "metadata": {},
   "outputs": [],
   "source": []
  }
 ],
 "metadata": {
  "kernelspec": {
   "display_name": "Python 3",
   "language": "python",
   "name": "python3"
  },
  "language_info": {
   "codemirror_mode": {
    "name": "ipython",
    "version": 3
   },
   "file_extension": ".py",
   "mimetype": "text/x-python",
   "name": "python",
   "nbconvert_exporter": "python",
   "pygments_lexer": "ipython3",
   "version": "3.9.5"
  },
  "vscode": {
   "interpreter": {
    "hash": "497509e79bc79f8a70294a24f570c38ebc88c08592cfbd2e6af53bc8088cf9ae"
   }
  }
 },
 "nbformat": 4,
 "nbformat_minor": 2
}
