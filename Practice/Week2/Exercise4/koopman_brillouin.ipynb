{
 "cells": [
  {
   "cell_type": "code",
   "execution_count": 6,
   "metadata": {},
   "outputs": [],
   "source": [
    "# import modules and define functions\n",
    "from pyscf import gto, scf, dft\n",
    "from pyscf.geomopt.geometric_solver import optimize\n",
    "import pandas as pd\n",
    "import numpy as np\n",
    "import os\n",
    "from functools import reduce\n",
    "os.environ['OMP_NUM_THREADS'] = \"1\" "
   ]
  },
  {
   "attachments": {},
   "cell_type": "markdown",
   "metadata": {},
   "source": [
    "# Koopman's theorem"
   ]
  },
  {
   "cell_type": "code",
   "execution_count": 7,
   "metadata": {},
   "outputs": [
    {
     "data": {
      "text/plain": [
       "<pyscf.gto.mole.Mole at 0x7fb0c048ff50>"
      ]
     },
     "execution_count": 7,
     "metadata": {},
     "output_type": "execute_result"
    }
   ],
   "source": [
    "# build H2 with minimal basis\n",
    "atom = 'H 0 0 0; H 0 0 0.74'\n",
    "basis = 'def2-qzvpp'\n",
    "h2_0_1 = gto.Mole()\n",
    "h2_0_1.build(atom=atom,basis=basis,charge=0,spin=0)"
   ]
  },
  {
   "cell_type": "code",
   "execution_count": 8,
   "metadata": {},
   "outputs": [
    {
     "name": "stdout",
     "output_type": "stream",
     "text": [
      "converged SCF energy = -1.13356268665593  <S^2> = 1.5787371e-13  2S+1 = 1\n"
     ]
    }
   ],
   "source": [
    "# SCF calculations\n",
    "# HF\n",
    "h2_0_1_uhf = scf.UHF(h2_0_1).run()"
   ]
  },
  {
   "cell_type": "code",
   "execution_count": 9,
   "metadata": {},
   "outputs": [
    {
     "name": "stdout",
     "output_type": "stream",
     "text": [
      "HOMO energy of H2 at HF level is -0.5949 Eh\n"
     ]
    }
   ],
   "source": [
    "# Koopman's IP for H2\n",
    "mo_occ = h2_0_1_uhf.mo_occ\n",
    "mo_energy = h2_0_1_uhf.mo_energy\n",
    "e_homo_h2 = mo_energy[mo_occ>0][-1]\n",
    "print('HOMO energy of H2 at HF level is %.4f Eh' %(e_homo_h2))"
   ]
  },
  {
   "cell_type": "code",
   "execution_count": 10,
   "metadata": {},
   "outputs": [
    {
     "name": "stdout",
     "output_type": "stream",
     "text": [
      "converged SCF energy = -1.13356268665593  <S^2> = 1.5787371e-13  2S+1 = 1\n",
      "converged SCF energy = -0.569681447884232  <S^2> = 0.75  2S+1 = 2\n",
      "Ionization potential calculated from e_diff between H2 and H2+ is -0.5639 Eh\n"
     ]
    }
   ],
   "source": [
    "# calculate IP for H2\n",
    "h2_0_1_uhf = scf.UHF(gto.Mole().build(atom=atom,basis=basis,charge=0,spin=0)).run()\n",
    "h2_1_2_uhf = scf.UHF(gto.Mole().build(atom=atom,basis=basis,charge=1,spin=1)).run()\n",
    "s2_h2 = h2_1_2_uhf.spin_square()[0]\n",
    "IP_H2 = (h2_0_1_uhf.e_tot - h2_1_2_uhf.e_tot)\n",
    "print('Ionization potential calculated from e_diff between H2 and H2+ is %.4f Eh' %(IP_H2))"
   ]
  },
  {
   "cell_type": "code",
   "execution_count": 11,
   "metadata": {},
   "outputs": [
    {
     "name": "stdout",
     "output_type": "stream",
     "text": [
      "converged SCF energy = -112.790032352633  <S^2> = 4.2877701e-11  2S+1 = 1\n",
      "converged SCF energy = -112.309872795567  <S^2> = 1.0136161  2S+1 = 2.2482136\n",
      "converged SCF energy = -108.992256057247  <S^2> = 1.018563e-11  2S+1 = 1\n",
      "converged SCF energy = -108.418008939501  <S^2> = 0.76732342  2S+1 = 2.017249\n"
     ]
    }
   ],
   "source": [
    "# calculate MO and IP for CO and N2\n",
    "# CO\n",
    "co_0_1 = gto.Mole().build(atom='C 0 0 0; O 0 0 1.13',basis=basis,charge=0,spin=0)\n",
    "co_1_2 = gto.Mole().build(atom='C 0 0 0; O 0 0 1.13',basis=basis,charge=1,spin=1)\n",
    "co_0_1_uhf = scf.UHF(co_0_1).run()\n",
    "co_1_2_uhf = scf.UHF(co_1_2).run()\n",
    "s2_co = co_1_2_uhf.spin_square()[0]\n",
    "mo_occ = co_0_1_uhf.mo_occ\n",
    "mo_energy = co_0_1_uhf.mo_energy\n",
    "e_homo_co = mo_energy[mo_occ>0][-1]\n",
    "IP_CO = (co_0_1_uhf.e_tot - co_1_2_uhf.e_tot)\n",
    "# N2\n",
    "# calculate MO and IP for CO and N2\n",
    "n2_0_1 = gto.Mole().build(atom='N 0 0 0; N 0 0 1.098',basis=basis,charge=0,spin=0)\n",
    "n2_1_2 = gto.Mole().build(atom='N 0 0 0; N 0 0 1.098',basis=basis,charge=1,spin=1)\n",
    "n2_0_1_uhf = scf.UHF(n2_0_1).run()\n",
    "n2_1_2_uhf = scf.UHF(n2_1_2).run()\n",
    "s2_n2 = n2_1_2_uhf.spin_square()[0]\n",
    "mo_occ = n2_0_1_uhf.mo_occ\n",
    "mo_energy = n2_0_1_uhf.mo_energy\n",
    "e_homo_n2 = mo_energy[mo_occ>0][-1]\n",
    "IP_N2 = n2_0_1_uhf.e_tot - n2_1_2_uhf.e_tot"
   ]
  },
  {
   "cell_type": "code",
   "execution_count": 26,
   "metadata": {},
   "outputs": [
    {
     "name": "stdout",
     "output_type": "stream",
     "text": [
      "  Molecules   Expt  Koopman     IP  <S^2>\n",
      "0        H₂  0.584   -0.595 -0.564  0.750\n",
      "1        CO  0.510   -0.555 -0.480  1.014\n",
      "2        N₂  0.573   -0.613 -0.574  0.767\n"
     ]
    }
   ],
   "source": [
    "data = [['H\\u2082', '0.584', e_homo_h2, IP_H2, s2_h2],\n",
    "        ['CO','0.510', e_homo_co, IP_CO, s2_co],\n",
    "        ['N\\u2082','0.573', e_homo_n2, IP_N2, s2_n2]]\n",
    "pd.set_option('display.float_format', lambda x: '%.3f' % x)\n",
    "print(pd.DataFrame(data, columns=['Molecules', 'Expt', 'Koopman', 'IP', '<S^2>']))"
   ]
  },
  {
   "attachments": {},
   "cell_type": "markdown",
   "metadata": {},
   "source": [
    "# Brillouin theorem"
   ]
  },
  {
   "cell_type": "code",
   "execution_count": 13,
   "metadata": {},
   "outputs": [
    {
     "name": "stdout",
     "output_type": "stream",
     "text": [
      "converged SCF energy = -1.12675531719693\n"
     ]
    }
   ],
   "source": [
    "# build H2 with minimal basis\n",
    "atom = 'H 0 0 0; H 0 0 0.74'\n",
    "basis = '6-31g'\n",
    "h2_0_1 = gto.Mole()\n",
    "h2_0_1.build(atom=atom,basis=basis,charge=0,spin=0)\n",
    "h2_0_1_rhf = scf.RHF(h2_0_1).run()"
   ]
  },
  {
   "cell_type": "code",
   "execution_count": 14,
   "metadata": {},
   "outputs": [],
   "source": [
    "# get the mo_coeffs and the 2e and fock matrix elements\n",
    "mo_coeff = h2_0_1_rhf.mo_coeff\n",
    "mo_occ = h2_0_1_rhf.mo_occ\n",
    "h = h2_0_1_rhf.get_hcore()\n",
    "veff = h2_0_1_rhf.get_veff()\n",
    "f = h2_0_1_rhf.get_fock()"
   ]
  },
  {
   "cell_type": "code",
   "execution_count": 15,
   "metadata": {},
   "outputs": [],
   "source": [
    "# get H and G\n",
    "F = reduce(lambda a,b: np.dot(a,b), [mo_coeff.T, f, mo_coeff])"
   ]
  },
  {
   "cell_type": "code",
   "execution_count": 16,
   "metadata": {},
   "outputs": [
    {
     "name": "stdout",
     "output_type": "stream",
     "text": [
      "          ψ0        ψ1        ψ2       ψ3\n",
      "ψ0 -0.595817 -0.000000 -0.000000 0.000000\n",
      "ψ1 -0.000000  0.238473 -0.000000 0.000000\n",
      "ψ2 -0.000000 -0.000000  0.774723 0.000000\n",
      "ψ3  0.000000  0.000000  0.000000 1.404412\n"
     ]
    }
   ],
   "source": [
    "colnames = ['\\u03c8' + '%s' %(i) for i in range(F.shape[0])]\n",
    "pd.set_option('display.chop_threshold', 0.000001)\n",
    "pd.set_option('display.float_format', lambda x: '%.6f' % x)\n",
    "df = pd.DataFrame(F, columns=colnames, index=colnames)\n",
    "print(df)\n"
   ]
  },
  {
   "cell_type": "code",
   "execution_count": null,
   "metadata": {},
   "outputs": [],
   "source": []
  }
 ],
 "metadata": {
  "kernelspec": {
   "display_name": "Python 3",
   "language": "python",
   "name": "python3"
  },
  "language_info": {
   "codemirror_mode": {
    "name": "ipython",
    "version": 3
   },
   "file_extension": ".py",
   "mimetype": "text/x-python",
   "name": "python",
   "nbconvert_exporter": "python",
   "pygments_lexer": "ipython3",
   "version": "3.7.10"
  },
  "vscode": {
   "interpreter": {
    "hash": "497509e79bc79f8a70294a24f570c38ebc88c08592cfbd2e6af53bc8088cf9ae"
   }
  }
 },
 "nbformat": 4,
 "nbformat_minor": 2
}
