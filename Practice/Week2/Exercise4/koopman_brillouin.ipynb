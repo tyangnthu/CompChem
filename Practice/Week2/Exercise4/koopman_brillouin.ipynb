{
 "cells": [
  {
   "cell_type": "code",
   "execution_count": null,
   "metadata": {},
   "outputs": [],
   "source": [
    "# import modules and define functions\n",
    "from pyscf import gto, scf, dft\n",
    "import pandas as pd\n",
    "import numpy as np\n",
    "import os\n",
    "from functools import reduce\n",
    "os.environ['OMP_NUM_THREADS'] = \"1\" "
   ]
  },
  {
   "attachments": {},
   "cell_type": "markdown",
   "metadata": {},
   "source": [
    "# Koopman's theorem"
   ]
  },
  {
   "cell_type": "code",
   "execution_count": null,
   "metadata": {},
   "outputs": [],
   "source": [
    "# build H2 with minimal basis\n",
    "atom = 'H 0 0 0; H 0 0 0.74'\n",
    "basis = 'def2-qzvpp'\n",
    "h2_0_1 = gto.Mole()\n",
    "h2_0_1.build(atom=atom,basis=basis,charge=0,spin=0)"
   ]
  },
  {
   "cell_type": "code",
   "execution_count": null,
   "metadata": {},
   "outputs": [],
   "source": [
    "# SCF calculations\n",
    "# HF\n",
    "h2_0_1_uhf = scf.UHF(h2_0_1).run()"
   ]
  },
  {
   "cell_type": "code",
   "execution_count": null,
   "metadata": {},
   "outputs": [],
   "source": [
    "# Koopman's IP for H2\n",
    "mo_occ = h2_0_1_uhf.mo_occ\n",
    "mo_energy = h2_0_1_uhf.mo_energy\n",
    "e_homo_h2 = mo_energy[mo_occ>0][-1]\n",
    "print('HOMO energy of H2 at HF level is %.4f Eh' %(e_homo_h2))"
   ]
  },
  {
   "cell_type": "code",
   "execution_count": null,
   "metadata": {},
   "outputs": [],
   "source": [
    "# calculate IP for H2\n",
    "h2_0_1_uhf = scf.UHF(gto.Mole().build(atom=atom,basis=basis,charge=0,spin=0)).run()\n",
    "h2_1_2_uhf = scf.UHF(gto.Mole().build(atom=atom,basis=basis,charge=1,spin=1)).run()\n",
    "s2_h2 = h2_1_2_uhf.spin_square()[0]\n",
    "IP_H2 = (h2_0_1_uhf.e_tot - h2_1_2_uhf.e_tot)\n",
    "print('Ionization potential calculated from e_diff between H2 and H2+ is %.4f Eh' %(IP_H2))"
   ]
  },
  {
   "cell_type": "code",
   "execution_count": null,
   "metadata": {},
   "outputs": [],
   "source": [
    "# calculate MO and IP for CO and N2\n",
    "# CO\n",
    "co_0_1 = gto.Mole().build(atom='C 0 0 0; O 0 0 1.13',basis=basis,charge=0,spin=0)\n",
    "co_1_2 = gto.Mole().build(atom='C 0 0 0; O 0 0 1.13',basis=basis,charge=1,spin=1)\n",
    "co_0_1_uhf = scf.UHF(co_0_1).run()\n",
    "co_1_2_uhf = scf.UHF(co_1_2).run()\n",
    "s2_co = co_1_2_uhf.spin_square()[0]\n",
    "mo_occ = co_0_1_uhf.mo_occ\n",
    "mo_energy = co_0_1_uhf.mo_energy\n",
    "e_homo_co = mo_energy[mo_occ>0][-1]\n",
    "IP_CO = (co_0_1_uhf.e_tot - co_1_2_uhf.e_tot)\n",
    "# N2\n",
    "# calculate MO and IP for CO and N2\n",
    "n2_0_1 = gto.Mole().build(atom='N 0 0 0; N 0 0 1.098',basis=basis,charge=0,spin=0)\n",
    "n2_1_2 = gto.Mole().build(atom='N 0 0 0; N 0 0 1.098',basis=basis,charge=1,spin=1)\n",
    "n2_0_1_uhf = scf.UHF(n2_0_1).run()\n",
    "n2_1_2_uhf = scf.UHF(n2_1_2).run()\n",
    "s2_n2 = n2_1_2_uhf.spin_square()[0]\n",
    "mo_occ = n2_0_1_uhf.mo_occ\n",
    "mo_energy = n2_0_1_uhf.mo_energy\n",
    "e_homo_n2 = mo_energy[mo_occ>0][-1]\n",
    "IP_N2 = n2_0_1_uhf.e_tot - n2_1_2_uhf.e_tot"
   ]
  },
  {
   "cell_type": "code",
   "execution_count": null,
   "metadata": {},
   "outputs": [],
   "source": [
    "data = [['H\\u2082', '0.584', e_homo_h2, IP_H2, s2_h2],\n",
    "        ['CO','0.510', e_homo_co, IP_CO, s2_co],\n",
    "        ['N\\u2082','0.573', e_homo_n2, IP_N2, s2_n2]]\n",
    "pd.set_option('display.float_format', lambda x: '%.3f' % x)\n",
    "print(pd.DataFrame(data, columns=['Molecules', 'Expt', 'Koopman', 'IP', '<S^2>']))"
   ]
  },
  {
   "attachments": {},
   "cell_type": "markdown",
   "metadata": {},
   "source": [
    "# Brillouin theorem"
   ]
  },
  {
   "cell_type": "code",
   "execution_count": null,
   "metadata": {},
   "outputs": [],
   "source": [
    "# build H2 with minimal basis\n",
    "atom = 'H 0 0 0; H 0 0 0.74'\n",
    "basis = '6-31g'\n",
    "h2_0_1 = gto.Mole()\n",
    "h2_0_1.build(atom=atom,basis=basis,charge=0,spin=0)\n",
    "h2_0_1_rhf = scf.RHF(h2_0_1).run()"
   ]
  },
  {
   "cell_type": "code",
   "execution_count": null,
   "metadata": {},
   "outputs": [],
   "source": [
    "# get the mo_coeffs and the 2e and fock matrix elements\n",
    "mo_coeff = h2_0_1_rhf.mo_coeff\n",
    "mo_occ = h2_0_1_rhf.mo_occ\n",
    "h = h2_0_1_rhf.get_hcore()\n",
    "veff = h2_0_1_rhf.get_veff()\n",
    "f = h2_0_1_rhf.get_fock()"
   ]
  },
  {
   "cell_type": "code",
   "execution_count": null,
   "metadata": {},
   "outputs": [],
   "source": [
    "# get H and G\n",
    "F = reduce(lambda a,b: np.dot(a,b), [mo_coeff.T, f, mo_coeff])"
   ]
  },
  {
   "cell_type": "code",
   "execution_count": null,
   "metadata": {},
   "outputs": [],
   "source": [
    "colnames = ['\\u03c8' + '%s' %(i) for i in range(F.shape[0])]\n",
    "pd.set_option('display.chop_threshold', 0.000001)\n",
    "pd.set_option('display.float_format', lambda x: '%.6f' % x)\n",
    "df = pd.DataFrame(F, columns=colnames, index=colnames)\n",
    "print(df)\n"
   ]
  },
  {
   "cell_type": "code",
   "execution_count": null,
   "metadata": {},
   "outputs": [],
   "source": []
  }
 ],
 "metadata": {
  "kernelspec": {
   "display_name": "Python 3",
   "language": "python",
   "name": "python3"
  },
  "language_info": {
   "codemirror_mode": {
    "name": "ipython",
    "version": 3
   },
   "file_extension": ".py",
   "mimetype": "text/x-python",
   "name": "python",
   "nbconvert_exporter": "python",
   "pygments_lexer": "ipython3",
   "version": "3.7.10"
  },
  "vscode": {
   "interpreter": {
    "hash": "497509e79bc79f8a70294a24f570c38ebc88c08592cfbd2e6af53bc8088cf9ae"
   }
  }
 },
 "nbformat": 4,
 "nbformat_minor": 2
}
