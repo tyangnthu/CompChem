{
 "cells": [
  {
   "cell_type": "code",
   "execution_count": null,
   "metadata": {},
   "outputs": [],
   "source": [
    "# import modules and define functions\n",
    "from pyscf import gto, scf\n",
    "import pandas as pd\n",
    "import numpy as np\n",
    "import os\n",
    "from matplotlib import pyplot as plt, ticker\n",
    "import matplotlib as mpl\n",
    "from functools import reduce\n",
    "os.environ['OMP_NUM_THREADS'] = \"1\"\n",
    "\n",
    "def make_rdm1(mo_coeff, mo_occ):\n",
    "    mocc = mo_coeff[:,mo_occ>0]\n",
    "    return np.dot(mocc*mo_occ[mo_occ>0], mocc.conj().T)"
   ]
  },
  {
   "cell_type": "code",
   "execution_count": null,
   "metadata": {},
   "outputs": [],
   "source": [
    "# build H2 with minimal basis\n",
    "atom = 'H 0 0 0; H 0 0 0.74' #{R_A}, {Z_A}\n",
    "basis = 'sto-3g' # {\\phi_\\mu}\n",
    "h2_0_1 = gto.Mole()\n",
    "h2_0_1.build(atom=atom,basis=basis,charge=0,spin=0)"
   ]
  },
  {
   "cell_type": "code",
   "execution_count": null,
   "metadata": {},
   "outputs": [],
   "source": [
    "# obtain the matrices that are defined as soon as the molecule is defined\n",
    "s1e = h2_0_1.intor_symmetric('int1e_ovlp') # S_\\mu\\nv\n",
    "t = h2_0_1.intor_symmetric('int1e_kin')\n",
    "en = h2_0_1.intor_symmetric('int1e_nuc')\n",
    "h1e = t + en # H^core_\\mu\\nv\n",
    "eri = h2_0_1.intor_symmetric('int2e') # (\\mu\\nu|\\lambda\\sigma)"
   ]
  },
  {
   "cell_type": "code",
   "execution_count": null,
   "metadata": {},
   "outputs": [],
   "source": [
    "# obtain F12s at different mo coefficients\n",
    "F12s = []\n",
    "c2s = []\n",
    "c1s = np.linspace(0,0.55,56)\n",
    "for c1 in c1s:\n",
    "    c2 = (1+(c1**2)*(s1e[0][1]**2-1)) ** 0.5 - c1*s1e[0][1]\n",
    "    c2s.append(c2)\n",
    "    mo_coeff = np.array([[c1, c1], [c2, -c2]])\n",
    "    mo_occ = np.array([2, 0])\n",
    "    dms = make_rdm1(mo_coeff, mo_occ) # calculate P\n",
    "    # initiate mean field calculations\n",
    "    h2_0_1_rhf = scf.RHF(h2_0_1)\n",
    "    # obtain the needed matrices\n",
    "    vhf = h2_0_1_rhf.get_veff(h2_0_1, dms)\n",
    "    H = reduce(lambda a,b: np.dot(a,b), [mo_coeff.T, h1e, mo_coeff]) # calculate H^core\n",
    "    V = reduce(lambda a,b: np.dot(a,b), [mo_coeff.T, vhf, mo_coeff]) # calculate G\n",
    "    F = H+V # calculate F\n",
    "    F12 = F[0][1]\n",
    "    F12s.append(F12)"
   ]
  },
  {
   "cell_type": "code",
   "execution_count": null,
   "metadata": {},
   "outputs": [],
   "source": [
    "# plot the change of F12 vs mo coefficient\n",
    "xlabel = 'c1**2+c1*c2*S12'\n",
    "ylabel = 'F12 / Eh'\n",
    "title = 'Off-diagonal of Fock matrix vs mo coefficient'\n",
    "mpl.rcParams['axes.linewidth'] = 3\n",
    "mpl.rcParams['xtick.major.size'] = 10\n",
    "mpl.rcParams['xtick.labelsize'] = 16\n",
    "mpl.rcParams['ytick.labelsize'] = 16\n",
    "mpl.rcParams['xtick.major.width'] = 3\n",
    "mpl.rcParams['ytick.major.size'] = 10\n",
    "mpl.rcParams['ytick.major.width'] = 3\n",
    "mpl.rcParams['xtick.minor.size'] = 5\n",
    "mpl.rcParams['xtick.minor.width'] = 3\n",
    "mpl.rcParams['ytick.minor.size'] = 5\n",
    "mpl.rcParams['ytick.minor.width'] = 3\n",
    "mpl.rcParams['xtick.direction'] = 'in'\n",
    "mpl.rcParams['ytick.direction'] = 'in'\n",
    "fig, ax = plt.subplots(figsize=(7,6))\n",
    "ax.xaxis.set_major_locator(ticker.MultipleLocator(0.2))\n",
    "ax.xaxis.set_minor_locator(ticker.MultipleLocator(0.1))\n",
    "ax.yaxis.set_major_locator(ticker.MultipleLocator(0.1))\n",
    "ax.yaxis.set_minor_locator(ticker.MultipleLocator(0.05))\n",
    "ax.set_ylim(0,0.4)\n",
    "ax.set_xlim(0,0.6)\n",
    "ax.set_xlabel(xlabel, fontsize=16)\n",
    "ax.set_ylabel(ylabel, fontsize=16)\n",
    "ax.set_title(title, fontsize=22)\n",
    "ax.scatter(c1s**2+c1s*c2s*s1e[0][1], F12s, color='k')\n",
    "fig.tight_layout()"
   ]
  }
 ],
 "metadata": {
  "kernelspec": {
   "display_name": "Python 3",
   "language": "python",
   "name": "python3"
  },
  "language_info": {
   "codemirror_mode": {
    "name": "ipython",
    "version": 3
   },
   "file_extension": ".py",
   "mimetype": "text/x-python",
   "name": "python",
   "nbconvert_exporter": "python",
   "pygments_lexer": "ipython3",
   "version": "3.7.10"
  },
  "vscode": {
   "interpreter": {
    "hash": "497509e79bc79f8a70294a24f570c38ebc88c08592cfbd2e6af53bc8088cf9ae"
   }
  }
 },
 "nbformat": 4,
 "nbformat_minor": 2
}
