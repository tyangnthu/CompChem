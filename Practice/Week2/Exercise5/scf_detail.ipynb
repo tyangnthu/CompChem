{
 "cells": [
  {
   "cell_type": "code",
   "execution_count": null,
   "metadata": {},
   "outputs": [],
   "source": [
    "# import modules and define functions\n",
    "from pyscf import gto, scf\n",
    "import pandas as pd\n",
    "import numpy as np\n",
    "from scipy import linalg\n",
    "import os\n",
    "from functools import reduce\n",
    "os.environ['OMP_NUM_THREADS'] = \"1\"\n",
    "\n",
    "def make_rdm1(mo_coeff, mo_occ):\n",
    "    mocc = mo_coeff[:,mo_occ>0]\n",
    "    return np.dot(mocc*mo_occ[mo_occ>0], mocc.conj().T)"
   ]
  },
  {
   "attachments": {},
   "cell_type": "markdown",
   "metadata": {},
   "source": [
    "# Following step 1, 2, and 3"
   ]
  },
  {
   "cell_type": "code",
   "execution_count": null,
   "metadata": {},
   "outputs": [],
   "source": [
    "# Step 1\n",
    "# build H2 with minimal basis\n",
    "atom = 'H 0 0 0; H 0 0 0.74' #{R_A}, {Z_A}\n",
    "basis = 'sto-3g' # {\\phi_\\mu}\n",
    "h2_0_1 = gto.Mole()\n",
    "h2_0_1.build(atom=atom,basis=basis,charge=0,spin=0)"
   ]
  },
  {
   "cell_type": "code",
   "execution_count": null,
   "metadata": {},
   "outputs": [],
   "source": [
    "# Step 2\n",
    "# obtain the matrices that are defined as soon as the molecule is defined\n",
    "s1e = h2_0_1.intor_symmetric('int1e_ovlp') # S_\\mu\\nv\n",
    "t = h2_0_1.intor_symmetric('int1e_kin')\n",
    "en = h2_0_1.intor_symmetric('int1e_nuc')\n",
    "h1e = t + en # H^core_\\mu\\nv\n",
    "eri = h2_0_1.intor_symmetric('int2e') # (\\mu\\nu|\\lambda\\sigma)"
   ]
  },
  {
   "cell_type": "code",
   "execution_count": null,
   "metadata": {},
   "outputs": [],
   "source": [
    "# Step 3\n",
    "# obtain transformation matrices\n",
    "evals, evecs = linalg.eig(s1e) # diagonalize S_\\mu\\nv\n",
    "U = np.array([evec/linalg.norm(evec) for evec in evecs.T]).T # obtain U\n",
    "X = np.array([U[:,i]/(evals[i] ** 0.5) for i in range(U.shape[1])]).T # X = U*s^-1/2"
   ]
  },
  {
   "attachments": {},
   "cell_type": "markdown",
   "metadata": {},
   "source": [
    "# Following step 3 to 6"
   ]
  },
  {
   "cell_type": "code",
   "execution_count": null,
   "metadata": {},
   "outputs": [],
   "source": [
    "# Step 4\n",
    "# obtain initial guess density matrix\n",
    "c1 = 0\n",
    "c2 = (1+(c1**2)*(s1e[0][1]**2-1)) ** 0.5 - c1*s1e[0][1]\n",
    "mo_coeff = np.array([[c1, c1], [c2, -c2]])\n",
    "mo_occ = np.array([2, 0])\n",
    "dms = make_rdm1(mo_coeff, mo_occ) # calculate P"
   ]
  },
  {
   "cell_type": "code",
   "execution_count": null,
   "metadata": {},
   "outputs": [],
   "source": [
    "# Step 5\n",
    "# initiate mean field calculations\n",
    "h2_0_1_rhf = scf.RHF(h2_0_1)\n",
    "# obtain the needed matrices\n",
    "vhf = h2_0_1_rhf.get_veff(h2_0_1, dms)\n",
    "H = reduce(lambda a,b: np.dot(a,b), [mo_coeff.T, h1e, mo_coeff]) # calculate H^core\n",
    "V = reduce(lambda a,b: np.dot(a,b), [mo_coeff.T, vhf, mo_coeff]) # calculate G\n",
    "# Fock matrix is essentially the sum of \n",
    "# the kinetic and potential energy of electron.\n",
    "# The off-diagonals reaching zero means that \n",
    "# the electrons arrive at the best configuration\n",
    "F = H+V # calculate F"
   ]
  },
  {
   "attachments": {},
   "cell_type": "markdown",
   "metadata": {},
   "source": [
    "# Following step 7 to 10"
   ]
  },
  {
   "cell_type": "code",
   "execution_count": null,
   "metadata": {},
   "outputs": [],
   "source": [
    "# Step 7\n",
    "# transform F by X\n",
    "F_prime = reduce(lambda a,b: np.dot(a,b), [X.T.conjugate(), F, X])\n"
   ]
  },
  {
   "cell_type": "code",
   "execution_count": null,
   "metadata": {},
   "outputs": [],
   "source": [
    "# Step 8\n",
    "# diagonalize F_prime to obtain C' and e\n",
    "e, C_prime = linalg.eig(F_prime) "
   ]
  },
  {
   "cell_type": "code",
   "execution_count": null,
   "metadata": {},
   "outputs": [],
   "source": [
    "# Step 9\n",
    "C = np.dot(X, C_prime) # calculate "
   ]
  },
  {
   "cell_type": "code",
   "execution_count": null,
   "metadata": {},
   "outputs": [],
   "source": [
    "# Step 10\n",
    "# obtain the new P\n",
    "mo_occ = np.array([2, 0])\n",
    "dms_new = make_rdm1(C, mo_occ)"
   ]
  },
  {
   "attachments": {},
   "cell_type": "markdown",
   "metadata": {},
   "source": [
    "# Step 12"
   ]
  },
  {
   "cell_type": "code",
   "execution_count": null,
   "metadata": {},
   "outputs": [],
   "source": [
    "vhf_new = h2_0_1_rhf.get_veff(h2_0_1, dms_new)\n",
    "H_new = reduce(lambda a,b: np.dot(a,b), [C.T, h1e, C]) # new H^core\n",
    "V_new = reduce(lambda a,b: np.dot(a,b), [C.T, vhf_new, C]) # new G\n",
    "F_new = H_new+V_new # new F\n",
    "mo_e, mo_coeff = linalg.eig(F_new) # obtain orbital energies\n",
    "H1e = np.sum(np.diagonal(H_new)[mo_occ>0])\n",
    "J2e = np.sum(np.diagonal(V_new)[mo_occ>0])\n",
    "E_ele = H1e*2+J2e # calculate electronic energy\n",
    "e_nuc = h2_0_1.get_enuc()\n",
    "E_tot = E_ele + e_nuc # calculate total energy\n",
    "print('Orbital energies are %s' %('. '.join(['MO%s:%.4f Eh' %(i, e) for i, e in enumerate(mo_e)])))\n",
    "print('Total electronic energy is %.4f Eh' %(E_ele))\n",
    "print('Total energy is %.4f Eh' %(E_tot))"
   ]
  },
  {
   "attachments": {},
   "cell_type": "markdown",
   "metadata": {},
   "source": [
    "# Compare to a coded SCF procedure"
   ]
  },
  {
   "cell_type": "code",
   "execution_count": null,
   "metadata": {},
   "outputs": [],
   "source": [
    "h2_0_1_rhf.run() # perform a coded SCF procedure\n",
    "mo_energy = h2_0_1_rhf.mo_energy # obtain MO energies\n",
    "e_elec = h2_0_1_rhf.energy_elec()[0] # obtain electronic energies\n",
    "e_tot = h2_0_1_rhf.e_tot # obtain total energy\n",
    "print('Orbital energies are %s' %('. '.join(['MO%s:%.4f Eh' %(i, e) for i, e in enumerate(mo_energy)])))\n",
    "print('Total electronic energy is %.4f Eh' %(e_elec))\n",
    "print('Total energy is %.4f Eh' %(e_tot))"
   ]
  }
 ],
 "metadata": {
  "kernelspec": {
   "display_name": "Python 3",
   "language": "python",
   "name": "python3"
  },
  "language_info": {
   "codemirror_mode": {
    "name": "ipython",
    "version": 3
   },
   "file_extension": ".py",
   "mimetype": "text/x-python",
   "name": "python",
   "nbconvert_exporter": "python",
   "pygments_lexer": "ipython3",
   "version": "3.7.10"
  },
  "vscode": {
   "interpreter": {
    "hash": "497509e79bc79f8a70294a24f570c38ebc88c08592cfbd2e6af53bc8088cf9ae"
   }
  }
 },
 "nbformat": 4,
 "nbformat_minor": 2
}
